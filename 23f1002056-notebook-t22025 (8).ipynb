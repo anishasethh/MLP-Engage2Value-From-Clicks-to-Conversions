{
 "cells": [
  {
   "cell_type": "markdown",
   "id": "f7badcd3",
   "metadata": {
    "papermill": {
     "duration": 0.016965,
     "end_time": "2025-07-27T18:19:07.002079",
     "exception": false,
     "start_time": "2025-07-27T18:19:06.985114",
     "status": "completed"
    },
    "tags": []
   },
   "source": [
    "# **1. Loading Data & Importing Relevant Libraries**"
   ]
  },
  {
   "cell_type": "code",
   "execution_count": 1,
   "id": "d43fd51b",
   "metadata": {
    "execution": {
     "iopub.execute_input": "2025-07-27T18:19:07.035700Z",
     "iopub.status.busy": "2025-07-27T18:19:07.035299Z",
     "iopub.status.idle": "2025-07-27T18:19:14.791737Z",
     "shell.execute_reply": "2025-07-27T18:19:14.790424Z"
    },
    "papermill": {
     "duration": 7.77499,
     "end_time": "2025-07-27T18:19:14.793617",
     "exception": false,
     "start_time": "2025-07-27T18:19:07.018627",
     "status": "completed"
    },
    "tags": []
   },
   "outputs": [],
   "source": [
    "import numpy as np \n",
    "import pandas as pd \n",
    "import seaborn as sns\n",
    "import matplotlib.pyplot as plt\n",
    "\n",
    "\n",
    "df_original=pd.read_csv(\"/kaggle/input/engage-2-value-from-clicks-to-conversions/train_data.csv\")\n",
    "df=df_original.copy()\n",
    "X1_test=pd.read_csv(\"/kaggle/input/engage-2-value-from-clicks-to-conversions/test_data.csv\")"
   ]
  },
  {
   "cell_type": "code",
   "execution_count": 2,
   "id": "e0ccdeb1",
   "metadata": {
    "execution": {
     "iopub.execute_input": "2025-07-27T18:19:14.843713Z",
     "iopub.status.busy": "2025-07-27T18:19:14.843391Z",
     "iopub.status.idle": "2025-07-27T18:19:14.850156Z",
     "shell.execute_reply": "2025-07-27T18:19:14.849039Z"
    },
    "papermill": {
     "duration": 0.033293,
     "end_time": "2025-07-27T18:19:14.851746",
     "exception": false,
     "start_time": "2025-07-27T18:19:14.818453",
     "status": "completed"
    },
    "tags": []
   },
   "outputs": [
    {
     "data": {
      "text/plain": [
       "(116023, 52)"
      ]
     },
     "execution_count": 2,
     "metadata": {},
     "output_type": "execute_result"
    }
   ],
   "source": [
    "df.shape"
   ]
  },
  {
   "cell_type": "code",
   "execution_count": 3,
   "id": "5aabb7b4",
   "metadata": {
    "execution": {
     "iopub.execute_input": "2025-07-27T18:19:14.885020Z",
     "iopub.status.busy": "2025-07-27T18:19:14.884671Z",
     "iopub.status.idle": "2025-07-27T18:19:14.891479Z",
     "shell.execute_reply": "2025-07-27T18:19:14.890489Z"
    },
    "papermill": {
     "duration": 0.025253,
     "end_time": "2025-07-27T18:19:14.893141",
     "exception": false,
     "start_time": "2025-07-27T18:19:14.867888",
     "status": "completed"
    },
    "tags": []
   },
   "outputs": [
    {
     "data": {
      "text/plain": [
       "(29006, 51)"
      ]
     },
     "execution_count": 3,
     "metadata": {},
     "output_type": "execute_result"
    }
   ],
   "source": [
    "X1_test.shape"
   ]
  },
  {
   "cell_type": "markdown",
   "id": "c10a8ce7",
   "metadata": {
    "papermill": {
     "duration": 0.014858,
     "end_time": "2025-07-27T18:19:14.923656",
     "exception": false,
     "start_time": "2025-07-27T18:19:14.908798",
     "status": "completed"
    },
    "tags": []
   },
   "source": [
    "# **2. EDA & Feature Engineering/Extraction (Part - 1)**"
   ]
  },
  {
   "cell_type": "code",
   "execution_count": 4,
   "id": "ec4643de",
   "metadata": {
    "execution": {
     "iopub.execute_input": "2025-07-27T18:19:14.954966Z",
     "iopub.status.busy": "2025-07-27T18:19:14.954671Z",
     "iopub.status.idle": "2025-07-27T18:19:15.002499Z",
     "shell.execute_reply": "2025-07-27T18:19:15.001627Z"
    },
    "papermill": {
     "duration": 0.065414,
     "end_time": "2025-07-27T18:19:15.004156",
     "exception": false,
     "start_time": "2025-07-27T18:19:14.938742",
     "status": "completed"
    },
    "tags": []
   },
   "outputs": [
    {
     "name": "stdout",
     "output_type": "stream",
     "text": [
      "Top 5 Columns of Training Dataset:\n"
     ]
    },
    {
     "name": "stderr",
     "output_type": "stream",
     "text": [
      "/usr/local/lib/python3.11/dist-packages/pandas/io/formats/format.py:1458: RuntimeWarning: invalid value encountered in greater\n",
      "  has_large_values = (abs_vals > 1e6).any()\n",
      "/usr/local/lib/python3.11/dist-packages/pandas/io/formats/format.py:1459: RuntimeWarning: invalid value encountered in less\n",
      "  has_small_values = ((abs_vals < 10 ** (-self.digits)) & (abs_vals > 0)).any()\n",
      "/usr/local/lib/python3.11/dist-packages/pandas/io/formats/format.py:1459: RuntimeWarning: invalid value encountered in greater\n",
      "  has_small_values = ((abs_vals < 10 ** (-self.digits)) & (abs_vals > 0)).any()\n"
     ]
    },
    {
     "data": {
      "text/html": [
       "<div>\n",
       "<style scoped>\n",
       "    .dataframe tbody tr th:only-of-type {\n",
       "        vertical-align: middle;\n",
       "    }\n",
       "\n",
       "    .dataframe tbody tr th {\n",
       "        vertical-align: top;\n",
       "    }\n",
       "\n",
       "    .dataframe thead th {\n",
       "        text-align: right;\n",
       "    }\n",
       "</style>\n",
       "<table border=\"1\" class=\"dataframe\">\n",
       "  <thead>\n",
       "    <tr style=\"text-align: right;\">\n",
       "      <th></th>\n",
       "      <th>trafficSource.isTrueDirect</th>\n",
       "      <th>purchaseValue</th>\n",
       "      <th>browser</th>\n",
       "      <th>device.screenResolution</th>\n",
       "      <th>trafficSource.adContent</th>\n",
       "      <th>trafficSource.keyword</th>\n",
       "      <th>screenSize</th>\n",
       "      <th>geoCluster</th>\n",
       "      <th>trafficSource.adwordsClickInfo.slot</th>\n",
       "      <th>device.mobileDeviceBranding</th>\n",
       "      <th>device.mobileInputSelector</th>\n",
       "      <th>userId</th>\n",
       "      <th>trafficSource.campaign</th>\n",
       "      <th>device.mobileDeviceMarketingName</th>\n",
       "      <th>geoNetwork.networkDomain</th>\n",
       "      <th>gclIdPresent</th>\n",
       "      <th>device.operatingSystemVersion</th>\n",
       "      <th>sessionNumber</th>\n",
       "      <th>device.flashVersion</th>\n",
       "      <th>geoNetwork.region</th>\n",
       "      <th>trafficSource</th>\n",
       "      <th>totals.visits</th>\n",
       "      <th>geoNetwork.networkLocation</th>\n",
       "      <th>sessionId</th>\n",
       "      <th>os</th>\n",
       "      <th>geoNetwork.subContinent</th>\n",
       "      <th>trafficSource.medium</th>\n",
       "      <th>trafficSource.adwordsClickInfo.isVideoAd</th>\n",
       "      <th>browserMajor</th>\n",
       "      <th>locationCountry</th>\n",
       "      <th>device.browserSize</th>\n",
       "      <th>trafficSource.adwordsClickInfo.adNetworkType</th>\n",
       "      <th>socialEngagementType</th>\n",
       "      <th>geoNetwork.city</th>\n",
       "      <th>trafficSource.adwordsClickInfo.page</th>\n",
       "      <th>geoNetwork.metro</th>\n",
       "      <th>pageViews</th>\n",
       "      <th>locationZone</th>\n",
       "      <th>device.mobileDeviceModel</th>\n",
       "      <th>trafficSource.referralPath</th>\n",
       "      <th>totals.bounces</th>\n",
       "      <th>date</th>\n",
       "      <th>device.language</th>\n",
       "      <th>deviceType</th>\n",
       "      <th>userChannel</th>\n",
       "      <th>device.browserVersion</th>\n",
       "      <th>totalHits</th>\n",
       "      <th>device.screenColors</th>\n",
       "      <th>sessionStart</th>\n",
       "      <th>geoNetwork.continent</th>\n",
       "      <th>device.isMobile</th>\n",
       "      <th>new_visits</th>\n",
       "    </tr>\n",
       "  </thead>\n",
       "  <tbody>\n",
       "    <tr>\n",
       "      <th>0</th>\n",
       "      <td>NaN</td>\n",
       "      <td>0.0</td>\n",
       "      <td>Edge</td>\n",
       "      <td>not available in demo dataset</td>\n",
       "      <td>NaN</td>\n",
       "      <td>NaN</td>\n",
       "      <td>medium</td>\n",
       "      <td>Region_2</td>\n",
       "      <td>NaN</td>\n",
       "      <td>not available in demo dataset</td>\n",
       "      <td>not available in demo dataset</td>\n",
       "      <td>61421</td>\n",
       "      <td>(not set)</td>\n",
       "      <td>not available in demo dataset</td>\n",
       "      <td>domain1</td>\n",
       "      <td>0</td>\n",
       "      <td>not available in demo dataset</td>\n",
       "      <td>1</td>\n",
       "      <td>not available in demo dataset</td>\n",
       "      <td>Washington</td>\n",
       "      <td>youtube.com</td>\n",
       "      <td>1</td>\n",
       "      <td>not available in demo dataset</td>\n",
       "      <td>1500100799</td>\n",
       "      <td>Windows</td>\n",
       "      <td>Northern America</td>\n",
       "      <td>referral</td>\n",
       "      <td>NaN</td>\n",
       "      <td>not available in demo dataset</td>\n",
       "      <td>United States</td>\n",
       "      <td>not available in demo dataset</td>\n",
       "      <td>NaN</td>\n",
       "      <td>Not Socially Engaged</td>\n",
       "      <td>Redmond</td>\n",
       "      <td>NaN</td>\n",
       "      <td>Seattle-Tacoma WA</td>\n",
       "      <td>1.0</td>\n",
       "      <td>8</td>\n",
       "      <td>not available in demo dataset</td>\n",
       "      <td>/intl/hr/yt/about/</td>\n",
       "      <td>1.0</td>\n",
       "      <td>20170714</td>\n",
       "      <td>not available in demo dataset</td>\n",
       "      <td>desktop</td>\n",
       "      <td>Social</td>\n",
       "      <td>not available in demo dataset</td>\n",
       "      <td>1</td>\n",
       "      <td>not available in demo dataset</td>\n",
       "      <td>1500100799</td>\n",
       "      <td>Americas</td>\n",
       "      <td>False</td>\n",
       "      <td>1.0</td>\n",
       "    </tr>\n",
       "    <tr>\n",
       "      <th>1</th>\n",
       "      <td>True</td>\n",
       "      <td>0.0</td>\n",
       "      <td>Chrome</td>\n",
       "      <td>not available in demo dataset</td>\n",
       "      <td>NaN</td>\n",
       "      <td>NaN</td>\n",
       "      <td>medium</td>\n",
       "      <td>Region_3</td>\n",
       "      <td>NaN</td>\n",
       "      <td>not available in demo dataset</td>\n",
       "      <td>not available in demo dataset</td>\n",
       "      <td>72287</td>\n",
       "      <td>(not set)</td>\n",
       "      <td>not available in demo dataset</td>\n",
       "      <td>domain3</td>\n",
       "      <td>0</td>\n",
       "      <td>not available in demo dataset</td>\n",
       "      <td>1</td>\n",
       "      <td>not available in demo dataset</td>\n",
       "      <td>California</td>\n",
       "      <td>(direct)</td>\n",
       "      <td>1</td>\n",
       "      <td>not available in demo dataset</td>\n",
       "      <td>1495262065</td>\n",
       "      <td>Macintosh</td>\n",
       "      <td>Northern America</td>\n",
       "      <td>(none)</td>\n",
       "      <td>NaN</td>\n",
       "      <td>not available in demo dataset</td>\n",
       "      <td>United States</td>\n",
       "      <td>not available in demo dataset</td>\n",
       "      <td>NaN</td>\n",
       "      <td>Not Socially Engaged</td>\n",
       "      <td>Mountain View</td>\n",
       "      <td>NaN</td>\n",
       "      <td>San Francisco-Oakland-San Jose CA</td>\n",
       "      <td>1.0</td>\n",
       "      <td>8</td>\n",
       "      <td>not available in demo dataset</td>\n",
       "      <td>NaN</td>\n",
       "      <td>1.0</td>\n",
       "      <td>20170519</td>\n",
       "      <td>not available in demo dataset</td>\n",
       "      <td>desktop</td>\n",
       "      <td>Direct</td>\n",
       "      <td>not available in demo dataset</td>\n",
       "      <td>1</td>\n",
       "      <td>not available in demo dataset</td>\n",
       "      <td>1495262065</td>\n",
       "      <td>Americas</td>\n",
       "      <td>False</td>\n",
       "      <td>1.0</td>\n",
       "    </tr>\n",
       "    <tr>\n",
       "      <th>2</th>\n",
       "      <td>True</td>\n",
       "      <td>0.0</td>\n",
       "      <td>Chrome</td>\n",
       "      <td>not available in demo dataset</td>\n",
       "      <td>NaN</td>\n",
       "      <td>(not provided)</td>\n",
       "      <td>medium</td>\n",
       "      <td>Region_2</td>\n",
       "      <td>NaN</td>\n",
       "      <td>not available in demo dataset</td>\n",
       "      <td>not available in demo dataset</td>\n",
       "      <td>25180</td>\n",
       "      <td>(not set)</td>\n",
       "      <td>not available in demo dataset</td>\n",
       "      <td>domain1</td>\n",
       "      <td>0</td>\n",
       "      <td>not available in demo dataset</td>\n",
       "      <td>2</td>\n",
       "      <td>not available in demo dataset</td>\n",
       "      <td>Lombardy</td>\n",
       "      <td>google</td>\n",
       "      <td>1</td>\n",
       "      <td>not available in demo dataset</td>\n",
       "      <td>1508510328</td>\n",
       "      <td>Windows</td>\n",
       "      <td>Southern Europe</td>\n",
       "      <td>organic</td>\n",
       "      <td>NaN</td>\n",
       "      <td>not available in demo dataset</td>\n",
       "      <td>Italy</td>\n",
       "      <td>not available in demo dataset</td>\n",
       "      <td>NaN</td>\n",
       "      <td>Not Socially Engaged</td>\n",
       "      <td>Milan</td>\n",
       "      <td>NaN</td>\n",
       "      <td>(not set)</td>\n",
       "      <td>6.0</td>\n",
       "      <td>8</td>\n",
       "      <td>not available in demo dataset</td>\n",
       "      <td>NaN</td>\n",
       "      <td>NaN</td>\n",
       "      <td>20171020</td>\n",
       "      <td>not available in demo dataset</td>\n",
       "      <td>desktop</td>\n",
       "      <td>Organic Search</td>\n",
       "      <td>not available in demo dataset</td>\n",
       "      <td>6</td>\n",
       "      <td>not available in demo dataset</td>\n",
       "      <td>1508510328</td>\n",
       "      <td>Europe</td>\n",
       "      <td>False</td>\n",
       "      <td>NaN</td>\n",
       "    </tr>\n",
       "    <tr>\n",
       "      <th>3</th>\n",
       "      <td>NaN</td>\n",
       "      <td>0.0</td>\n",
       "      <td>Internet Explorer</td>\n",
       "      <td>not available in demo dataset</td>\n",
       "      <td>NaN</td>\n",
       "      <td>NaN</td>\n",
       "      <td>medium</td>\n",
       "      <td>Region_4</td>\n",
       "      <td>NaN</td>\n",
       "      <td>not available in demo dataset</td>\n",
       "      <td>not available in demo dataset</td>\n",
       "      <td>41295</td>\n",
       "      <td>(not set)</td>\n",
       "      <td>not available in demo dataset</td>\n",
       "      <td>domain3</td>\n",
       "      <td>0</td>\n",
       "      <td>not available in demo dataset</td>\n",
       "      <td>1</td>\n",
       "      <td>not available in demo dataset</td>\n",
       "      <td>not available in demo dataset</td>\n",
       "      <td>youtube.com</td>\n",
       "      <td>1</td>\n",
       "      <td>not available in demo dataset</td>\n",
       "      <td>1483431838</td>\n",
       "      <td>Windows</td>\n",
       "      <td>Eastern Asia</td>\n",
       "      <td>referral</td>\n",
       "      <td>NaN</td>\n",
       "      <td>not available in demo dataset</td>\n",
       "      <td>Japan</td>\n",
       "      <td>not available in demo dataset</td>\n",
       "      <td>NaN</td>\n",
       "      <td>Not Socially Engaged</td>\n",
       "      <td>not available in demo dataset</td>\n",
       "      <td>NaN</td>\n",
       "      <td>not available in demo dataset</td>\n",
       "      <td>1.0</td>\n",
       "      <td>8</td>\n",
       "      <td>not available in demo dataset</td>\n",
       "      <td>/yt/about/ja/</td>\n",
       "      <td>1.0</td>\n",
       "      <td>20170103</td>\n",
       "      <td>not available in demo dataset</td>\n",
       "      <td>desktop</td>\n",
       "      <td>Social</td>\n",
       "      <td>not available in demo dataset</td>\n",
       "      <td>1</td>\n",
       "      <td>not available in demo dataset</td>\n",
       "      <td>1483431838</td>\n",
       "      <td>Asia</td>\n",
       "      <td>False</td>\n",
       "      <td>1.0</td>\n",
       "    </tr>\n",
       "    <tr>\n",
       "      <th>4</th>\n",
       "      <td>True</td>\n",
       "      <td>88950000.0</td>\n",
       "      <td>Chrome</td>\n",
       "      <td>not available in demo dataset</td>\n",
       "      <td>NaN</td>\n",
       "      <td>NaN</td>\n",
       "      <td>medium</td>\n",
       "      <td>Region_3</td>\n",
       "      <td>NaN</td>\n",
       "      <td>not available in demo dataset</td>\n",
       "      <td>not available in demo dataset</td>\n",
       "      <td>113697</td>\n",
       "      <td>(not set)</td>\n",
       "      <td>not available in demo dataset</td>\n",
       "      <td>domain1</td>\n",
       "      <td>0</td>\n",
       "      <td>not available in demo dataset</td>\n",
       "      <td>1</td>\n",
       "      <td>not available in demo dataset</td>\n",
       "      <td>not available in demo dataset</td>\n",
       "      <td>(direct)</td>\n",
       "      <td>1</td>\n",
       "      <td>not available in demo dataset</td>\n",
       "      <td>1475804633</td>\n",
       "      <td>Windows</td>\n",
       "      <td>Northern America</td>\n",
       "      <td>(none)</td>\n",
       "      <td>NaN</td>\n",
       "      <td>not available in demo dataset</td>\n",
       "      <td>United States</td>\n",
       "      <td>not available in demo dataset</td>\n",
       "      <td>NaN</td>\n",
       "      <td>Not Socially Engaged</td>\n",
       "      <td>not available in demo dataset</td>\n",
       "      <td>NaN</td>\n",
       "      <td>not available in demo dataset</td>\n",
       "      <td>54.0</td>\n",
       "      <td>8</td>\n",
       "      <td>not available in demo dataset</td>\n",
       "      <td>NaN</td>\n",
       "      <td>NaN</td>\n",
       "      <td>20161006</td>\n",
       "      <td>not available in demo dataset</td>\n",
       "      <td>desktop</td>\n",
       "      <td>Direct</td>\n",
       "      <td>not available in demo dataset</td>\n",
       "      <td>66</td>\n",
       "      <td>not available in demo dataset</td>\n",
       "      <td>1475804633</td>\n",
       "      <td>Americas</td>\n",
       "      <td>False</td>\n",
       "      <td>1.0</td>\n",
       "    </tr>\n",
       "  </tbody>\n",
       "</table>\n",
       "</div>"
      ],
      "text/plain": [
       "  trafficSource.isTrueDirect  purchaseValue            browser  \\\n",
       "0                        NaN            0.0               Edge   \n",
       "1                       True            0.0             Chrome   \n",
       "2                       True            0.0             Chrome   \n",
       "3                        NaN            0.0  Internet Explorer   \n",
       "4                       True     88950000.0             Chrome   \n",
       "\n",
       "         device.screenResolution trafficSource.adContent  \\\n",
       "0  not available in demo dataset                     NaN   \n",
       "1  not available in demo dataset                     NaN   \n",
       "2  not available in demo dataset                     NaN   \n",
       "3  not available in demo dataset                     NaN   \n",
       "4  not available in demo dataset                     NaN   \n",
       "\n",
       "  trafficSource.keyword screenSize geoCluster  \\\n",
       "0                   NaN     medium   Region_2   \n",
       "1                   NaN     medium   Region_3   \n",
       "2        (not provided)     medium   Region_2   \n",
       "3                   NaN     medium   Region_4   \n",
       "4                   NaN     medium   Region_3   \n",
       "\n",
       "  trafficSource.adwordsClickInfo.slot    device.mobileDeviceBranding  \\\n",
       "0                                 NaN  not available in demo dataset   \n",
       "1                                 NaN  not available in demo dataset   \n",
       "2                                 NaN  not available in demo dataset   \n",
       "3                                 NaN  not available in demo dataset   \n",
       "4                                 NaN  not available in demo dataset   \n",
       "\n",
       "      device.mobileInputSelector  userId trafficSource.campaign  \\\n",
       "0  not available in demo dataset   61421              (not set)   \n",
       "1  not available in demo dataset   72287              (not set)   \n",
       "2  not available in demo dataset   25180              (not set)   \n",
       "3  not available in demo dataset   41295              (not set)   \n",
       "4  not available in demo dataset  113697              (not set)   \n",
       "\n",
       "  device.mobileDeviceMarketingName geoNetwork.networkDomain  gclIdPresent  \\\n",
       "0    not available in demo dataset                  domain1             0   \n",
       "1    not available in demo dataset                  domain3             0   \n",
       "2    not available in demo dataset                  domain1             0   \n",
       "3    not available in demo dataset                  domain3             0   \n",
       "4    not available in demo dataset                  domain1             0   \n",
       "\n",
       "   device.operatingSystemVersion  sessionNumber  \\\n",
       "0  not available in demo dataset              1   \n",
       "1  not available in demo dataset              1   \n",
       "2  not available in demo dataset              2   \n",
       "3  not available in demo dataset              1   \n",
       "4  not available in demo dataset              1   \n",
       "\n",
       "             device.flashVersion              geoNetwork.region trafficSource  \\\n",
       "0  not available in demo dataset                     Washington   youtube.com   \n",
       "1  not available in demo dataset                     California      (direct)   \n",
       "2  not available in demo dataset                       Lombardy        google   \n",
       "3  not available in demo dataset  not available in demo dataset   youtube.com   \n",
       "4  not available in demo dataset  not available in demo dataset      (direct)   \n",
       "\n",
       "   totals.visits     geoNetwork.networkLocation   sessionId         os  \\\n",
       "0              1  not available in demo dataset  1500100799    Windows   \n",
       "1              1  not available in demo dataset  1495262065  Macintosh   \n",
       "2              1  not available in demo dataset  1508510328    Windows   \n",
       "3              1  not available in demo dataset  1483431838    Windows   \n",
       "4              1  not available in demo dataset  1475804633    Windows   \n",
       "\n",
       "  geoNetwork.subContinent trafficSource.medium  \\\n",
       "0        Northern America             referral   \n",
       "1        Northern America               (none)   \n",
       "2         Southern Europe              organic   \n",
       "3            Eastern Asia             referral   \n",
       "4        Northern America               (none)   \n",
       "\n",
       "  trafficSource.adwordsClickInfo.isVideoAd                   browserMajor  \\\n",
       "0                                      NaN  not available in demo dataset   \n",
       "1                                      NaN  not available in demo dataset   \n",
       "2                                      NaN  not available in demo dataset   \n",
       "3                                      NaN  not available in demo dataset   \n",
       "4                                      NaN  not available in demo dataset   \n",
       "\n",
       "  locationCountry             device.browserSize  \\\n",
       "0   United States  not available in demo dataset   \n",
       "1   United States  not available in demo dataset   \n",
       "2           Italy  not available in demo dataset   \n",
       "3           Japan  not available in demo dataset   \n",
       "4   United States  not available in demo dataset   \n",
       "\n",
       "  trafficSource.adwordsClickInfo.adNetworkType  socialEngagementType  \\\n",
       "0                                          NaN  Not Socially Engaged   \n",
       "1                                          NaN  Not Socially Engaged   \n",
       "2                                          NaN  Not Socially Engaged   \n",
       "3                                          NaN  Not Socially Engaged   \n",
       "4                                          NaN  Not Socially Engaged   \n",
       "\n",
       "                 geoNetwork.city  trafficSource.adwordsClickInfo.page  \\\n",
       "0                        Redmond                                  NaN   \n",
       "1                  Mountain View                                  NaN   \n",
       "2                          Milan                                  NaN   \n",
       "3  not available in demo dataset                                  NaN   \n",
       "4  not available in demo dataset                                  NaN   \n",
       "\n",
       "                    geoNetwork.metro  pageViews  locationZone  \\\n",
       "0                  Seattle-Tacoma WA        1.0             8   \n",
       "1  San Francisco-Oakland-San Jose CA        1.0             8   \n",
       "2                          (not set)        6.0             8   \n",
       "3      not available in demo dataset        1.0             8   \n",
       "4      not available in demo dataset       54.0             8   \n",
       "\n",
       "        device.mobileDeviceModel trafficSource.referralPath  totals.bounces  \\\n",
       "0  not available in demo dataset         /intl/hr/yt/about/             1.0   \n",
       "1  not available in demo dataset                        NaN             1.0   \n",
       "2  not available in demo dataset                        NaN             NaN   \n",
       "3  not available in demo dataset              /yt/about/ja/             1.0   \n",
       "4  not available in demo dataset                        NaN             NaN   \n",
       "\n",
       "       date                device.language deviceType     userChannel  \\\n",
       "0  20170714  not available in demo dataset    desktop          Social   \n",
       "1  20170519  not available in demo dataset    desktop          Direct   \n",
       "2  20171020  not available in demo dataset    desktop  Organic Search   \n",
       "3  20170103  not available in demo dataset    desktop          Social   \n",
       "4  20161006  not available in demo dataset    desktop          Direct   \n",
       "\n",
       "           device.browserVersion  totalHits            device.screenColors  \\\n",
       "0  not available in demo dataset          1  not available in demo dataset   \n",
       "1  not available in demo dataset          1  not available in demo dataset   \n",
       "2  not available in demo dataset          6  not available in demo dataset   \n",
       "3  not available in demo dataset          1  not available in demo dataset   \n",
       "4  not available in demo dataset         66  not available in demo dataset   \n",
       "\n",
       "   sessionStart geoNetwork.continent  device.isMobile  new_visits  \n",
       "0    1500100799             Americas            False         1.0  \n",
       "1    1495262065             Americas            False         1.0  \n",
       "2    1508510328               Europe            False         NaN  \n",
       "3    1483431838                 Asia            False         1.0  \n",
       "4    1475804633             Americas            False         1.0  "
      ]
     },
     "execution_count": 4,
     "metadata": {},
     "output_type": "execute_result"
    }
   ],
   "source": [
    "pd.set_option('display.max_columns', 60)\n",
    "print('Top 5 Columns of Training Dataset:')\n",
    "df.head()"
   ]
  },
  {
   "cell_type": "code",
   "execution_count": 5,
   "id": "4d5b7a3a",
   "metadata": {
    "execution": {
     "iopub.execute_input": "2025-07-27T18:19:15.037383Z",
     "iopub.status.busy": "2025-07-27T18:19:15.037100Z",
     "iopub.status.idle": "2025-07-27T18:19:15.145836Z",
     "shell.execute_reply": "2025-07-27T18:19:15.144764Z"
    },
    "papermill": {
     "duration": 0.127009,
     "end_time": "2025-07-27T18:19:15.147375",
     "exception": false,
     "start_time": "2025-07-27T18:19:15.020366",
     "status": "completed"
    },
    "tags": []
   },
   "outputs": [
    {
     "data": {
      "text/html": [
       "<div>\n",
       "<style scoped>\n",
       "    .dataframe tbody tr th:only-of-type {\n",
       "        vertical-align: middle;\n",
       "    }\n",
       "\n",
       "    .dataframe tbody tr th {\n",
       "        vertical-align: top;\n",
       "    }\n",
       "\n",
       "    .dataframe thead th {\n",
       "        text-align: right;\n",
       "    }\n",
       "</style>\n",
       "<table border=\"1\" class=\"dataframe\">\n",
       "  <thead>\n",
       "    <tr style=\"text-align: right;\">\n",
       "      <th></th>\n",
       "      <th>purchaseValue</th>\n",
       "      <th>userId</th>\n",
       "      <th>gclIdPresent</th>\n",
       "      <th>sessionNumber</th>\n",
       "      <th>totals.visits</th>\n",
       "      <th>sessionId</th>\n",
       "      <th>trafficSource.adwordsClickInfo.page</th>\n",
       "      <th>pageViews</th>\n",
       "      <th>locationZone</th>\n",
       "      <th>totals.bounces</th>\n",
       "      <th>date</th>\n",
       "      <th>totalHits</th>\n",
       "      <th>sessionStart</th>\n",
       "      <th>new_visits</th>\n",
       "    </tr>\n",
       "  </thead>\n",
       "  <tbody>\n",
       "    <tr>\n",
       "      <th>count</th>\n",
       "      <td>1.160230e+05</td>\n",
       "      <td>116023.000000</td>\n",
       "      <td>116023.000000</td>\n",
       "      <td>116023.000000</td>\n",
       "      <td>116023.0</td>\n",
       "      <td>1.160230e+05</td>\n",
       "      <td>4281.000000</td>\n",
       "      <td>116015.000000</td>\n",
       "      <td>116023.0</td>\n",
       "      <td>47148.0</td>\n",
       "      <td>1.160230e+05</td>\n",
       "      <td>116023.000000</td>\n",
       "      <td>1.160230e+05</td>\n",
       "      <td>80518.0</td>\n",
       "    </tr>\n",
       "    <tr>\n",
       "      <th>mean</th>\n",
       "      <td>2.656393e+07</td>\n",
       "      <td>61094.356231</td>\n",
       "      <td>0.037019</td>\n",
       "      <td>2.691311</td>\n",
       "      <td>1.0</td>\n",
       "      <td>1.493429e+09</td>\n",
       "      <td>1.019622</td>\n",
       "      <td>8.412352</td>\n",
       "      <td>8.0</td>\n",
       "      <td>1.0</td>\n",
       "      <td>2.016860e+07</td>\n",
       "      <td>10.607371</td>\n",
       "      <td>1.493429e+09</td>\n",
       "      <td>1.0</td>\n",
       "    </tr>\n",
       "    <tr>\n",
       "      <th>std</th>\n",
       "      <td>2.051825e+08</td>\n",
       "      <td>35240.756859</td>\n",
       "      <td>0.188808</td>\n",
       "      <td>10.451613</td>\n",
       "      <td>0.0</td>\n",
       "      <td>1.528798e+07</td>\n",
       "      <td>0.174517</td>\n",
       "      <td>14.344937</td>\n",
       "      <td>0.0</td>\n",
       "      <td>0.0</td>\n",
       "      <td>6.182322e+03</td>\n",
       "      <td>19.629576</td>\n",
       "      <td>1.528798e+07</td>\n",
       "      <td>0.0</td>\n",
       "    </tr>\n",
       "    <tr>\n",
       "      <th>min</th>\n",
       "      <td>0.000000e+00</td>\n",
       "      <td>0.000000</td>\n",
       "      <td>0.000000</td>\n",
       "      <td>1.000000</td>\n",
       "      <td>1.0</td>\n",
       "      <td>1.470035e+09</td>\n",
       "      <td>1.000000</td>\n",
       "      <td>1.000000</td>\n",
       "      <td>8.0</td>\n",
       "      <td>1.0</td>\n",
       "      <td>2.016080e+07</td>\n",
       "      <td>1.000000</td>\n",
       "      <td>1.470035e+09</td>\n",
       "      <td>1.0</td>\n",
       "    </tr>\n",
       "    <tr>\n",
       "      <th>25%</th>\n",
       "      <td>0.000000e+00</td>\n",
       "      <td>30603.500000</td>\n",
       "      <td>0.000000</td>\n",
       "      <td>1.000000</td>\n",
       "      <td>1.0</td>\n",
       "      <td>1.480066e+09</td>\n",
       "      <td>1.000000</td>\n",
       "      <td>1.000000</td>\n",
       "      <td>8.0</td>\n",
       "      <td>1.0</td>\n",
       "      <td>2.016112e+07</td>\n",
       "      <td>1.000000</td>\n",
       "      <td>1.480066e+09</td>\n",
       "      <td>1.0</td>\n",
       "    </tr>\n",
       "    <tr>\n",
       "      <th>50%</th>\n",
       "      <td>0.000000e+00</td>\n",
       "      <td>61014.000000</td>\n",
       "      <td>0.000000</td>\n",
       "      <td>1.000000</td>\n",
       "      <td>1.0</td>\n",
       "      <td>1.491646e+09</td>\n",
       "      <td>1.000000</td>\n",
       "      <td>2.000000</td>\n",
       "      <td>8.0</td>\n",
       "      <td>1.0</td>\n",
       "      <td>2.017041e+07</td>\n",
       "      <td>2.000000</td>\n",
       "      <td>1.491646e+09</td>\n",
       "      <td>1.0</td>\n",
       "    </tr>\n",
       "    <tr>\n",
       "      <th>75%</th>\n",
       "      <td>0.000000e+00</td>\n",
       "      <td>91616.500000</td>\n",
       "      <td>0.000000</td>\n",
       "      <td>2.000000</td>\n",
       "      <td>1.0</td>\n",
       "      <td>1.505079e+09</td>\n",
       "      <td>1.000000</td>\n",
       "      <td>10.000000</td>\n",
       "      <td>8.0</td>\n",
       "      <td>1.0</td>\n",
       "      <td>2.017091e+07</td>\n",
       "      <td>12.000000</td>\n",
       "      <td>1.505079e+09</td>\n",
       "      <td>1.0</td>\n",
       "    </tr>\n",
       "    <tr>\n",
       "      <th>max</th>\n",
       "      <td>2.312950e+10</td>\n",
       "      <td>122276.000000</td>\n",
       "      <td>1.000000</td>\n",
       "      <td>447.000000</td>\n",
       "      <td>1.0</td>\n",
       "      <td>1.525157e+09</td>\n",
       "      <td>5.000000</td>\n",
       "      <td>469.000000</td>\n",
       "      <td>8.0</td>\n",
       "      <td>1.0</td>\n",
       "      <td>2.018043e+07</td>\n",
       "      <td>500.000000</td>\n",
       "      <td>1.525157e+09</td>\n",
       "      <td>1.0</td>\n",
       "    </tr>\n",
       "  </tbody>\n",
       "</table>\n",
       "</div>"
      ],
      "text/plain": [
       "       purchaseValue         userId   gclIdPresent  sessionNumber  \\\n",
       "count   1.160230e+05  116023.000000  116023.000000  116023.000000   \n",
       "mean    2.656393e+07   61094.356231       0.037019       2.691311   \n",
       "std     2.051825e+08   35240.756859       0.188808      10.451613   \n",
       "min     0.000000e+00       0.000000       0.000000       1.000000   \n",
       "25%     0.000000e+00   30603.500000       0.000000       1.000000   \n",
       "50%     0.000000e+00   61014.000000       0.000000       1.000000   \n",
       "75%     0.000000e+00   91616.500000       0.000000       2.000000   \n",
       "max     2.312950e+10  122276.000000       1.000000     447.000000   \n",
       "\n",
       "       totals.visits     sessionId  trafficSource.adwordsClickInfo.page  \\\n",
       "count       116023.0  1.160230e+05                          4281.000000   \n",
       "mean             1.0  1.493429e+09                             1.019622   \n",
       "std              0.0  1.528798e+07                             0.174517   \n",
       "min              1.0  1.470035e+09                             1.000000   \n",
       "25%              1.0  1.480066e+09                             1.000000   \n",
       "50%              1.0  1.491646e+09                             1.000000   \n",
       "75%              1.0  1.505079e+09                             1.000000   \n",
       "max              1.0  1.525157e+09                             5.000000   \n",
       "\n",
       "           pageViews  locationZone  totals.bounces          date  \\\n",
       "count  116015.000000      116023.0         47148.0  1.160230e+05   \n",
       "mean        8.412352           8.0             1.0  2.016860e+07   \n",
       "std        14.344937           0.0             0.0  6.182322e+03   \n",
       "min         1.000000           8.0             1.0  2.016080e+07   \n",
       "25%         1.000000           8.0             1.0  2.016112e+07   \n",
       "50%         2.000000           8.0             1.0  2.017041e+07   \n",
       "75%        10.000000           8.0             1.0  2.017091e+07   \n",
       "max       469.000000           8.0             1.0  2.018043e+07   \n",
       "\n",
       "           totalHits  sessionStart  new_visits  \n",
       "count  116023.000000  1.160230e+05     80518.0  \n",
       "mean       10.607371  1.493429e+09         1.0  \n",
       "std        19.629576  1.528798e+07         0.0  \n",
       "min         1.000000  1.470035e+09         1.0  \n",
       "25%         1.000000  1.480066e+09         1.0  \n",
       "50%         2.000000  1.491646e+09         1.0  \n",
       "75%        12.000000  1.505079e+09         1.0  \n",
       "max       500.000000  1.525157e+09         1.0  "
      ]
     },
     "execution_count": 5,
     "metadata": {},
     "output_type": "execute_result"
    }
   ],
   "source": [
    "df.describe()"
   ]
  },
  {
   "cell_type": "code",
   "execution_count": 6,
   "id": "b1d7ac0e",
   "metadata": {
    "execution": {
     "iopub.execute_input": "2025-07-27T18:19:15.251146Z",
     "iopub.status.busy": "2025-07-27T18:19:15.250800Z",
     "iopub.status.idle": "2025-07-27T18:19:15.542303Z",
     "shell.execute_reply": "2025-07-27T18:19:15.541381Z"
    },
    "papermill": {
     "duration": 0.311225,
     "end_time": "2025-07-27T18:19:15.543949",
     "exception": false,
     "start_time": "2025-07-27T18:19:15.232724",
     "status": "completed"
    },
    "tags": []
   },
   "outputs": [
    {
     "name": "stdout",
     "output_type": "stream",
     "text": [
      "Unique Values in each column in Training Dataset:\n"
     ]
    },
    {
     "data": {
      "text/plain": [
       "trafficSource.isTrueDirect                           1\n",
       "purchaseValue                                     6766\n",
       "browser                                             34\n",
       "device.screenResolution                              1\n",
       "trafficSource.adContent                             53\n",
       "trafficSource.keyword                              566\n",
       "screenSize                                           1\n",
       "geoCluster                                           5\n",
       "trafficSource.adwordsClickInfo.slot                  3\n",
       "device.mobileDeviceBranding                          1\n",
       "device.mobileInputSelector                           1\n",
       "userId                                          100499\n",
       "trafficSource.campaign                              28\n",
       "device.mobileDeviceMarketingName                     1\n",
       "geoNetwork.networkDomain                             3\n",
       "gclIdPresent                                         2\n",
       "device.operatingSystemVersion                        1\n",
       "sessionNumber                                      230\n",
       "device.flashVersion                                  1\n",
       "geoNetwork.region                                  388\n",
       "trafficSource                                      161\n",
       "totals.visits                                        1\n",
       "geoNetwork.networkLocation                           1\n",
       "sessionId                                       107379\n",
       "os                                                  18\n",
       "geoNetwork.subContinent                             23\n",
       "trafficSource.medium                                 7\n",
       "trafficSource.adwordsClickInfo.isVideoAd             1\n",
       "browserMajor                                         1\n",
       "locationCountry                                    193\n",
       "device.browserSize                                   1\n",
       "trafficSource.adwordsClickInfo.adNetworkType         2\n",
       "socialEngagementType                                 1\n",
       "geoNetwork.city                                    695\n",
       "trafficSource.adwordsClickInfo.page                  5\n",
       "geoNetwork.metro                                   104\n",
       "pageViews                                          175\n",
       "locationZone                                         1\n",
       "device.mobileDeviceModel                             1\n",
       "trafficSource.referralPath                         941\n",
       "totals.bounces                                       1\n",
       "date                                               638\n",
       "device.language                                      1\n",
       "deviceType                                           3\n",
       "userChannel                                          8\n",
       "device.browserVersion                                1\n",
       "totalHits                                          225\n",
       "device.screenColors                                  1\n",
       "sessionStart                                    107388\n",
       "geoNetwork.continent                                 6\n",
       "device.isMobile                                      2\n",
       "new_visits                                           1\n",
       "dtype: int64"
      ]
     },
     "execution_count": 6,
     "metadata": {},
     "output_type": "execute_result"
    }
   ],
   "source": [
    "print('Unique Values in each column in Training Dataset:')\n",
    "df.nunique()"
   ]
  },
  {
   "cell_type": "code",
   "execution_count": 7,
   "id": "1c4edd81",
   "metadata": {
    "execution": {
     "iopub.execute_input": "2025-07-27T18:19:15.579947Z",
     "iopub.status.busy": "2025-07-27T18:19:15.578930Z",
     "iopub.status.idle": "2025-07-27T18:19:16.613019Z",
     "shell.execute_reply": "2025-07-27T18:19:16.612088Z"
    },
    "papermill": {
     "duration": 1.0539,
     "end_time": "2025-07-27T18:19:16.614693",
     "exception": false,
     "start_time": "2025-07-27T18:19:15.560793",
     "status": "completed"
    },
    "tags": []
   },
   "outputs": [
    {
     "data": {
      "image/png": "[encoded data removed]",
      "text/plain": [
       "<Figure size 1200x700 with 1 Axes>"
      ]
     },
     "metadata": {},
     "output_type": "display_data"
    }
   ],
   "source": [
    "# unique values across columns\n",
    "\n",
    "unq_value = df.nunique()\n",
    "unq_val = unq_value[unq_value<300]\n",
    "uv=unq_val.sort_values( ascending=False)\n",
    "\n",
    "plt.figure(figsize=(12,7))\n",
    "sns.barplot(x=uv.index, y=uv.values, palette='mako')\n",
    "plt.title('Unique Values across Columns')\n",
    "plt.ylabel('Count')\n",
    "plt.xticks(rotation=90)\n",
    "for i, v in enumerate(uv.values):\n",
    "    plt.text(i, v + 0.1, str(v), ha='center', va='bottom', fontsize=8)\n",
    "\n",
    "plt.show()"
   ]
  },
  {
   "cell_type": "code",
   "execution_count": 8,
   "id": "ea3d16f7",
   "metadata": {
    "execution": {
     "iopub.execute_input": "2025-07-27T18:19:16.656953Z",
     "iopub.status.busy": "2025-07-27T18:19:16.656625Z",
     "iopub.status.idle": "2025-07-27T18:19:16.885965Z",
     "shell.execute_reply": "2025-07-27T18:19:16.884952Z"
    },
    "papermill": {
     "duration": 0.253716,
     "end_time": "2025-07-27T18:19:16.888296",
     "exception": false,
     "start_time": "2025-07-27T18:19:16.634580",
     "status": "completed"
    },
    "tags": []
   },
   "outputs": [
    {
     "name": "stdout",
     "output_type": "stream",
     "text": [
      "<class 'pandas.core.frame.DataFrame'>\n",
      "RangeIndex: 116023 entries, 0 to 116022\n",
      "Data columns (total 52 columns):\n",
      " #   Column                                        Non-Null Count   Dtype  \n",
      "---  ------                                        --------------   -----  \n",
      " 0   trafficSource.isTrueDirect                    42890 non-null   object \n",
      " 1   purchaseValue                                 116023 non-null  float64\n",
      " 2   browser                                       116023 non-null  object \n",
      " 3   device.screenResolution                       116023 non-null  object \n",
      " 4   trafficSource.adContent                       2963 non-null    object \n",
      " 5   trafficSource.keyword                         44162 non-null   object \n",
      " 6   screenSize                                    116023 non-null  object \n",
      " 7   geoCluster                                    116023 non-null  object \n",
      " 8   trafficSource.adwordsClickInfo.slot           4281 non-null    object \n",
      " 9   device.mobileDeviceBranding                   116023 non-null  object \n",
      " 10  device.mobileInputSelector                    116023 non-null  object \n",
      " 11  userId                                        116023 non-null  int64  \n",
      " 12  trafficSource.campaign                        116023 non-null  object \n",
      " 13  device.mobileDeviceMarketingName              116023 non-null  object \n",
      " 14  geoNetwork.networkDomain                      116023 non-null  object \n",
      " 15  gclIdPresent                                  116023 non-null  int64  \n",
      " 16  device.operatingSystemVersion                 116023 non-null  object \n",
      " 17  sessionNumber                                 116023 non-null  int64  \n",
      " 18  device.flashVersion                           116023 non-null  object \n",
      " 19  geoNetwork.region                             116023 non-null  object \n",
      " 20  trafficSource                                 116023 non-null  object \n",
      " 21  totals.visits                                 116023 non-null  int64  \n",
      " 22  geoNetwork.networkLocation                    116023 non-null  object \n",
      " 23  sessionId                                     116023 non-null  int64  \n",
      " 24  os                                            116023 non-null  object \n",
      " 25  geoNetwork.subContinent                       116023 non-null  object \n",
      " 26  trafficSource.medium                          116023 non-null  object \n",
      " 27  trafficSource.adwordsClickInfo.isVideoAd      4281 non-null    object \n",
      " 28  browserMajor                                  116023 non-null  object \n",
      " 29  locationCountry                               116023 non-null  object \n",
      " 30  device.browserSize                            116023 non-null  object \n",
      " 31  trafficSource.adwordsClickInfo.adNetworkType  4281 non-null    object \n",
      " 32  socialEngagementType                          116023 non-null  object \n",
      " 33  geoNetwork.city                               116023 non-null  object \n",
      " 34  trafficSource.adwordsClickInfo.page           4281 non-null    float64\n",
      " 35  geoNetwork.metro                              116023 non-null  object \n",
      " 36  pageViews                                     116015 non-null  float64\n",
      " 37  locationZone                                  116023 non-null  int64  \n",
      " 38  device.mobileDeviceModel                      116023 non-null  object \n",
      " 39  trafficSource.referralPath                    42714 non-null   object \n",
      " 40  totals.bounces                                47148 non-null   float64\n",
      " 41  date                                          116023 non-null  int64  \n",
      " 42  device.language                               116023 non-null  object \n",
      " 43  deviceType                                    116023 non-null  object \n",
      " 44  userChannel                                   116023 non-null  object \n",
      " 45  device.browserVersion                         116023 non-null  object \n",
      " 46  totalHits                                     116023 non-null  int64  \n",
      " 47  device.screenColors                           116023 non-null  object \n",
      " 48  sessionStart                                  116023 non-null  int64  \n",
      " 49  geoNetwork.continent                          116023 non-null  object \n",
      " 50  device.isMobile                               116023 non-null  bool   \n",
      " 51  new_visits                                    80518 non-null   float64\n",
      "dtypes: bool(1), float64(5), int64(9), object(37)\n",
      "memory usage: 45.3+ MB\n"
     ]
    }
   ],
   "source": [
    "df.info()"
   ]
  },
  {
   "cell_type": "code",
   "execution_count": 9,
   "id": "89f249be",
   "metadata": {
    "execution": {
     "iopub.execute_input": "2025-07-27T18:19:16.933413Z",
     "iopub.status.busy": "2025-07-27T18:19:16.933036Z",
     "iopub.status.idle": "2025-07-27T18:19:17.138032Z",
     "shell.execute_reply": "2025-07-27T18:19:17.136949Z"
    },
    "papermill": {
     "duration": 0.229178,
     "end_time": "2025-07-27T18:19:17.139637",
     "exception": false,
     "start_time": "2025-07-27T18:19:16.910459",
     "status": "completed"
    },
    "tags": []
   },
   "outputs": [
    {
     "name": "stdout",
     "output_type": "stream",
     "text": [
      "Columns containing null values:\n"
     ]
    },
    {
     "data": {
      "text/plain": [
       "['trafficSource.isTrueDirect',\n",
       " 'trafficSource.adContent',\n",
       " 'trafficSource.keyword',\n",
       " 'trafficSource.adwordsClickInfo.slot',\n",
       " 'trafficSource.adwordsClickInfo.isVideoAd',\n",
       " 'trafficSource.adwordsClickInfo.adNetworkType',\n",
       " 'trafficSource.adwordsClickInfo.page',\n",
       " 'pageViews',\n",
       " 'trafficSource.referralPath',\n",
       " 'totals.bounces',\n",
       " 'new_visits']"
      ]
     },
     "execution_count": 9,
     "metadata": {},
     "output_type": "execute_result"
    }
   ],
   "source": [
    "null_cols = df.columns[df.isnull().any()].tolist() \n",
    "print('Columns containing null values:')\n",
    "null_cols"
   ]
  },
  {
   "cell_type": "code",
   "execution_count": 10,
   "id": "ed718b5c",
   "metadata": {
    "execution": {
     "iopub.execute_input": "2025-07-27T18:19:17.180007Z",
     "iopub.status.busy": "2025-07-27T18:19:17.179684Z",
     "iopub.status.idle": "2025-07-27T18:19:17.622350Z",
     "shell.execute_reply": "2025-07-27T18:19:17.621406Z"
    },
    "papermill": {
     "duration": 0.4649,
     "end_time": "2025-07-27T18:19:17.624197",
     "exception": false,
     "start_time": "2025-07-27T18:19:17.159297",
     "status": "completed"
    },
    "tags": []
   },
   "outputs": [
    {
     "data": {
      "image/png": "[encoded data removed]",
      "text/plain": [
       "<Figure size 900x400 with 1 Axes>"
      ]
     },
     "metadata": {},
     "output_type": "display_data"
    }
   ],
   "source": [
    "# null values across columns\n",
    "\n",
    "null_val = df.isnull().sum()\n",
    "nvalue = null_val[null_val>0]\n",
    "nv=nvalue.sort_values( ascending=False)\n",
    "\n",
    "plt.figure(figsize=(9,4))\n",
    "sns.barplot(x=nv.index, y=nv.values, palette='rocket')\n",
    "plt.title('Null Values')\n",
    "plt.ylabel('Count')\n",
    "plt.xticks(rotation=90)\n",
    "plt.show()"
   ]
  },
  {
   "cell_type": "code",
   "execution_count": 11,
   "id": "a6697054",
   "metadata": {
    "execution": {
     "iopub.execute_input": "2025-07-27T18:19:17.671224Z",
     "iopub.status.busy": "2025-07-27T18:19:17.670909Z",
     "iopub.status.idle": "2025-07-27T18:19:17.687629Z",
     "shell.execute_reply": "2025-07-27T18:19:17.686270Z"
    },
    "papermill": {
     "duration": 0.042899,
     "end_time": "2025-07-27T18:19:17.689522",
     "exception": false,
     "start_time": "2025-07-27T18:19:17.646623",
     "status": "completed"
    },
    "tags": []
   },
   "outputs": [
    {
     "data": {
      "text/plain": [
       "geoNetwork.continent\n",
       "Americas     69856\n",
       "Asia         22384\n",
       "Europe       20294\n",
       "Africa        1747\n",
       "Oceania       1606\n",
       "(not set)      136\n",
       "Name: count, dtype: int64"
      ]
     },
     "execution_count": 11,
     "metadata": {},
     "output_type": "execute_result"
    }
   ],
   "source": [
    "df['geoNetwork.continent'].value_counts()"
   ]
  },
  {
   "cell_type": "code",
   "execution_count": 12,
   "id": "c6f40b8d",
   "metadata": {
    "execution": {
     "iopub.execute_input": "2025-07-27T18:19:17.733304Z",
     "iopub.status.busy": "2025-07-27T18:19:17.732576Z",
     "iopub.status.idle": "2025-07-27T18:19:17.909946Z",
     "shell.execute_reply": "2025-07-27T18:19:17.908949Z"
    },
    "papermill": {
     "duration": 0.200818,
     "end_time": "2025-07-27T18:19:17.911524",
     "exception": false,
     "start_time": "2025-07-27T18:19:17.710706",
     "status": "completed"
    },
    "tags": []
   },
   "outputs": [
    {
     "data": {
      "image/png": "[encoded data removed]",
      "text/plain": [
       "<Figure size 900x400 with 1 Axes>"
      ]
     },
     "metadata": {},
     "output_type": "display_data"
    }
   ],
   "source": [
    "# conversion insights across continents\n",
    "\n",
    "loc = df.groupby('geoNetwork.continent')['purchaseValue'].mean().reset_index()\n",
    "loc_values = loc[loc['geoNetwork.continent'] != '(not set)']\n",
    "\n",
    "plt.figure(figsize=(9,4))\n",
    "sns.barplot(data=loc_values, x='geoNetwork.continent', y='purchaseValue', color='green')\n",
    "plt.title('Purchase Values across Continents')\n",
    "plt.xlabel('Continents')\n",
    "plt.ylabel('Average Purchase Value')\n",
    "plt.xticks(ticks=range(len(loc_values)), labels=loc_values['geoNetwork.continent'].astype(str))\n",
    "plt.show()"
   ]
  },
  {
   "cell_type": "markdown",
   "id": "de87664a",
   "metadata": {
    "papermill": {
     "duration": 0.021238,
     "end_time": "2025-07-27T18:19:17.955487",
     "exception": false,
     "start_time": "2025-07-27T18:19:17.934249",
     "status": "completed"
    },
    "tags": []
   },
   "source": [
    "**The American Counterparts show the highest purchase value among all continents, leading with a large margin while Europe has made the least conversions in value, even though it is has a massive engagement rate (in top 3) potraying - either many users donnot convert or those who do, contribute in limited purchases.**"
   ]
  },
  {
   "cell_type": "code",
   "execution_count": 13,
   "id": "5e9e628c",
   "metadata": {
    "execution": {
     "iopub.execute_input": "2025-07-27T18:19:17.999695Z",
     "iopub.status.busy": "2025-07-27T18:19:17.999381Z",
     "iopub.status.idle": "2025-07-27T18:19:18.011904Z",
     "shell.execute_reply": "2025-07-27T18:19:18.010972Z"
    },
    "papermill": {
     "duration": 0.036769,
     "end_time": "2025-07-27T18:19:18.013632",
     "exception": false,
     "start_time": "2025-07-27T18:19:17.976863",
     "status": "completed"
    },
    "tags": []
   },
   "outputs": [
    {
     "data": {
      "text/plain": [
       "161"
      ]
     },
     "execution_count": 13,
     "metadata": {},
     "output_type": "execute_result"
    }
   ],
   "source": [
    "df['trafficSource'].nunique()"
   ]
  },
  {
   "cell_type": "code",
   "execution_count": 14,
   "id": "c453a9cd",
   "metadata": {
    "execution": {
     "iopub.execute_input": "2025-07-27T18:19:18.058305Z",
     "iopub.status.busy": "2025-07-27T18:19:18.057962Z",
     "iopub.status.idle": "2025-07-27T18:19:18.073773Z",
     "shell.execute_reply": "2025-07-27T18:19:18.072667Z"
    },
    "papermill": {
     "duration": 0.040256,
     "end_time": "2025-07-27T18:19:18.075419",
     "exception": false,
     "start_time": "2025-07-27T18:19:18.035163",
     "status": "completed"
    },
    "tags": []
   },
   "outputs": [
    {
     "name": "stdout",
     "output_type": "stream",
     "text": [
      "Unique Traffic Sources: trafficSource\n",
      "google                  44332\n",
      "(direct)                36837\n",
      "youtube.com             19211\n",
      "mall.googleplex.com      6388\n",
      "analytics.google.com     1826\n",
      "                        ...  \n",
      "br.search.yahoo.com         1\n",
      "mail.yahoo.com              1\n",
      "yandex                      1\n",
      "images.google.de            1\n",
      "search.1and1.com            1\n",
      "Name: count, Length: 161, dtype: int64\n"
     ]
    }
   ],
   "source": [
    "print('Unique Traffic Sources:', df['trafficSource'].value_counts())"
   ]
  },
  {
   "cell_type": "code",
   "execution_count": 15,
   "id": "a4028ca8",
   "metadata": {
    "execution": {
     "iopub.execute_input": "2025-07-27T18:19:18.119786Z",
     "iopub.status.busy": "2025-07-27T18:19:18.119351Z",
     "iopub.status.idle": "2025-07-27T18:19:18.125370Z",
     "shell.execute_reply": "2025-07-27T18:19:18.124298Z"
    },
    "papermill": {
     "duration": 0.030047,
     "end_time": "2025-07-27T18:19:18.126798",
     "exception": false,
     "start_time": "2025-07-27T18:19:18.096751",
     "status": "completed"
    },
    "tags": []
   },
   "outputs": [],
   "source": [
    "def sources(trafficSource):\n",
    "    trafficSource = str(trafficSource).lower()\n",
    "    if 'google' in trafficSource or '(not set)' in trafficSource:\n",
    "        return 'Google'\n",
    "    elif 'youtube' in trafficSource:\n",
    "        return 'Youtube'\n",
    "    elif 'dfa' in trafficSource:\n",
    "        return 'DFA'\n",
    "    elif 'facebook' in trafficSource or 'messenger' in trafficSource:\n",
    "        return 'Facebook'\n",
    "    elif 'yahoo' in trafficSource:\n",
    "        return 'Yahoo'\n",
    "    elif 'reddit' in trafficSource:\n",
    "        return 'Reddit'\n",
    "    elif 'direct' in trafficSource:\n",
    "        return 'Direct'\n",
    "    else:\n",
    "        return 'Others'"
   ]
  },
  {
   "cell_type": "code",
   "execution_count": 16,
   "id": "81779cb2",
   "metadata": {
    "execution": {
     "iopub.execute_input": "2025-07-27T18:19:18.172115Z",
     "iopub.status.busy": "2025-07-27T18:19:18.171727Z",
     "iopub.status.idle": "2025-07-27T18:19:18.218379Z",
     "shell.execute_reply": "2025-07-27T18:19:18.217296Z"
    },
    "papermill": {
     "duration": 0.071914,
     "end_time": "2025-07-27T18:19:18.220892",
     "exception": false,
     "start_time": "2025-07-27T18:19:18.148978",
     "status": "completed"
    },
    "tags": []
   },
   "outputs": [],
   "source": [
    "df['trafficSource']=df['trafficSource'].apply(sources)"
   ]
  },
  {
   "cell_type": "code",
   "execution_count": 17,
   "id": "8f4f2586",
   "metadata": {
    "execution": {
     "iopub.execute_input": "2025-07-27T18:19:18.267208Z",
     "iopub.status.busy": "2025-07-27T18:19:18.266888Z",
     "iopub.status.idle": "2025-07-27T18:19:18.279804Z",
     "shell.execute_reply": "2025-07-27T18:19:18.278823Z"
    },
    "papermill": {
     "duration": 0.037033,
     "end_time": "2025-07-27T18:19:18.281314",
     "exception": false,
     "start_time": "2025-07-27T18:19:18.244281",
     "status": "completed"
    },
    "tags": []
   },
   "outputs": [
    {
     "name": "stdout",
     "output_type": "stream",
     "text": [
      "New Traffic Sources Categories Include: trafficSource\n",
      "Google      54646\n",
      "Direct      36837\n",
      "Youtube     19214\n",
      "Others       3526\n",
      "Facebook      731\n",
      "DFA           617\n",
      "Reddit        240\n",
      "Yahoo         212\n",
      "Name: count, dtype: int64\n"
     ]
    }
   ],
   "source": [
    "print('New Traffic Sources Categories Include:', df['trafficSource'].value_counts())"
   ]
  },
  {
   "cell_type": "code",
   "execution_count": 18,
   "id": "dd13d660",
   "metadata": {
    "execution": {
     "iopub.execute_input": "2025-07-27T18:19:18.325892Z",
     "iopub.status.busy": "2025-07-27T18:19:18.325618Z",
     "iopub.status.idle": "2025-07-27T18:19:18.526512Z",
     "shell.execute_reply": "2025-07-27T18:19:18.525610Z"
    },
    "papermill": {
     "duration": 0.225093,
     "end_time": "2025-07-27T18:19:18.528118",
     "exception": false,
     "start_time": "2025-07-27T18:19:18.303025",
     "status": "completed"
    },
    "tags": []
   },
   "outputs": [
    {
     "data": {
      "image/png": "[encoded data removed]",
      "text/plain": [
       "<Figure size 1000x500 with 1 Axes>"
      ]
     },
     "metadata": {},
     "output_type": "display_data"
    }
   ],
   "source": [
    "#average purchases by traffic sources\n",
    "\n",
    "sources_value= df.groupby('trafficSource')['purchaseValue'].mean().reset_index()\n",
    "\n",
    "plt.figure(figsize=(10,5))\n",
    "sns.barplot(data=sources_value, x='trafficSource', y='purchaseValue',color='darkred')\n",
    "plt.title('Average purchase per Traffic Source')\n",
    "plt.xlabel('Traffic Sources')\n",
    "plt.ylabel('Purchase Value')\n",
    "plt.xticks(ticks=range(len(sources_value['trafficSource'])), label=sources_value['trafficSource'].astype(str))\n",
    "plt.show()"
   ]
  },
  {
   "cell_type": "markdown",
   "id": "81ba56d5",
   "metadata": {
    "papermill": {
     "duration": 0.022182,
     "end_time": "2025-07-27T18:19:18.572926",
     "exception": false,
     "start_time": "2025-07-27T18:19:18.550744",
     "status": "completed"
    },
    "tags": []
   },
   "source": [
    "**The raw data constitutes of 161 unique traffic sources with recurring terms in their URL like 'google', 'yahoo', 'youtube',etc. These sources were then cumulated based on the patterns in the URLs and were concluded into 7 popular categories and the remaining were aggregated into 'Others'.\n",
    "While 'Google' Channel group led with the highest engagement, 'DFA' led the purchases with a massive difference in contrast to its lower user interactions.**"
   ]
  },
  {
   "cell_type": "code",
   "execution_count": 19,
   "id": "61a90f6e",
   "metadata": {
    "execution": {
     "iopub.execute_input": "2025-07-27T18:19:18.623212Z",
     "iopub.status.busy": "2025-07-27T18:19:18.622873Z",
     "iopub.status.idle": "2025-07-27T18:19:18.638367Z",
     "shell.execute_reply": "2025-07-27T18:19:18.637321Z"
    },
    "papermill": {
     "duration": 0.041561,
     "end_time": "2025-07-27T18:19:18.639995",
     "exception": false,
     "start_time": "2025-07-27T18:19:18.598434",
     "status": "completed"
    },
    "tags": []
   },
   "outputs": [
    {
     "name": "stdout",
     "output_type": "stream",
     "text": [
      "Unique Browser Values in Train Dataset: browser\n",
      "Chrome                                                  84508\n",
      "Safari                                                  19184\n",
      "Firefox                                                  4031\n",
      "Internet Explorer                                        2155\n",
      "Android Webview                                          1472\n",
      "Edge                                                     1216\n",
      "Safari (in-app)                                           793\n",
      "Opera Mini                                                733\n",
      "Samsung Internet                                          563\n",
      "Opera                                                     548\n",
      "UC Browser                                                296\n",
      "YaBrowser                                                 187\n",
      "Amazon Silk                                                73\n",
      "Coc Coc                                                    61\n",
      "Android Browser                                            59\n",
      "Mozilla Compatible Agent                                   36\n",
      "MRCHROME                                                   22\n",
      "Nintendo Browser                                           20\n",
      "Maxthon                                                    17\n",
      "BlackBerry                                                 16\n",
      "Nokia Browser                                               8\n",
      "Puffin                                                      7\n",
      "Iron                                                        3\n",
      "osee2unifiedRelease                                         2\n",
      "Seznam                                                      2\n",
      "Playstation Vita Browser                                    2\n",
      "LYF_LS_4002_12                                              2\n",
      ";__CT_JOB_ID__:85da5736-a78e-45a9-837e-f5a53e5cd725;        1\n",
      "(not set)                                                   1\n",
      "Mozilla                                                     1\n",
      "Browser                                                     1\n",
      "MQQBrowser                                                  1\n",
      "M5                                                          1\n",
      "no-ua                                                       1\n",
      "Name: count, dtype: int64\n"
     ]
    }
   ],
   "source": [
    "print('Unique Browser Values in Train Dataset:', df['browser'].value_counts())"
   ]
  },
  {
   "cell_type": "code",
   "execution_count": 20,
   "id": "c3b09d24",
   "metadata": {
    "execution": {
     "iopub.execute_input": "2025-07-27T18:19:18.688473Z",
     "iopub.status.busy": "2025-07-27T18:19:18.688143Z",
     "iopub.status.idle": "2025-07-27T18:19:18.693820Z",
     "shell.execute_reply": "2025-07-27T18:19:18.692866Z"
    },
    "papermill": {
     "duration": 0.031333,
     "end_time": "2025-07-27T18:19:18.695651",
     "exception": false,
     "start_time": "2025-07-27T18:19:18.664318",
     "status": "completed"
    },
    "tags": []
   },
   "outputs": [],
   "source": [
    "def browsers(browser):\n",
    "    if 'Safari' in browser:\n",
    "        return \"Safari\"\n",
    "    elif 'Edge' in browser:\n",
    "        return 'Edge'\n",
    "    elif 'Chrome' in browser or 'MRCHROME' in browser:\n",
    "        return 'Chrome'\n",
    "    elif 'Mozilla' in browser or 'Firefox' in browser:\n",
    "        return 'Firefox'\n",
    "    elif 'Internet' in browser:\n",
    "        return 'Internet Explorer'\n",
    "    elif 'Browser' in browser or 'Android' in browser:\n",
    "        return \"Android Browsers\"\n",
    "    elif 'Opera' in browser:\n",
    "        return 'Opera'\n",
    "    else:\n",
    "        return 'Others'"
   ]
  },
  {
   "cell_type": "code",
   "execution_count": 21,
   "id": "e11dce1b",
   "metadata": {
    "execution": {
     "iopub.execute_input": "2025-07-27T18:19:18.741926Z",
     "iopub.status.busy": "2025-07-27T18:19:18.741625Z",
     "iopub.status.idle": "2025-07-27T18:19:18.774626Z",
     "shell.execute_reply": "2025-07-27T18:19:18.773794Z"
    },
    "papermill": {
     "duration": 0.058154,
     "end_time": "2025-07-27T18:19:18.776308",
     "exception": false,
     "start_time": "2025-07-27T18:19:18.718154",
     "status": "completed"
    },
    "tags": []
   },
   "outputs": [],
   "source": [
    "df['browser']=df['browser'].apply(browsers)"
   ]
  },
  {
   "cell_type": "code",
   "execution_count": 22,
   "id": "4c36e436",
   "metadata": {
    "execution": {
     "iopub.execute_input": "2025-07-27T18:19:18.822319Z",
     "iopub.status.busy": "2025-07-27T18:19:18.821984Z",
     "iopub.status.idle": "2025-07-27T18:19:18.834784Z",
     "shell.execute_reply": "2025-07-27T18:19:18.833925Z"
    },
    "papermill": {
     "duration": 0.038158,
     "end_time": "2025-07-27T18:19:18.836608",
     "exception": false,
     "start_time": "2025-07-27T18:19:18.798450",
     "status": "completed"
    },
    "tags": []
   },
   "outputs": [
    {
     "name": "stdout",
     "output_type": "stream",
     "text": [
      "New Browser Categories are: browser\n",
      "Chrome               84530\n",
      "Safari               19977\n",
      "Firefox               4068\n",
      "Internet Explorer     2718\n",
      "Android Browsers      2046\n",
      "Opera                 1281\n",
      "Edge                  1216\n",
      "Others                 187\n",
      "Name: count, dtype: int64\n"
     ]
    }
   ],
   "source": [
    "print('New Browser Categories are:',df['browser'].value_counts())"
   ]
  },
  {
   "cell_type": "code",
   "execution_count": 23,
   "id": "d723e342",
   "metadata": {
    "execution": {
     "iopub.execute_input": "2025-07-27T18:19:18.887814Z",
     "iopub.status.busy": "2025-07-27T18:19:18.887477Z",
     "iopub.status.idle": "2025-07-27T18:19:19.104477Z",
     "shell.execute_reply": "2025-07-27T18:19:19.103490Z"
    },
    "papermill": {
     "duration": 0.245607,
     "end_time": "2025-07-27T18:19:19.106214",
     "exception": false,
     "start_time": "2025-07-27T18:19:18.860607",
     "status": "completed"
    },
    "tags": []
   },
   "outputs": [
    {
     "data": {
      "image/png": "[encoded data removed]",
      "text/plain": [
       "<Figure size 1200x600 with 1 Axes>"
      ]
     },
     "metadata": {},
     "output_type": "display_data"
    }
   ],
   "source": [
    "#average purchases by browser categories\n",
    "\n",
    "browser_categ = df.groupby('browser')['purchaseValue'].mean().reset_index()\n",
    "\n",
    "plt.figure(figsize=(12,6))\n",
    "sns.barplot(data=browser_categ, x='browser', y='purchaseValue',color='darkgreen')\n",
    "plt.title('Average purchase per browser')\n",
    "plt.xlabel('Browsers')\n",
    "plt.ylabel('Purchase Value')\n",
    "plt.xticks(ticks=range(len(browser_categ['browser'])), label=browser_categ['browser'].astype(str))\n",
    "plt.show()"
   ]
  },
  {
   "cell_type": "markdown",
   "id": "53f3483d",
   "metadata": {
    "papermill": {
     "duration": 0.023523,
     "end_time": "2025-07-27T18:19:19.153822",
     "exception": false,
     "start_time": "2025-07-27T18:19:19.130299",
     "status": "completed"
    },
    "tags": []
   },
   "source": [
    "**The browser category was segregated into confined unique categories potraying clear patterns with respect to their purchasing capabilties - Firfox and Chrome leading in both user engagement and cumulative purchase values.**"
   ]
  },
  {
   "cell_type": "code",
   "execution_count": 24,
   "id": "5fd2ac5f",
   "metadata": {
    "execution": {
     "iopub.execute_input": "2025-07-27T18:19:19.200622Z",
     "iopub.status.busy": "2025-07-27T18:19:19.200305Z",
     "iopub.status.idle": "2025-07-27T18:19:19.350631Z",
     "shell.execute_reply": "2025-07-27T18:19:19.349599Z"
    },
    "papermill": {
     "duration": 0.17603,
     "end_time": "2025-07-27T18:19:19.352579",
     "exception": false,
     "start_time": "2025-07-27T18:19:19.176549",
     "status": "completed"
    },
    "tags": []
   },
   "outputs": [],
   "source": [
    "df['date'] = pd.to_datetime(df['date'].astype(str), format='%Y%m%d')\n",
    "df['Year'] = df['date'].dt.year\n",
    "df['Month'] = df['date'].dt.month\n",
    "df['Day'] = df['date'].dt.day\n",
    "df['DayOfWeek'] = df['date'].dt.dayofweek\n",
    "df=df.drop(columns=['date'])"
   ]
  },
  {
   "cell_type": "code",
   "execution_count": 25,
   "id": "d93fd4d6",
   "metadata": {
    "execution": {
     "iopub.execute_input": "2025-07-27T18:19:19.399420Z",
     "iopub.status.busy": "2025-07-27T18:19:19.399136Z",
     "iopub.status.idle": "2025-07-27T18:19:19.589464Z",
     "shell.execute_reply": "2025-07-27T18:19:19.588451Z"
    },
    "papermill": {
     "duration": 0.215913,
     "end_time": "2025-07-27T18:19:19.591207",
     "exception": false,
     "start_time": "2025-07-27T18:19:19.375294",
     "status": "completed"
    },
    "tags": []
   },
   "outputs": [
    {
     "data": {
      "image/png": "[encoded data removed]",
      "text/plain": [
       "<Figure size 800x600 with 1 Axes>"
      ]
     },
     "metadata": {},
     "output_type": "display_data"
    }
   ],
   "source": [
    "# average purchase per day of the week across all years\n",
    "\n",
    "daily_avg=df.groupby('DayOfWeek')['purchaseValue'].mean().reset_index()\n",
    "import calendar\n",
    "daily_avg['DayName'] = daily_avg['DayOfWeek'].apply(lambda x: calendar.day_name[x])\n",
    "\n",
    "plt.figure(figsize=(8,6))\n",
    "sns.barplot(data=daily_avg, x='DayName', y='purchaseValue', color='darkblue')\n",
    "plt.ylabel('Days of the Week')\n",
    "plt.xlabel('Total Purchase')\n",
    "plt.xticks(ticks=range(len(daily_avg)),labels=daily_avg['DayName'].astype(str))  \n",
    "plt.title('Total Purchase by Days of the week)')\n",
    "plt.show()"
   ]
  },
  {
   "cell_type": "code",
   "execution_count": 26,
   "id": "37568587",
   "metadata": {
    "execution": {
     "iopub.execute_input": "2025-07-27T18:19:19.640974Z",
     "iopub.status.busy": "2025-07-27T18:19:19.640658Z",
     "iopub.status.idle": "2025-07-27T18:19:19.888272Z",
     "shell.execute_reply": "2025-07-27T18:19:19.887257Z"
    },
    "papermill": {
     "duration": 0.273947,
     "end_time": "2025-07-27T18:19:19.890102",
     "exception": false,
     "start_time": "2025-07-27T18:19:19.616155",
     "status": "completed"
    },
    "tags": []
   },
   "outputs": [
    {
     "name": "stderr",
     "output_type": "stream",
     "text": [
      "/usr/local/lib/python3.11/dist-packages/seaborn/_oldcore.py:1119: FutureWarning: use_inf_as_na option is deprecated and will be removed in a future version. Convert inf values to NaN before operating instead.\n",
      "  with pd.option_context('mode.use_inf_as_na', True):\n",
      "/usr/local/lib/python3.11/dist-packages/seaborn/_oldcore.py:1119: FutureWarning: use_inf_as_na option is deprecated and will be removed in a future version. Convert inf values to NaN before operating instead.\n",
      "  with pd.option_context('mode.use_inf_as_na', True):\n"
     ]
    },
    {
     "data": {
      "image/png": "[encoded data removed]",
      "text/plain": [
       "<Figure size 1000x600 with 1 Axes>"
      ]
     },
     "metadata": {},
     "output_type": "display_data"
    }
   ],
   "source": [
    "# average purchase per month across all years\n",
    "monthly_avg = df.groupby('Month')['purchaseValue'].mean().reset_index()\n",
    "\n",
    "plt.figure(figsize=(10,6))\n",
    "sns.lineplot(data=monthly_avg, x='Month', y='purchaseValue', marker='o')\n",
    "plt.title(\"Average Monthly Purchase (All Years Combined)\")\n",
    "plt.ylabel(\"Avg Total Purchase\")\n",
    "plt.xlabel(\"Month\")\n",
    "plt.xticks(range(1, 13)) \n",
    "plt.grid(True)\n",
    "plt.show()"
   ]
  },
  {
   "cell_type": "code",
   "execution_count": 27,
   "id": "138af183",
   "metadata": {
    "execution": {
     "iopub.execute_input": "2025-07-27T18:19:19.974430Z",
     "iopub.status.busy": "2025-07-27T18:19:19.974115Z",
     "iopub.status.idle": "2025-07-27T18:19:20.131584Z",
     "shell.execute_reply": "2025-07-27T18:19:20.130507Z"
    },
    "papermill": {
     "duration": 0.201664,
     "end_time": "2025-07-27T18:19:20.133268",
     "exception": false,
     "start_time": "2025-07-27T18:19:19.931604",
     "status": "completed"
    },
    "tags": []
   },
   "outputs": [
    {
     "data": {
      "image/png": "[encoded data removed]",
      "text/plain": [
       "<Figure size 700x500 with 1 Axes>"
      ]
     },
     "metadata": {},
     "output_type": "display_data"
    }
   ],
   "source": [
    "#total purchase per year\n",
    "yearly_total = df.groupby('Year')['purchaseValue'].sum().reset_index()\n",
    "\n",
    "plt.figure(figsize=(7,5))\n",
    "sns.barplot(data=yearly_total, x='Year', y='purchaseValue', palette='Set2')\n",
    "plt.title(\"Total Purchase per Year\")\n",
    "plt.ylabel(\"Total Purchase\")\n",
    "plt.xlabel(\"Year\")\n",
    "plt.xticks(ticks=range(len(yearly_total)), labels=yearly_total['Year'].astype(str))  \n",
    "plt.show()"
   ]
  },
  {
   "cell_type": "markdown",
   "id": "d4e73843",
   "metadata": {
    "papermill": {
     "duration": 0.024928,
     "end_time": "2025-07-27T18:19:20.183230",
     "exception": false,
     "start_time": "2025-07-27T18:19:20.158302",
     "status": "completed"
    },
    "tags": []
   },
   "source": [
    "**The 'date' column was broken down into distinct features: Day, Month, Year and Day of the Week (0-6).\n",
    "The dataset spans three years, with 2017 contributing the highest total purchase value.\n",
    "Clear trends emerged - weekday purchases significantly outpaced weekends, purchases peaked between May and July, and there was a notable decline in purchasing activity in 2018.**"
   ]
  },
  {
   "cell_type": "code",
   "execution_count": 28,
   "id": "7ee83a80",
   "metadata": {
    "execution": {
     "iopub.execute_input": "2025-07-27T18:19:20.235517Z",
     "iopub.status.busy": "2025-07-27T18:19:20.235193Z",
     "iopub.status.idle": "2025-07-27T18:19:20.251258Z",
     "shell.execute_reply": "2025-07-27T18:19:20.249868Z"
    },
    "papermill": {
     "duration": 0.044676,
     "end_time": "2025-07-27T18:19:20.252924",
     "exception": false,
     "start_time": "2025-07-27T18:19:20.208248",
     "status": "completed"
    },
    "tags": []
   },
   "outputs": [
    {
     "name": "stdout",
     "output_type": "stream",
     "text": [
      "Original os value counts: os\n",
      "Windows             39135\n",
      "Macintosh           37659\n",
      "Android             15866\n",
      "iOS                 12762\n",
      "Linux                5075\n",
      "Chrome OS            4743\n",
      "(not set)             565\n",
      "Windows Phone          95\n",
      "Samsung                46\n",
      "Tizen                  22\n",
      "BlackBerry             18\n",
      "Nintendo Wii           14\n",
      "Xbox                    9\n",
      "Nintendo WiiU           6\n",
      "OS/2                    4\n",
      "Playstation Vita        2\n",
      "Firefox OS              1\n",
      "FreeBSD                 1\n",
      "Name: count, dtype: int64\n"
     ]
    }
   ],
   "source": [
    "print('Original os value counts:', df['os'].value_counts())"
   ]
  },
  {
   "cell_type": "code",
   "execution_count": 29,
   "id": "32b5aa52",
   "metadata": {
    "execution": {
     "iopub.execute_input": "2025-07-27T18:19:20.304794Z",
     "iopub.status.busy": "2025-07-27T18:19:20.304377Z",
     "iopub.status.idle": "2025-07-27T18:19:20.309938Z",
     "shell.execute_reply": "2025-07-27T18:19:20.309008Z"
    },
    "papermill": {
     "duration": 0.033322,
     "end_time": "2025-07-27T18:19:20.311403",
     "exception": false,
     "start_time": "2025-07-27T18:19:20.278081",
     "status": "completed"
    },
    "tags": []
   },
   "outputs": [],
   "source": [
    "def os(os):\n",
    "    if 'Windows' in os or 'not set' in os:\n",
    "        return 'Windows'\n",
    "    elif 'Macintosh' in os or 'iOS' in os:\n",
    "        return 'macOS'\n",
    "    elif 'Chrome' in os:\n",
    "        return 'Chrome OS'\n",
    "    elif 'Linux' in os:\n",
    "        return 'Linux'\n",
    "    else:\n",
    "        return 'Android'"
   ]
  },
  {
   "cell_type": "code",
   "execution_count": 30,
   "id": "af2efc0c",
   "metadata": {
    "execution": {
     "iopub.execute_input": "2025-07-27T18:19:20.362481Z",
     "iopub.status.busy": "2025-07-27T18:19:20.362174Z",
     "iopub.status.idle": "2025-07-27T18:19:20.395926Z",
     "shell.execute_reply": "2025-07-27T18:19:20.395105Z"
    },
    "papermill": {
     "duration": 0.061128,
     "end_time": "2025-07-27T18:19:20.397439",
     "exception": false,
     "start_time": "2025-07-27T18:19:20.336311",
     "status": "completed"
    },
    "tags": []
   },
   "outputs": [],
   "source": [
    "df['os']=df['os'].apply(os)"
   ]
  },
  {
   "cell_type": "code",
   "execution_count": 31,
   "id": "e71551be",
   "metadata": {
    "execution": {
     "iopub.execute_input": "2025-07-27T18:19:20.451810Z",
     "iopub.status.busy": "2025-07-27T18:19:20.451482Z",
     "iopub.status.idle": "2025-07-27T18:19:20.464137Z",
     "shell.execute_reply": "2025-07-27T18:19:20.463131Z"
    },
    "papermill": {
     "duration": 0.042183,
     "end_time": "2025-07-27T18:19:20.465564",
     "exception": false,
     "start_time": "2025-07-27T18:19:20.423381",
     "status": "completed"
    },
    "tags": []
   },
   "outputs": [
    {
     "name": "stdout",
     "output_type": "stream",
     "text": [
      "New OS value counts: os\n",
      "macOS        50421\n",
      "Windows      39795\n",
      "Android      15989\n",
      "Linux         5075\n",
      "Chrome OS     4743\n",
      "Name: count, dtype: int64\n"
     ]
    }
   ],
   "source": [
    "print('New OS value counts:', df['os'].value_counts())"
   ]
  },
  {
   "cell_type": "code",
   "execution_count": 32,
   "id": "aeca0b70",
   "metadata": {
    "execution": {
     "iopub.execute_input": "2025-07-27T18:19:20.518973Z",
     "iopub.status.busy": "2025-07-27T18:19:20.518201Z",
     "iopub.status.idle": "2025-07-27T18:19:20.714539Z",
     "shell.execute_reply": "2025-07-27T18:19:20.713528Z"
    },
    "papermill": {
     "duration": 0.224677,
     "end_time": "2025-07-27T18:19:20.716432",
     "exception": false,
     "start_time": "2025-07-27T18:19:20.491755",
     "status": "completed"
    },
    "tags": []
   },
   "outputs": [
    {
     "data": {
      "image/png": "[encoded data removed]",
      "text/plain": [
       "<Figure size 1000x600 with 1 Axes>"
      ]
     },
     "metadata": {},
     "output_type": "display_data"
    }
   ],
   "source": [
    "#average purchase values across different os\n",
    "os_value1=df.groupby('os')['purchaseValue'].mean().reset_index()\n",
    "os_value=os_value1.sort_values(by='purchaseValue', ascending=False)\n",
    "\n",
    "plt.figure(figsize=(10,6))\n",
    "sns.barplot(data=os_value,x='os',y='purchaseValue',color='#ADD8E6')\n",
    "plt.title('Average Purchases Values across different OS')\n",
    "plt.xlabel('OS')\n",
    "plt.ylabel('Average Purchase Value')\n",
    "plt.xticks(ticks=range(len(os_value)),labels=os_value['os'].astype(str))\n",
    "plt.show()"
   ]
  },
  {
   "cell_type": "markdown",
   "id": "0070f124",
   "metadata": {
    "papermill": {
     "duration": 0.026507,
     "end_time": "2025-07-27T18:19:20.772270",
     "exception": false,
     "start_time": "2025-07-27T18:19:20.745763",
     "status": "completed"
    },
    "tags": []
   },
   "source": [
    "**The operating system (OS) categories were analysed and grouped based on their frequency in the training dataset.\n",
    "Interestingly, Chrome OS, despite having the lowest user engagement, recorded the highest purchase value.\n",
    "This suggests that although fewer users engaged through Chrome OS, those who did made substantially large individual purchases.**"
   ]
  },
  {
   "cell_type": "code",
   "execution_count": 33,
   "id": "1c38e697",
   "metadata": {
    "execution": {
     "iopub.execute_input": "2025-07-27T18:19:20.826103Z",
     "iopub.status.busy": "2025-07-27T18:19:20.825731Z",
     "iopub.status.idle": "2025-07-27T18:19:20.837934Z",
     "shell.execute_reply": "2025-07-27T18:19:20.837126Z"
    },
    "papermill": {
     "duration": 0.04117,
     "end_time": "2025-07-27T18:19:20.839459",
     "exception": false,
     "start_time": "2025-07-27T18:19:20.798289",
     "status": "completed"
    },
    "tags": []
   },
   "outputs": [
    {
     "data": {
      "text/plain": [
       "purchaseValue\n",
       "0.0            92038\n",
       "16990000.0       445\n",
       "18990000.0       328\n",
       "33590000.0       308\n",
       "19990000.0       288\n",
       "               ...  \n",
       "23860000.0         1\n",
       "16020000.0         1\n",
       "253930000.0        1\n",
       "26250000.0         1\n",
       "169750000.0        1\n",
       "Name: count, Length: 6766, dtype: int64"
      ]
     },
     "execution_count": 33,
     "metadata": {},
     "output_type": "execute_result"
    }
   ],
   "source": [
    "df['purchaseValue'].value_counts()"
   ]
  },
  {
   "cell_type": "code",
   "execution_count": 34,
   "id": "a2803b01",
   "metadata": {
    "execution": {
     "iopub.execute_input": "2025-07-27T18:19:20.894291Z",
     "iopub.status.busy": "2025-07-27T18:19:20.893604Z",
     "iopub.status.idle": "2025-07-27T18:19:21.078990Z",
     "shell.execute_reply": "2025-07-27T18:19:21.077912Z"
    },
    "papermill": {
     "duration": 0.214592,
     "end_time": "2025-07-27T18:19:21.080808",
     "exception": false,
     "start_time": "2025-07-27T18:19:20.866216",
     "status": "completed"
    },
    "tags": []
   },
   "outputs": [
    {
     "data": {
      "image/png": "[encoded data removed]",
      "text/plain": [
       "<Figure size 400x400 with 1 Axes>"
      ]
     },
     "metadata": {},
     "output_type": "display_data"
    }
   ],
   "source": [
    "zpurchase = df[df['purchaseValue']==0]\n",
    "nzpurchase= df[df['purchaseValue']>0]\n",
    "\n",
    "labels = ['Zero Purchases', 'Non-zero Purchases']\n",
    "sizes = [len(zpurchase), len(nzpurchase)]\n",
    "\n",
    "plt.figure(figsize=(4, 4))\n",
    "plt.pie(sizes, labels=labels, autopct='%1.1f%%', startangle=90, colors=['darkred','green'])\n",
    "plt.title('Distribution of Purchases')\n",
    "plt.axis('equal')  \n",
    "plt.show()"
   ]
  },
  {
   "cell_type": "markdown",
   "id": "0586d288",
   "metadata": {
    "papermill": {
     "duration": 0.025977,
     "end_time": "2025-07-27T18:19:21.133150",
     "exception": false,
     "start_time": "2025-07-27T18:19:21.107173",
     "status": "completed"
    },
    "tags": []
   },
   "source": [
    "**The pie chart highlights a classic case of class imbalance between zero and non-zero purchases.\n",
    "More than three-fourth of the recorded purchases result in zero value while the remaining conversions represent high-value transactions, often in the tens or hundreds of lakhs.\n",
    "This stark contrast leads to a significant class disparity.**"
   ]
  },
  {
   "cell_type": "markdown",
   "id": "88407be4",
   "metadata": {
    "papermill": {
     "duration": 0.026403,
     "end_time": "2025-07-27T18:19:21.186863",
     "exception": false,
     "start_time": "2025-07-27T18:19:21.160460",
     "status": "completed"
    },
    "tags": []
   },
   "source": [
    "# **3. Data Cleaning**"
   ]
  },
  {
   "cell_type": "code",
   "execution_count": 35,
   "id": "3f2b78c8",
   "metadata": {
    "execution": {
     "iopub.execute_input": "2025-07-27T18:19:21.241472Z",
     "iopub.status.busy": "2025-07-27T18:19:21.241162Z",
     "iopub.status.idle": "2025-07-27T18:19:21.247120Z",
     "shell.execute_reply": "2025-07-27T18:19:21.245879Z"
    },
    "papermill": {
     "duration": 0.035118,
     "end_time": "2025-07-27T18:19:21.248729",
     "exception": false,
     "start_time": "2025-07-27T18:19:21.213611",
     "status": "completed"
    },
    "tags": []
   },
   "outputs": [],
   "source": [
    "drop_cols=[\n",
    "    # single- valued columns\n",
    "    'trafficSource.adwordsClickInfo.slot',\n",
    "    'trafficSource.adContent',\n",
    "    'trafficSource.adwordsClickInfo.isVideoAd',\n",
    "    'device.mobileDeviceBranding',\n",
    "    'device.mobileInputSelector',\n",
    "    'trafficSource.adwordsClickInfo.adNetworkType',\n",
    "    'trafficSource.adwordsClickInfo.page',\n",
    "    'device.language', 'locationZone', 'device.screenResolution', 'screenSize',\n",
    "    'device.mobileDeviceMarketingName','device.operatingSystemVersion', 'device.flashVersion',\n",
    "    'device.screenColors', 'device.browserVersion', 'device.browserSize',\n",
    "    'socialEngagementType', 'device.mobileDeviceModel', 'browserMajor',\n",
    "    # null-valued columns\n",
    "    'trafficSource.keyword','trafficSource.referralPath','trafficSource.campaign',\n",
    "    'geoNetwork.city','geoNetwork.metro','geoNetwork.networkLocation','geoNetwork.region', 'locationCountry',\n",
    "    # binary-valued, inter-related, less significant\n",
    "    'totals.visits','gclIdPresent','trafficSource.isTrueDirect','totals.bounces','device.isMobile',\n",
    "    # high - cardinality identifiers\n",
    "    'sessionStart','userId','sessionId'\n",
    "]"
   ]
  },
  {
   "cell_type": "code",
   "execution_count": 36,
   "id": "88813157",
   "metadata": {
    "execution": {
     "iopub.execute_input": "2025-07-27T18:19:21.303268Z",
     "iopub.status.busy": "2025-07-27T18:19:21.302907Z",
     "iopub.status.idle": "2025-07-27T18:19:21.342968Z",
     "shell.execute_reply": "2025-07-27T18:19:21.341881Z"
    },
    "papermill": {
     "duration": 0.069785,
     "end_time": "2025-07-27T18:19:21.344854",
     "exception": false,
     "start_time": "2025-07-27T18:19:21.275069",
     "status": "completed"
    },
    "tags": []
   },
   "outputs": [],
   "source": [
    "df = df.drop(columns=drop_cols)"
   ]
  },
  {
   "cell_type": "code",
   "execution_count": 37,
   "id": "4ad36862",
   "metadata": {
    "execution": {
     "iopub.execute_input": "2025-07-27T18:19:21.398293Z",
     "iopub.status.busy": "2025-07-27T18:19:21.397950Z",
     "iopub.status.idle": "2025-07-27T18:19:21.531033Z",
     "shell.execute_reply": "2025-07-27T18:19:21.530144Z"
    },
    "papermill": {
     "duration": 0.161839,
     "end_time": "2025-07-27T18:19:21.532660",
     "exception": false,
     "start_time": "2025-07-27T18:19:21.370821",
     "status": "completed"
    },
    "tags": []
   },
   "outputs": [
    {
     "data": {
      "text/plain": [
       "purchaseValue                 0\n",
       "browser                       0\n",
       "geoCluster                    0\n",
       "geoNetwork.networkDomain      0\n",
       "sessionNumber                 0\n",
       "trafficSource                 0\n",
       "os                            0\n",
       "geoNetwork.subContinent     136\n",
       "trafficSource.medium          0\n",
       "pageViews                     0\n",
       "deviceType                    0\n",
       "userChannel                  10\n",
       "totalHits                     0\n",
       "geoNetwork.continent        136\n",
       "new_visits                    0\n",
       "Year                          0\n",
       "Month                         0\n",
       "Day                           0\n",
       "DayOfWeek                     0\n",
       "dtype: int64"
      ]
     },
     "execution_count": 37,
     "metadata": {},
     "output_type": "execute_result"
    }
   ],
   "source": [
    "def clean_data(df):\n",
    "    df['new_visits']=df['new_visits'].replace(np.nan,0)\n",
    "   # df['locationCountry']=df['locationCountry'].replace('(not set)',np.nan)\n",
    "    #df['locationCountry'] = df['locationCountry'].fillna(df['locationCountry'].mode())\n",
    "    df['geoNetwork.subContinent']=df['geoNetwork.subContinent'].replace('(not set)',np.nan)\n",
    "    df['geoNetwork.subContinent'] = df['geoNetwork.subContinent'].fillna(df['geoNetwork.subContinent'].mode())\n",
    "    df['geoNetwork.continent']=df['geoNetwork.continent'].replace('(not set)',np.nan)\n",
    "   # df['trafficSource.medium']=df['trafficSource.medium'].replace('(not set)',np.nan)\n",
    "    # df['trafficSource.medium']=df['trafficSource.medium'].replace('(none)',np.nan)\n",
    "    df['userChannel']=df['userChannel'].replace('(Other)',np.nan)\n",
    "    df['pageViews'] = df['pageViews'].fillna(df['pageViews'].mean())\n",
    "    return df\n",
    "\n",
    "df=clean_data(df)\n",
    "df.isnull().sum()"
   ]
  },
  {
   "cell_type": "code",
   "execution_count": 38,
   "id": "3ee46148",
   "metadata": {
    "execution": {
     "iopub.execute_input": "2025-07-27T18:19:21.587158Z",
     "iopub.status.busy": "2025-07-27T18:19:21.586796Z",
     "iopub.status.idle": "2025-07-27T18:19:21.724090Z",
     "shell.execute_reply": "2025-07-27T18:19:21.723164Z"
    },
    "papermill": {
     "duration": 0.167336,
     "end_time": "2025-07-27T18:19:21.726021",
     "exception": false,
     "start_time": "2025-07-27T18:19:21.558685",
     "status": "completed"
    },
    "tags": []
   },
   "outputs": [],
   "source": [
    "df.drop_duplicates(inplace=True)"
   ]
  },
  {
   "cell_type": "code",
   "execution_count": 39,
   "id": "99b54b4a",
   "metadata": {
    "execution": {
     "iopub.execute_input": "2025-07-27T18:19:21.780619Z",
     "iopub.status.busy": "2025-07-27T18:19:21.779848Z",
     "iopub.status.idle": "2025-07-27T18:19:21.974144Z",
     "shell.execute_reply": "2025-07-27T18:19:21.973285Z"
    },
    "papermill": {
     "duration": 0.223127,
     "end_time": "2025-07-27T18:19:21.975679",
     "exception": false,
     "start_time": "2025-07-27T18:19:21.752552",
     "status": "completed"
    },
    "tags": []
   },
   "outputs": [
    {
     "data": {
      "image/png": "[encoded data removed]",
      "text/plain": [
       "<Figure size 1000x500 with 1 Axes>"
      ]
     },
     "metadata": {},
     "output_type": "display_data"
    }
   ],
   "source": [
    "#average purchase values across different clusters\n",
    "\n",
    "gvalue=df.groupby('geoCluster')['purchaseValue'].mean().reset_index()\n",
    "\n",
    "plt.figure(figsize=(10,5))\n",
    "sns.barplot(data=gvalue,x='geoCluster',y='purchaseValue',color='darkblue')\n",
    "plt.title('Average Purchases Values across different Clusters')\n",
    "plt.xlabel('Clusters')\n",
    "plt.ylabel('Average Purchase Value')\n",
    "plt.xticks(ticks=range(len(gvalue)),labels=gvalue['geoCluster'].astype(str))\n",
    "plt.show()"
   ]
  },
  {
   "cell_type": "code",
   "execution_count": 40,
   "id": "2b343e02",
   "metadata": {
    "execution": {
     "iopub.execute_input": "2025-07-27T18:19:22.031527Z",
     "iopub.status.busy": "2025-07-27T18:19:22.030950Z",
     "iopub.status.idle": "2025-07-27T18:19:22.202225Z",
     "shell.execute_reply": "2025-07-27T18:19:22.201143Z"
    },
    "papermill": {
     "duration": 0.200448,
     "end_time": "2025-07-27T18:19:22.203881",
     "exception": false,
     "start_time": "2025-07-27T18:19:22.003433",
     "status": "completed"
    },
    "tags": []
   },
   "outputs": [
    {
     "data": {
      "image/png": "[encoded data removed]",
      "text/plain": [
       "<Figure size 1000x500 with 1 Axes>"
      ]
     },
     "metadata": {},
     "output_type": "display_data"
    }
   ],
   "source": [
    "#average purchase values across different devices\n",
    "\n",
    "devvalue=df.groupby('deviceType')['purchaseValue'].mean().reset_index()\n",
    "\n",
    "plt.figure(figsize=(10,5))\n",
    "sns.barplot(data=devvalue,x='deviceType',y='purchaseValue',palette='Set1')\n",
    "plt.title('Average Purchases Values across different Devices')\n",
    "plt.xlabel('Devices')\n",
    "plt.ylabel('Average Purchase Value')\n",
    "plt.xticks(ticks=range(len(devvalue)),labels=devvalue['deviceType'].astype(str))\n",
    "plt.show()"
   ]
  },
  {
   "cell_type": "code",
   "execution_count": 41,
   "id": "ab7b192d",
   "metadata": {
    "execution": {
     "iopub.execute_input": "2025-07-27T18:19:22.260665Z",
     "iopub.status.busy": "2025-07-27T18:19:22.260355Z",
     "iopub.status.idle": "2025-07-27T18:19:22.287251Z",
     "shell.execute_reply": "2025-07-27T18:19:22.286014Z"
    },
    "papermill": {
     "duration": 0.057105,
     "end_time": "2025-07-27T18:19:22.289448",
     "exception": false,
     "start_time": "2025-07-27T18:19:22.232343",
     "status": "completed"
    },
    "tags": []
   },
   "outputs": [],
   "source": [
    "df.drop(columns=['deviceType','geoCluster','trafficSource.medium'], inplace= True)\n",
    "X1_test.drop(columns=['deviceType','geoCluster','trafficSource.medium'], inplace= True)"
   ]
  },
  {
   "cell_type": "markdown",
   "id": "78bdb60f",
   "metadata": {
    "papermill": {
     "duration": 0.030724,
     "end_time": "2025-07-27T18:19:22.351064",
     "exception": false,
     "start_time": "2025-07-27T18:19:22.320340",
     "status": "completed"
    },
    "tags": []
   },
   "source": [
    "# **4. Feature Engineering (Part- 2)**"
   ]
  },
  {
   "cell_type": "code",
   "execution_count": 42,
   "id": "012fdf16",
   "metadata": {
    "execution": {
     "iopub.execute_input": "2025-07-27T18:19:22.408087Z",
     "iopub.status.busy": "2025-07-27T18:19:22.407760Z",
     "iopub.status.idle": "2025-07-27T18:19:22.795229Z",
     "shell.execute_reply": "2025-07-27T18:19:22.794342Z"
    },
    "papermill": {
     "duration": 0.418182,
     "end_time": "2025-07-27T18:19:22.796841",
     "exception": false,
     "start_time": "2025-07-27T18:19:22.378659",
     "status": "completed"
    },
    "tags": []
   },
   "outputs": [
    {
     "name": "stderr",
     "output_type": "stream",
     "text": [
      "/usr/local/lib/python3.11/dist-packages/seaborn/_oldcore.py:1119: FutureWarning: use_inf_as_na option is deprecated and will be removed in a future version. Convert inf values to NaN before operating instead.\n",
      "  with pd.option_context('mode.use_inf_as_na', True):\n"
     ]
    },
    {
     "data": {
      "image/png": "[encoded data removed]",
      "text/plain": [
       "<Figure size 1000x600 with 1 Axes>"
      ]
     },
     "metadata": {},
     "output_type": "display_data"
    }
   ],
   "source": [
    "# page views distribution\n",
    "\n",
    "plt.figure(figsize=(10,6))\n",
    "sns.histplot(df['pageViews'], bins=100)\n",
    "plt.title('Distribution of Page Views')\n",
    "plt.xlabel('Page Views')\n",
    "plt.ylabel('Count')\n",
    "plt.xlim(0, df['pageViews'].quantile(0.95))  \n",
    "plt.show()"
   ]
  },
  {
   "cell_type": "code",
   "execution_count": 43,
   "id": "37bd4523",
   "metadata": {
    "execution": {
     "iopub.execute_input": "2025-07-27T18:19:22.856234Z",
     "iopub.status.busy": "2025-07-27T18:19:22.855912Z",
     "iopub.status.idle": "2025-07-27T18:19:22.870634Z",
     "shell.execute_reply": "2025-07-27T18:19:22.869716Z"
    },
    "papermill": {
     "duration": 0.046337,
     "end_time": "2025-07-27T18:19:22.872300",
     "exception": false,
     "start_time": "2025-07-27T18:19:22.825963",
     "status": "completed"
    },
    "tags": []
   },
   "outputs": [],
   "source": [
    "bins = [-1, 1, 3, 5, 10, 20, 50, df['pageViews'].max()]\n",
    "labels = ['1', '2–3', '4–5', '6–10', '11–20', '21–50', '50+']\n",
    "df['user_activity'] = pd.cut(df['pageViews'], bins=bins, labels=labels, include_lowest=True)"
   ]
  },
  {
   "cell_type": "code",
   "execution_count": 44,
   "id": "4fa358e3",
   "metadata": {
    "execution": {
     "iopub.execute_input": "2025-07-27T18:19:22.930410Z",
     "iopub.status.busy": "2025-07-27T18:19:22.930079Z",
     "iopub.status.idle": "2025-07-27T18:19:22.941478Z",
     "shell.execute_reply": "2025-07-27T18:19:22.940749Z"
    },
    "papermill": {
     "duration": 0.042841,
     "end_time": "2025-07-27T18:19:22.943281",
     "exception": false,
     "start_time": "2025-07-27T18:19:22.900440",
     "status": "completed"
    },
    "tags": []
   },
   "outputs": [
    {
     "data": {
      "text/plain": [
       "heavy_pv\n",
       "0    112723\n",
       "1      1090\n",
       "Name: count, dtype: int64"
      ]
     },
     "execution_count": 44,
     "metadata": {},
     "output_type": "execute_result"
    }
   ],
   "source": [
    "pv = df['pageViews'].quantile(0.99)\n",
    "df['heavy_pv'] = (df['pageViews'] > pv).astype(int)\n",
    "df['heavy_pv'].value_counts()"
   ]
  },
  {
   "cell_type": "code",
   "execution_count": 45,
   "id": "b1d2b6dc",
   "metadata": {
    "execution": {
     "iopub.execute_input": "2025-07-27T18:19:23.002419Z",
     "iopub.status.busy": "2025-07-27T18:19:23.002017Z",
     "iopub.status.idle": "2025-07-27T18:19:23.011394Z",
     "shell.execute_reply": "2025-07-27T18:19:23.010205Z"
    },
    "papermill": {
     "duration": 0.04127,
     "end_time": "2025-07-27T18:19:23.012890",
     "exception": false,
     "start_time": "2025-07-27T18:19:22.971620",
     "status": "completed"
    },
    "tags": []
   },
   "outputs": [
    {
     "data": {
      "text/plain": [
       "sessionNumber\n",
       "1      78453\n",
       "2      14692\n",
       "3       6599\n",
       "4       3756\n",
       "5       2317\n",
       "       ...  \n",
       "143        1\n",
       "147        1\n",
       "196        1\n",
       "319        1\n",
       "406        1\n",
       "Name: count, Length: 230, dtype: int64"
      ]
     },
     "execution_count": 45,
     "metadata": {},
     "output_type": "execute_result"
    }
   ],
   "source": [
    "df['sessionNumber'].value_counts()"
   ]
  },
  {
   "cell_type": "code",
   "execution_count": 46,
   "id": "e5b3e814",
   "metadata": {
    "execution": {
     "iopub.execute_input": "2025-07-27T18:19:23.070641Z",
     "iopub.status.busy": "2025-07-27T18:19:23.070361Z",
     "iopub.status.idle": "2025-07-27T18:19:23.431380Z",
     "shell.execute_reply": "2025-07-27T18:19:23.430372Z"
    },
    "papermill": {
     "duration": 0.391655,
     "end_time": "2025-07-27T18:19:23.433081",
     "exception": false,
     "start_time": "2025-07-27T18:19:23.041426",
     "status": "completed"
    },
    "tags": []
   },
   "outputs": [
    {
     "name": "stderr",
     "output_type": "stream",
     "text": [
      "/usr/local/lib/python3.11/dist-packages/seaborn/_oldcore.py:1119: FutureWarning: use_inf_as_na option is deprecated and will be removed in a future version. Convert inf values to NaN before operating instead.\n",
      "  with pd.option_context('mode.use_inf_as_na', True):\n"
     ]
    },
    {
     "data": {
      "image/png": "[encoded data removed]",
      "text/plain": [
       "<Figure size 1000x600 with 1 Axes>"
      ]
     },
     "metadata": {},
     "output_type": "display_data"
    }
   ],
   "source": [
    "# session number distribution\n",
    "\n",
    "plt.figure(figsize=(10,6))\n",
    "sns.histplot(df['sessionNumber'], bins=100)\n",
    "plt.title('Distribution of Session Numbers')\n",
    "plt.xlabel('Session Number')\n",
    "plt.ylabel('Count')\n",
    "plt.xlim(1, df['sessionNumber'].quantile(0.99))  \n",
    "plt.show()"
   ]
  },
  {
   "cell_type": "code",
   "execution_count": 47,
   "id": "22ee7cd8",
   "metadata": {
    "execution": {
     "iopub.execute_input": "2025-07-27T18:19:23.496830Z",
     "iopub.status.busy": "2025-07-27T18:19:23.496433Z",
     "iopub.status.idle": "2025-07-27T18:19:23.509460Z",
     "shell.execute_reply": "2025-07-27T18:19:23.508016Z"
    },
    "papermill": {
     "duration": 0.047362,
     "end_time": "2025-07-27T18:19:23.511749",
     "exception": false,
     "start_time": "2025-07-27T18:19:23.464387",
     "status": "completed"
    },
    "tags": []
   },
   "outputs": [],
   "source": [
    "sess_bins = [-1, 1, 3, 5, 8, 10, 50, df['sessionNumber'].max()]\n",
    "sess_labels = ['1', '2-3', '4-5', '6-8', '9-10', '11-50', '50+']\n",
    "df['session_activity']= pd.cut(df['sessionNumber'], bins=sess_bins, labels=sess_labels, include_lowest=True)"
   ]
  },
  {
   "cell_type": "code",
   "execution_count": 48,
   "id": "d48fb6ee",
   "metadata": {
    "execution": {
     "iopub.execute_input": "2025-07-27T18:19:23.577642Z",
     "iopub.status.busy": "2025-07-27T18:19:23.577312Z",
     "iopub.status.idle": "2025-07-27T18:19:23.581791Z",
     "shell.execute_reply": "2025-07-27T18:19:23.580562Z"
    },
    "papermill": {
     "duration": 0.039773,
     "end_time": "2025-07-27T18:19:23.583554",
     "exception": false,
     "start_time": "2025-07-27T18:19:23.543781",
     "status": "completed"
    },
    "tags": []
   },
   "outputs": [],
   "source": [
    "# # total Hits distribution\n",
    "\n",
    "# plt.figure(figsize=(10,6))\n",
    "# sns.histplot(df['totalHits'], bins=100)\n",
    "# plt.title('Distribution of Total Hits')\n",
    "# plt.xlabel('Total Hits')\n",
    "# plt.ylabel('Count')\n",
    "# plt.xlim(1, df['totalHits'].quantile(0.95))  \n",
    "# plt.show()"
   ]
  },
  {
   "cell_type": "code",
   "execution_count": 49,
   "id": "a3935c4b",
   "metadata": {
    "execution": {
     "iopub.execute_input": "2025-07-27T18:19:23.650177Z",
     "iopub.status.busy": "2025-07-27T18:19:23.649828Z",
     "iopub.status.idle": "2025-07-27T18:19:23.654162Z",
     "shell.execute_reply": "2025-07-27T18:19:23.653009Z"
    },
    "papermill": {
     "duration": 0.040341,
     "end_time": "2025-07-27T18:19:23.655751",
     "exception": false,
     "start_time": "2025-07-27T18:19:23.615410",
     "status": "completed"
    },
    "tags": []
   },
   "outputs": [],
   "source": [
    "# hbins = [-1, 1, 3, 5, 7, 10, 20, 30, 50, df['totalHits'].max()]\n",
    "# hlabels = ['1','2-3','4-5','6-7','8-10','11-20','21-30','31-50','50+']\n",
    "# df['hits_activity'] = pd.cut(df['totalHits'], bins=hbins, labels=hlabels, include_lowest=True)"
   ]
  },
  {
   "cell_type": "code",
   "execution_count": 50,
   "id": "04f46586",
   "metadata": {
    "execution": {
     "iopub.execute_input": "2025-07-27T18:19:23.715913Z",
     "iopub.status.busy": "2025-07-27T18:19:23.715629Z",
     "iopub.status.idle": "2025-07-27T18:19:23.750757Z",
     "shell.execute_reply": "2025-07-27T18:19:23.749982Z"
    },
    "papermill": {
     "duration": 0.067282,
     "end_time": "2025-07-27T18:19:23.752527",
     "exception": false,
     "start_time": "2025-07-27T18:19:23.685245",
     "status": "completed"
    },
    "tags": []
   },
   "outputs": [],
   "source": [
    "df['hits/page_view'] = df['totalHits']/df['pageViews']\n",
    "df['page_views/session'] = df['pageViews']/df['sessionNumber']\n",
    "df['interaction1'] = df['pageViews'] * df['sessionNumber']\n",
    "df['quick_exit'] = (df['hits/page_view'] < 2).astype(int)\n",
    "\n",
    "# df['interaction2'] = df['totalHits'] * df['pageViews']\n",
    "# df['hits/session'] = df['totalHits']/df['sessionNumber']\n",
    "# df['new_users_pveng'] = df['new_visits']*df['pageViews']\n",
    "# df['new_users_sneng'] = df['new_visits']*df['sessionNumber']\n",
    "# df['new_users_theng'] = df['new_visits']*df['totalHits']"
   ]
  },
  {
   "cell_type": "code",
   "execution_count": 51,
   "id": "0c5145f4",
   "metadata": {
    "execution": {
     "iopub.execute_input": "2025-07-27T18:19:23.812008Z",
     "iopub.status.busy": "2025-07-27T18:19:23.811677Z",
     "iopub.status.idle": "2025-07-27T18:19:24.983908Z",
     "shell.execute_reply": "2025-07-27T18:19:24.982851Z"
    },
    "papermill": {
     "duration": 1.204839,
     "end_time": "2025-07-27T18:19:24.985758",
     "exception": false,
     "start_time": "2025-07-27T18:19:23.780919",
     "status": "completed"
    },
    "tags": []
   },
   "outputs": [],
   "source": [
    "def low_activity(pv,hits,sn):\n",
    "    if pv==hits and pv==sn:\n",
    "        return 1\n",
    "    else:\n",
    "        return 0\n",
    "\n",
    "df['low_activity'] = df.apply(lambda row: low_activity(row['pageViews'],row['totalHits'],row['sessionNumber']), axis=1)"
   ]
  },
  {
   "cell_type": "code",
   "execution_count": 52,
   "id": "e2e53a0f",
   "metadata": {
    "execution": {
     "iopub.execute_input": "2025-07-27T18:19:25.048937Z",
     "iopub.status.busy": "2025-07-27T18:19:25.048610Z",
     "iopub.status.idle": "2025-07-27T18:19:26.158703Z",
     "shell.execute_reply": "2025-07-27T18:19:26.157279Z"
    },
    "papermill": {
     "duration": 1.14401,
     "end_time": "2025-07-27T18:19:26.160459",
     "exception": false,
     "start_time": "2025-07-27T18:19:25.016449",
     "status": "completed"
    },
    "tags": []
   },
   "outputs": [],
   "source": [
    "def prob(new_visits, pageViews, sessionNumber):\n",
    "    if new_visits == 1 and pageViews < 5 and sessionNumber < 3:\n",
    "        return 'Not Likely'\n",
    "    elif new_visits == 1 and pageViews in range(5,16) and sessionNumber < 6:\n",
    "        return 'Likely'\n",
    "    elif pageViews > 15 and sessionNumber > 5:\n",
    "        return 'Most Likely'\n",
    "    else:\n",
    "        return 'Indefinite'\n",
    "\n",
    "df['conversion_probability'] = df.apply(lambda row: prob(row['new_visits'], row['pageViews'], row['sessionNumber']), axis=1)"
   ]
  },
  {
   "cell_type": "code",
   "execution_count": 53,
   "id": "2ed3e191",
   "metadata": {
    "execution": {
     "iopub.execute_input": "2025-07-27T18:19:26.219097Z",
     "iopub.status.busy": "2025-07-27T18:19:26.218780Z",
     "iopub.status.idle": "2025-07-27T18:19:26.248389Z",
     "shell.execute_reply": "2025-07-27T18:19:26.247453Z"
    },
    "papermill": {
     "duration": 0.061197,
     "end_time": "2025-07-27T18:19:26.250152",
     "exception": false,
     "start_time": "2025-07-27T18:19:26.188955",
     "status": "completed"
    },
    "tags": []
   },
   "outputs": [],
   "source": [
    "def quarters(month):\n",
    "    if month<4:\n",
    "        return 'Q1'\n",
    "    elif month<7:\n",
    "        return 'Q2'\n",
    "    elif month<10:\n",
    "        return 'Q3'\n",
    "    else:\n",
    "        return 'Q4'\n",
    "df['Quarter']=df['Month'].apply(quarters)"
   ]
  },
  {
   "cell_type": "code",
   "execution_count": 54,
   "id": "fe1ae17e",
   "metadata": {
    "execution": {
     "iopub.execute_input": "2025-07-27T18:19:26.309558Z",
     "iopub.status.busy": "2025-07-27T18:19:26.309252Z",
     "iopub.status.idle": "2025-07-27T18:19:26.452991Z",
     "shell.execute_reply": "2025-07-27T18:19:26.452126Z"
    },
    "papermill": {
     "duration": 0.174755,
     "end_time": "2025-07-27T18:19:26.454700",
     "exception": false,
     "start_time": "2025-07-27T18:19:26.279945",
     "status": "completed"
    },
    "tags": []
   },
   "outputs": [],
   "source": [
    "df['month_year'] = df['Month'].astype(str)+'_'+df['Year'].astype(str)\n",
    "df['q_month'] = df['Quarter'].astype(str)+'_'+df['Month'].astype(str)"
   ]
  },
  {
   "cell_type": "code",
   "execution_count": 55,
   "id": "62842145",
   "metadata": {
    "execution": {
     "iopub.execute_input": "2025-07-27T18:19:26.513650Z",
     "iopub.status.busy": "2025-07-27T18:19:26.513322Z",
     "iopub.status.idle": "2025-07-27T18:19:26.517657Z",
     "shell.execute_reply": "2025-07-27T18:19:26.516700Z"
    },
    "papermill": {
     "duration": 0.03562,
     "end_time": "2025-07-27T18:19:26.519185",
     "exception": false,
     "start_time": "2025-07-27T18:19:26.483565",
     "status": "completed"
    },
    "tags": []
   },
   "outputs": [],
   "source": [
    "# def is_eom(day):\n",
    "#     if day in range(28,32):\n",
    "#         return 1\n",
    "#     else:\n",
    "#         return 0\n",
    "\n",
    "# df['eom'] = df['Day'].apply(is_eom)"
   ]
  },
  {
   "cell_type": "code",
   "execution_count": 56,
   "id": "cd8fb16c",
   "metadata": {
    "execution": {
     "iopub.execute_input": "2025-07-27T18:19:26.577233Z",
     "iopub.status.busy": "2025-07-27T18:19:26.576915Z",
     "iopub.status.idle": "2025-07-27T18:19:26.581229Z",
     "shell.execute_reply": "2025-07-27T18:19:26.580262Z"
    },
    "papermill": {
     "duration": 0.035134,
     "end_time": "2025-07-27T18:19:26.582684",
     "exception": false,
     "start_time": "2025-07-27T18:19:26.547550",
     "status": "completed"
    },
    "tags": []
   },
   "outputs": [],
   "source": [
    "# def is_session_bounce(sessionNumber,pageViews):\n",
    "#     if sessionNumber==1 and pageViews==1:\n",
    "#         return 1\n",
    "#     else:\n",
    "#         return 0\n",
    "\n",
    "# df['is_session_bounce'] = df.apply(lambda row: is_session_bounce(row['sessionNumber'],row['pageViews']), axis=1)    \n",
    "# df['is_session_bounce'].value_counts()"
   ]
  },
  {
   "cell_type": "code",
   "execution_count": 57,
   "id": "fef1a1dc",
   "metadata": {
    "execution": {
     "iopub.execute_input": "2025-07-27T18:19:26.643650Z",
     "iopub.status.busy": "2025-07-27T18:19:26.643346Z",
     "iopub.status.idle": "2025-07-27T18:19:26.647422Z",
     "shell.execute_reply": "2025-07-27T18:19:26.646569Z"
    },
    "papermill": {
     "duration": 0.035878,
     "end_time": "2025-07-27T18:19:26.648904",
     "exception": false,
     "start_time": "2025-07-27T18:19:26.613026",
     "status": "completed"
    },
    "tags": []
   },
   "outputs": [],
   "source": [
    "# def purchase(traffic_source, medium, conversion_probability):\n",
    "#     source_medium = f\"{traffic_source}/{medium}\"\n",
    "    \n",
    "#     if source_medium in ('dfa/cpm', '(direct)/none') and conversion_probability == 'Most Likely':\n",
    "#         return 'High'\n",
    "#     elif source_medium in ('google/organic', '(direct)/none') and conversion_probability in ('Likely', 'Less Likely'):\n",
    "#         return 'Medium'\n",
    "#     else:\n",
    "#         return 'Low'\n",
    "\n",
    "# df['pvalues'] = df.apply(lambda row: purchase(row['trafficSource'], row['trafficSource.medium'], row['conversion_probability']), axis=1)"
   ]
  },
  {
   "cell_type": "code",
   "execution_count": 58,
   "id": "3081137a",
   "metadata": {
    "execution": {
     "iopub.execute_input": "2025-07-27T18:19:26.712236Z",
     "iopub.status.busy": "2025-07-27T18:19:26.711841Z",
     "iopub.status.idle": "2025-07-27T18:19:26.716551Z",
     "shell.execute_reply": "2025-07-27T18:19:26.715474Z"
    },
    "papermill": {
     "duration": 0.039158,
     "end_time": "2025-07-27T18:19:26.718192",
     "exception": false,
     "start_time": "2025-07-27T18:19:26.679034",
     "status": "completed"
    },
    "tags": []
   },
   "outputs": [],
   "source": [
    "# def pvalue(day,month,year):\n",
    "#     if day<5 and month in range(4,9) and year in (2016,2017):\n",
    "#         return 'High'\n",
    "#     else:\n",
    "#         return 'Low'\n",
    "\n",
    "# df['pvalues'] = df.apply(lambda row: pvalue(row['DayOfWeek'], row['Month'], row['Year']), axis=1)"
   ]
  },
  {
   "cell_type": "code",
   "execution_count": 59,
   "id": "3fcaeaa3",
   "metadata": {
    "execution": {
     "iopub.execute_input": "2025-07-27T18:19:26.777427Z",
     "iopub.status.busy": "2025-07-27T18:19:26.777035Z",
     "iopub.status.idle": "2025-07-27T18:19:26.782974Z",
     "shell.execute_reply": "2025-07-27T18:19:26.781425Z"
    },
    "papermill": {
     "duration": 0.036784,
     "end_time": "2025-07-27T18:19:26.784600",
     "exception": false,
     "start_time": "2025-07-27T18:19:26.747816",
     "status": "completed"
    },
    "tags": []
   },
   "outputs": [
    {
     "name": "stdout",
     "output_type": "stream",
     "text": [
      "Index(['purchaseValue', 'browser', 'geoNetwork.networkDomain', 'sessionNumber',\n",
      "       'trafficSource', 'os', 'geoNetwork.subContinent', 'pageViews',\n",
      "       'userChannel', 'totalHits', 'geoNetwork.continent', 'new_visits',\n",
      "       'Year', 'Month', 'Day', 'DayOfWeek', 'user_activity', 'heavy_pv',\n",
      "       'session_activity', 'hits/page_view', 'page_views/session',\n",
      "       'interaction1', 'quick_exit', 'low_activity', 'conversion_probability',\n",
      "       'Quarter', 'month_year', 'q_month'],\n",
      "      dtype='object')\n"
     ]
    }
   ],
   "source": [
    "print(df.columns)"
   ]
  },
  {
   "cell_type": "markdown",
   "id": "ff9c5645",
   "metadata": {
    "papermill": {
     "duration": 0.029418,
     "end_time": "2025-07-27T18:19:26.843362",
     "exception": false,
     "start_time": "2025-07-27T18:19:26.813944",
     "status": "completed"
    },
    "tags": []
   },
   "source": [
    "# **5. Data Preprocessing & Transformations**"
   ]
  },
  {
   "cell_type": "code",
   "execution_count": 60,
   "id": "68fcff56",
   "metadata": {
    "execution": {
     "iopub.execute_input": "2025-07-27T18:19:26.904485Z",
     "iopub.status.busy": "2025-07-27T18:19:26.904154Z",
     "iopub.status.idle": "2025-07-27T18:19:26.932963Z",
     "shell.execute_reply": "2025-07-27T18:19:26.932011Z"
    },
    "papermill": {
     "duration": 0.062661,
     "end_time": "2025-07-27T18:19:26.934659",
     "exception": false,
     "start_time": "2025-07-27T18:19:26.871998",
     "status": "completed"
    },
    "tags": []
   },
   "outputs": [],
   "source": [
    "X=df.drop(columns='purchaseValue')\n",
    "y=df['purchaseValue']"
   ]
  },
  {
   "cell_type": "code",
   "execution_count": 61,
   "id": "2ffbf63d",
   "metadata": {
    "execution": {
     "iopub.execute_input": "2025-07-27T18:19:26.992924Z",
     "iopub.status.busy": "2025-07-27T18:19:26.992614Z",
     "iopub.status.idle": "2025-07-27T18:19:27.672205Z",
     "shell.execute_reply": "2025-07-27T18:19:27.671263Z"
    },
    "papermill": {
     "duration": 0.710529,
     "end_time": "2025-07-27T18:19:27.673648",
     "exception": false,
     "start_time": "2025-07-27T18:19:26.963119",
     "status": "completed"
    },
    "tags": []
   },
   "outputs": [
    {
     "data": {
      "image/png": "[encoded data removed]",
      "text/plain": [
       "<Figure size 1600x1000 with 2 Axes>"
      ]
     },
     "metadata": {},
     "output_type": "display_data"
    }
   ],
   "source": [
    "# correlation between numerical features\n",
    "\n",
    "X_num = X.select_dtypes(include=['int64', 'float64', 'int32', 'float32']) \n",
    "corr_matrix = X_num.corr()\n",
    "\n",
    "plt.figure(figsize=(16, 10))\n",
    "sns.heatmap(corr_matrix, cmap='coolwarm', annot=False, linewidths=0.5)\n",
    "plt.title(\"Feature Correlation Matrix\")\n",
    "plt.show()"
   ]
  },
  {
   "cell_type": "code",
   "execution_count": 62,
   "id": "b7d71c9a",
   "metadata": {
    "execution": {
     "iopub.execute_input": "2025-07-27T18:19:27.739196Z",
     "iopub.status.busy": "2025-07-27T18:19:27.738843Z",
     "iopub.status.idle": "2025-07-27T18:19:30.651757Z",
     "shell.execute_reply": "2025-07-27T18:19:30.650660Z"
    },
    "papermill": {
     "duration": 2.946496,
     "end_time": "2025-07-27T18:19:30.653649",
     "exception": false,
     "start_time": "2025-07-27T18:19:27.707153",
     "status": "completed"
    },
    "tags": []
   },
   "outputs": [],
   "source": [
    "from sklearn.model_selection import train_test_split\n",
    "from sklearn.compose import ColumnTransformer\n",
    "from sklearn.preprocessing import OneHotEncoder, OrdinalEncoder, RobustScaler, StandardScaler, MinMaxScaler\n",
    "from sklearn.impute import SimpleImputer\n",
    "from sklearn.pipeline import Pipeline\n",
    "import category_encoders as ce\n",
    "\n",
    "X_train, X_test, y_train, y_test = train_test_split(X, y, test_size=0.2, random_state=42)\n",
    "\n",
    "\n",
    "encoder_te= ce.TargetEncoder(cols=['totalHits', 'hits/page_view','page_views/session','geoNetwork.subContinent',\n",
    "                                   'sessionNumber','pageViews','interaction1','month_year','q_month'],\n",
    "                             smoothing=10, handle_unknown='value', handle_missing='value')\n",
    "X_train = encoder_te.fit_transform(X_train,y_train)\n",
    "X_test = encoder_te.transform(X_test)\n",
    "\n",
    "\n",
    "cat_ohe_pipeline = Pipeline([\n",
    "    ('s_imputer', SimpleImputer(strategy='most_frequent')),\n",
    "    ('encoder', OneHotEncoder(handle_unknown='ignore', sparse_output=False))\n",
    "])\n",
    "\n",
    "num_cols = ['totalHits','sessionNumber','pageViews']\n",
    "\n",
    "colums = ColumnTransformer([\n",
    "    # ('new_geocluster', OneHotEncoder(sparse_output=False), ['geoCluster']),\n",
    "   # ('new_devicetype', OneHotEncoder(sparse_output=False), ['deviceType']),\n",
    "    ('new_geoNetwork.networkDomain', OneHotEncoder(sparse_output=False), ['geoNetwork.networkDomain']),\n",
    "    ('new_os', OneHotEncoder(sparse_output=False), ['os']),\n",
    "    ('new_cp', OneHotEncoder(sparse_output=False), ['conversion_probability']),\n",
    "    ('new_year', OneHotEncoder(sparse_output=False), ['Year']),\n",
    "    ('new_day', OneHotEncoder(sparse_output=False), ['Day']),\n",
    "    ('new_quarter', OneHotEncoder(sparse_output=False), ['Quarter']),\n",
    "    ('new_dow', OneHotEncoder(sparse_output=False), ['DayOfWeek']),\n",
    "    ('new_useractivity', OneHotEncoder(handle_unknown='ignore'), ['user_activity']),\n",
    "    ('new_sessionactivity', OneHotEncoder(handle_unknown='ignore'), ['session_activity']),\n",
    "    ('new_browser', OneHotEncoder(handle_unknown='ignore'), ['browser']), \n",
    "    ('new_geoNetwork.continent', cat_ohe_pipeline, ['geoNetwork.continent']),\n",
    "    ('traffic_source', OneHotEncoder(sparse_output=False, handle_unknown='ignore'), ['trafficSource']),\n",
    "    #('traffic_medium', cat_ohe_pipeline, ['trafficSource.medium']),\n",
    "    ('user_channel', cat_ohe_pipeline, ['userChannel']),\n",
    "    ('scaler', StandardScaler(), num_cols)\n",
    "], remainder='passthrough')\n",
    "\n",
    "\n",
    "\n",
    "# X_train = colums.fit_transform(X_train)\n",
    "# X_test = colums.transform(X_test)                        \n"
   ]
  },
  {
   "cell_type": "code",
   "execution_count": 63,
   "id": "c9658cdc",
   "metadata": {
    "execution": {
     "iopub.execute_input": "2025-07-27T18:19:30.725726Z",
     "iopub.status.busy": "2025-07-27T18:19:30.725259Z",
     "iopub.status.idle": "2025-07-27T18:19:31.354150Z",
     "shell.execute_reply": "2025-07-27T18:19:31.353114Z"
    },
    "papermill": {
     "duration": 0.670307,
     "end_time": "2025-07-27T18:19:31.356432",
     "exception": false,
     "start_time": "2025-07-27T18:19:30.686125",
     "status": "completed"
    },
    "tags": []
   },
   "outputs": [],
   "source": [
    "pipeline=Pipeline([\n",
    "    ('columnTrans',colums)\n",
    "])\n",
    "\n",
    "X_train=pipeline.fit_transform(X_train)\n",
    "X_test=pipeline.transform(X_test)"
   ]
  },
  {
   "cell_type": "code",
   "execution_count": 64,
   "id": "628dd34b",
   "metadata": {
    "execution": {
     "iopub.execute_input": "2025-07-27T18:19:31.427348Z",
     "iopub.status.busy": "2025-07-27T18:19:31.426988Z",
     "iopub.status.idle": "2025-07-27T18:19:31.432200Z",
     "shell.execute_reply": "2025-07-27T18:19:31.431159Z"
    },
    "papermill": {
     "duration": 0.038676,
     "end_time": "2025-07-27T18:19:31.433926",
     "exception": false,
     "start_time": "2025-07-27T18:19:31.395250",
     "status": "completed"
    },
    "tags": []
   },
   "outputs": [
    {
     "name": "stdout",
     "output_type": "stream",
     "text": [
      "(91050, 113)\n"
     ]
    }
   ],
   "source": [
    "print(X_train.shape)"
   ]
  },
  {
   "cell_type": "markdown",
   "id": "0502a13f",
   "metadata": {
    "papermill": {
     "duration": 0.029581,
     "end_time": "2025-07-27T18:19:31.500813",
     "exception": false,
     "start_time": "2025-07-27T18:19:31.471232",
     "status": "completed"
    },
    "tags": []
   },
   "source": [
    "# **7. Model Fitting**"
   ]
  },
  {
   "cell_type": "markdown",
   "id": "c21879b9",
   "metadata": {
    "papermill": {
     "duration": 0.031161,
     "end_time": "2025-07-27T18:19:31.562887",
     "exception": false,
     "start_time": "2025-07-27T18:19:31.531726",
     "status": "completed"
    },
    "tags": []
   },
   "source": [
    "# a) Two-Stage Model - Linear, XGBoost, Random Forest, Gradient Boosting"
   ]
  },
  {
   "cell_type": "markdown",
   "id": "b893e4a0",
   "metadata": {
    "papermill": {
     "duration": 0.030791,
     "end_time": "2025-07-27T18:19:31.624647",
     "exception": false,
     "start_time": "2025-07-27T18:19:31.593856",
     "status": "completed"
    },
    "tags": []
   },
   "source": [
    "# *Stage I: Classification*"
   ]
  },
  {
   "cell_type": "code",
   "execution_count": 65,
   "id": "38700fa7",
   "metadata": {
    "execution": {
     "iopub.execute_input": "2025-07-27T18:19:31.687333Z",
     "iopub.status.busy": "2025-07-27T18:19:31.686970Z",
     "iopub.status.idle": "2025-07-27T18:19:33.644010Z",
     "shell.execute_reply": "2025-07-27T18:19:33.642830Z"
    },
    "papermill": {
     "duration": 1.990813,
     "end_time": "2025-07-27T18:19:33.645897",
     "exception": false,
     "start_time": "2025-07-27T18:19:31.655084",
     "status": "completed"
    },
    "tags": []
   },
   "outputs": [
    {
     "name": "stdout",
     "output_type": "stream",
     "text": [
      "Classification Report:\n",
      "              precision    recall  f1-score   support\n",
      "\n",
      "           0       0.98      0.96      0.97     17979\n",
      "           1       0.88      0.94      0.91      4784\n",
      "\n",
      "    accuracy                           0.96     22763\n",
      "   macro avg       0.93      0.95      0.94     22763\n",
      "weighted avg       0.96      0.96      0.96     22763\n",
      "\n",
      "Confusion Matrix:\n",
      "[[17340   639]\n",
      " [  272  4512]]\n"
     ]
    }
   ],
   "source": [
    "y_train_classif=(y_train>0).astype(int)\n",
    "y_test_classif=(y_test>0).astype(int)\n",
    "\n",
    "from xgboost import XGBClassifier\n",
    "xgbc=XGBClassifier()\n",
    "xgbc.fit(X_train,y_train_classif)\n",
    "y_pred_classif=xgbc.predict(X_test)\n",
    "\n",
    "from sklearn.metrics import classification_report,confusion_matrix\n",
    "print('Classification Report:')\n",
    "print(classification_report(y_test_classif, y_pred_classif))\n",
    "print('Confusion Matrix:')\n",
    "print(confusion_matrix(y_test_classif, y_pred_classif))"
   ]
  },
  {
   "cell_type": "markdown",
   "id": "7f3cac11",
   "metadata": {
    "papermill": {
     "duration": 0.032734,
     "end_time": "2025-07-27T18:19:33.709089",
     "exception": false,
     "start_time": "2025-07-27T18:19:33.676355",
     "status": "completed"
    },
    "tags": []
   },
   "source": [
    "# *Stage II: Regression*"
   ]
  },
  {
   "cell_type": "code",
   "execution_count": 66,
   "id": "84cc1942",
   "metadata": {
    "execution": {
     "iopub.execute_input": "2025-07-27T18:19:33.771300Z",
     "iopub.status.busy": "2025-07-27T18:19:33.770537Z",
     "iopub.status.idle": "2025-07-27T18:19:33.782589Z",
     "shell.execute_reply": "2025-07-27T18:19:33.781670Z"
    },
    "papermill": {
     "duration": 0.045167,
     "end_time": "2025-07-27T18:19:33.784388",
     "exception": false,
     "start_time": "2025-07-27T18:19:33.739221",
     "status": "completed"
    },
    "tags": []
   },
   "outputs": [],
   "source": [
    "X_train_reg = X_train[y_train > 0]\n",
    "y_train_reg = y_train[y_train > 0]"
   ]
  },
  {
   "cell_type": "code",
   "execution_count": 67,
   "id": "93270032",
   "metadata": {
    "execution": {
     "iopub.execute_input": "2025-07-27T18:19:33.845799Z",
     "iopub.status.busy": "2025-07-27T18:19:33.845463Z",
     "iopub.status.idle": "2025-07-27T18:19:34.025415Z",
     "shell.execute_reply": "2025-07-27T18:19:34.024442Z"
    },
    "papermill": {
     "duration": 0.212621,
     "end_time": "2025-07-27T18:19:34.027426",
     "exception": false,
     "start_time": "2025-07-27T18:19:33.814805",
     "status": "completed"
    },
    "tags": []
   },
   "outputs": [
    {
     "name": "stdout",
     "output_type": "stream",
     "text": [
      "R² Score on Linear Regression: 0.5134502788719717\n"
     ]
    }
   ],
   "source": [
    "#baseline model\n",
    "\n",
    "y_final_pred = np.zeros(X_test.shape[0])\n",
    "\n",
    "from sklearn.linear_model import LinearRegression\n",
    "from sklearn.metrics import r2_score    \n",
    "lr = LinearRegression()\n",
    "lr.fit(X_train_reg,y_train_reg)\n",
    "\n",
    "reg_indices=np.where(y_pred_classif==1)[0]\n",
    "X_test_reg=X_test[reg_indices]\n",
    "y_pred_reg=lr.predict(X_test_reg)\n",
    "y_final_pred[reg_indices]=y_pred_reg\n",
    "\n",
    "from sklearn.metrics import r2_score\n",
    "lr_cl_r2 = r2_score(y_test, y_final_pred)\n",
    "\n",
    "print(\"R² Score on Linear Regression:\", lr_cl_r2)"
   ]
  },
  {
   "cell_type": "code",
   "execution_count": 68,
   "id": "1e28c144",
   "metadata": {
    "execution": {
     "iopub.execute_input": "2025-07-27T18:19:34.134316Z",
     "iopub.status.busy": "2025-07-27T18:19:34.133921Z",
     "iopub.status.idle": "2025-07-27T18:19:34.174471Z",
     "shell.execute_reply": "2025-07-27T18:19:34.173309Z"
    },
    "papermill": {
     "duration": 0.095891,
     "end_time": "2025-07-27T18:19:34.176139",
     "exception": false,
     "start_time": "2025-07-27T18:19:34.080248",
     "status": "completed"
    },
    "tags": []
   },
   "outputs": [
    {
     "name": "stdout",
     "output_type": "stream",
     "text": [
      "R² Score on Ridge: 0.5134749193295703\n"
     ]
    },
    {
     "name": "stderr",
     "output_type": "stream",
     "text": [
      "/usr/local/lib/python3.11/dist-packages/sklearn/linear_model/_ridge.py:216: LinAlgWarning: Ill-conditioned matrix (rcond=2.66006e-21): result may not be accurate.\n",
      "  return linalg.solve(A, Xy, assume_a=\"pos\", overwrite_a=True).T\n"
     ]
    }
   ],
   "source": [
    "y_final_pred = np.zeros(X_test.shape[0])\n",
    "\n",
    "from sklearn.linear_model import Ridge\n",
    "from sklearn.metrics import r2_score\n",
    "\n",
    "ridge = Ridge(alpha=0.5)\n",
    "ridge.fit(X_train_reg,y_train_reg)\n",
    "\n",
    "reg_indices=np.where(y_pred_classif==1)[0]\n",
    "X_test_reg=X_test[reg_indices]\n",
    "y_pred_reg=ridge.predict(X_test_reg)\n",
    "y_final_pred[reg_indices]=y_pred_reg\n",
    "\n",
    "from sklearn.metrics import r2_score\n",
    "rid_cl_r2 = r2_score(y_test, y_final_pred)\n",
    "\n",
    "print(\"R² Score on Ridge:\", rid_cl_r2)"
   ]
  },
  {
   "cell_type": "code",
   "execution_count": 69,
   "id": "2e6e155d",
   "metadata": {
    "execution": {
     "iopub.execute_input": "2025-07-27T18:19:34.246776Z",
     "iopub.status.busy": "2025-07-27T18:19:34.246384Z",
     "iopub.status.idle": "2025-07-27T18:19:34.667634Z",
     "shell.execute_reply": "2025-07-27T18:19:34.666661Z"
    },
    "papermill": {
     "duration": 0.460434,
     "end_time": "2025-07-27T18:19:34.669354",
     "exception": false,
     "start_time": "2025-07-27T18:19:34.208920",
     "status": "completed"
    },
    "tags": []
   },
   "outputs": [
    {
     "name": "stdout",
     "output_type": "stream",
     "text": [
      "R² Score on XGB: 0.6498126330400263\n"
     ]
    }
   ],
   "source": [
    "y_final_pred = np.zeros(X_test.shape[0])\n",
    "\n",
    "from xgboost import XGBRegressor\n",
    "xgbr= XGBRegressor(n_estimators=100, random_state=42, n_jobs=-1)\n",
    "xgbr.fit(X_train_reg,y_train_reg)\n",
    "\n",
    "reg_indices=np.where(y_pred_classif==1)[0]\n",
    "X_test_reg=X_test[reg_indices]\n",
    "y_pred_reg=xgbr.predict(X_test_reg)\n",
    "y_final_pred[reg_indices]=y_pred_reg\n",
    "\n",
    "from sklearn.metrics import r2_score\n",
    "xgb_cl_r2 = r2_score(y_test, y_final_pred)\n",
    "\n",
    "print(\"R² Score on XGB:\", xgb_cl_r2)"
   ]
  },
  {
   "cell_type": "code",
   "execution_count": 70,
   "id": "f55826f7",
   "metadata": {
    "execution": {
     "iopub.execute_input": "2025-07-27T18:19:34.735837Z",
     "iopub.status.busy": "2025-07-27T18:19:34.735147Z",
     "iopub.status.idle": "2025-07-27T18:20:03.356942Z",
     "shell.execute_reply": "2025-07-27T18:20:03.355449Z"
    },
    "papermill": {
     "duration": 28.656612,
     "end_time": "2025-07-27T18:20:03.358756",
     "exception": false,
     "start_time": "2025-07-27T18:19:34.702144",
     "status": "completed"
    },
    "tags": []
   },
   "outputs": [
    {
     "name": "stdout",
     "output_type": "stream",
     "text": [
      "R² Score on Random Forest: 0.6988036571288703\n"
     ]
    }
   ],
   "source": [
    "Y_pred = np.zeros(X_test.shape[0])\n",
    "\n",
    "from sklearn.ensemble import RandomForestRegressor\n",
    "rf=RandomForestRegressor(n_estimators=200, random_state=42,n_jobs=-1)\n",
    "rf.fit(X_train_reg,y_train_reg)\n",
    "\n",
    "reg_indices=np.where(y_pred_classif==1)[0]\n",
    "X_test_reg=X_test[reg_indices]\n",
    "y_pred_reg=rf.predict(X_test_reg)\n",
    "Y_pred[reg_indices]=y_pred_reg\n",
    "\n",
    "from sklearn.metrics import r2_score\n",
    "rf_cl_r2 = r2_score(y_test, Y_pred)\n",
    "\n",
    "print(\"R² Score on Random Forest:\", rf_cl_r2)"
   ]
  },
  {
   "cell_type": "code",
   "execution_count": 71,
   "id": "ecb2abea",
   "metadata": {
    "execution": {
     "iopub.execute_input": "2025-07-27T18:20:03.425686Z",
     "iopub.status.busy": "2025-07-27T18:20:03.425332Z",
     "iopub.status.idle": "2025-07-27T18:20:03.614019Z",
     "shell.execute_reply": "2025-07-27T18:20:03.613137Z"
    },
    "papermill": {
     "duration": 0.223734,
     "end_time": "2025-07-27T18:20:03.615959",
     "exception": false,
     "start_time": "2025-07-27T18:20:03.392225",
     "status": "completed"
    },
    "tags": []
   },
   "outputs": [
    {
     "data": {
      "image/png": "[encoded data removed]",
      "text/plain": [
       "<Figure size 1000x600 with 1 Axes>"
      ]
     },
     "metadata": {},
     "output_type": "display_data"
    }
   ],
   "source": [
    "models=['Ridge','XGBoost','RandomForest']\n",
    "scores=[rid_cl_r2,xgb_cl_r2,rf_cl_r2]\n",
    "\n",
    "df_scores = pd.DataFrame({\n",
    "    'Regression Models': models,\n",
    "    'scores': scores\n",
    "})\n",
    "\n",
    "plt.figure(figsize=(10,6))\n",
    "sns.barplot(data=df_scores, x='Regression Models',y='scores',color='darkblue')\n",
    "plt.title('Model Performance Comparison')\n",
    "plt.xlabel('Two Stage Models')\n",
    "plt.ylabel('R² scores')\n",
    "plt.ylim(0,1)\n",
    "plt.show()"
   ]
  },
  {
   "cell_type": "markdown",
   "id": "aeff6e98",
   "metadata": {
    "papermill": {
     "duration": 0.030857,
     "end_time": "2025-07-27T18:20:03.679044",
     "exception": false,
     "start_time": "2025-07-27T18:20:03.648187",
     "status": "completed"
    },
    "tags": []
   },
   "source": [
    "# b) Regression Modelling Only"
   ]
  },
  {
   "cell_type": "code",
   "execution_count": 72,
   "id": "176b7cdc",
   "metadata": {
    "execution": {
     "iopub.execute_input": "2025-07-27T18:20:03.753911Z",
     "iopub.status.busy": "2025-07-27T18:20:03.753566Z",
     "iopub.status.idle": "2025-07-27T18:20:05.163886Z",
     "shell.execute_reply": "2025-07-27T18:20:05.159943Z"
    },
    "papermill": {
     "duration": 1.452801,
     "end_time": "2025-07-27T18:20:05.166411",
     "exception": false,
     "start_time": "2025-07-27T18:20:03.713610",
     "status": "completed"
    },
    "tags": []
   },
   "outputs": [
    {
     "name": "stdout",
     "output_type": "stream",
     "text": [
      "R² Score on Linear Model: 0.4750118419238156\n"
     ]
    }
   ],
   "source": [
    "#baseline model\n",
    "\n",
    "from sklearn.linear_model import LinearRegression\n",
    "from sklearn.metrics import r2_score,mean_squared_error   \n",
    "lr = LinearRegression()\n",
    "lr.fit(X_train, y_train)\n",
    "\n",
    "y_pred = lr.predict(X_test)\n",
    "lr2 = r2_score(y_test, y_pred)\n",
    "\n",
    "print(\"R² Score on Linear Model:\", lr2)"
   ]
  },
  {
   "cell_type": "code",
   "execution_count": 73,
   "id": "72f2bfb3",
   "metadata": {
    "execution": {
     "iopub.execute_input": "2025-07-27T18:20:05.279743Z",
     "iopub.status.busy": "2025-07-27T18:20:05.279221Z",
     "iopub.status.idle": "2025-07-27T18:20:05.423160Z",
     "shell.execute_reply": "2025-07-27T18:20:05.422118Z"
    },
    "papermill": {
     "duration": 0.18791,
     "end_time": "2025-07-27T18:20:05.425290",
     "exception": false,
     "start_time": "2025-07-27T18:20:05.237380",
     "status": "completed"
    },
    "tags": []
   },
   "outputs": [
    {
     "name": "stdout",
     "output_type": "stream",
     "text": [
      "R² Score on Ridge: 0.4750156815273425\n"
     ]
    },
    {
     "name": "stderr",
     "output_type": "stream",
     "text": [
      "/usr/local/lib/python3.11/dist-packages/sklearn/linear_model/_ridge.py:216: LinAlgWarning: Ill-conditioned matrix (rcond=1.96087e-21): result may not be accurate.\n",
      "  return linalg.solve(A, Xy, assume_a=\"pos\", overwrite_a=True).T\n"
     ]
    }
   ],
   "source": [
    "from sklearn.linear_model import Ridge\n",
    "from sklearn.metrics import r2_score,mean_squared_error\n",
    "\n",
    "ridge = Ridge(alpha=1.0)\n",
    "ridge.fit(X_train, y_train)\n",
    "y_pred = ridge.predict(X_test)\n",
    "rid_r2 = r2_score(y_test, y_pred)\n",
    "\n",
    "print(\"R² Score on Ridge:\", rid_r2 )"
   ]
  },
  {
   "cell_type": "code",
   "execution_count": 74,
   "id": "b808fd3b",
   "metadata": {
    "execution": {
     "iopub.execute_input": "2025-07-27T18:20:05.491122Z",
     "iopub.status.busy": "2025-07-27T18:20:05.490797Z",
     "iopub.status.idle": "2025-07-27T18:20:06.714258Z",
     "shell.execute_reply": "2025-07-27T18:20:06.713401Z"
    },
    "papermill": {
     "duration": 1.257043,
     "end_time": "2025-07-27T18:20:06.715927",
     "exception": false,
     "start_time": "2025-07-27T18:20:05.458884",
     "status": "completed"
    },
    "tags": []
   },
   "outputs": [
    {
     "name": "stdout",
     "output_type": "stream",
     "text": [
      "R² Score on XGB: 0.6053943117559886\n"
     ]
    }
   ],
   "source": [
    "from xgboost import XGBRegressor\n",
    "from sklearn.metrics import r2_score,mean_squared_error\n",
    "\n",
    "xgbr = XGBRegressor(n_estimators=100, max_depth=6, learning_rate=0.1)\n",
    "xgbr.fit(X_train,(y_train))\n",
    "y_pred = (xgbr.predict(X_test))\n",
    "xr2 = r2_score(y_test, y_pred)\n",
    "print(\"R² Score on XGB:\", xr2)"
   ]
  },
  {
   "cell_type": "code",
   "execution_count": 75,
   "id": "fbc391b9",
   "metadata": {
    "execution": {
     "iopub.execute_input": "2025-07-27T18:20:06.790433Z",
     "iopub.status.busy": "2025-07-27T18:20:06.789948Z",
     "iopub.status.idle": "2025-07-27T18:22:02.958315Z",
     "shell.execute_reply": "2025-07-27T18:22:02.957262Z"
    },
    "papermill": {
     "duration": 116.238946,
     "end_time": "2025-07-27T18:22:02.991224",
     "exception": false,
     "start_time": "2025-07-27T18:20:06.752278",
     "status": "completed"
    },
    "tags": []
   },
   "outputs": [
    {
     "name": "stdout",
     "output_type": "stream",
     "text": [
      "Random Forest R² Score: 0.707967197692242\n"
     ]
    }
   ],
   "source": [
    "from sklearn.ensemble import RandomForestRegressor\n",
    "from sklearn.metrics import r2_score,mean_squared_error\n",
    "\n",
    "rfinal = RandomForestRegressor(n_estimators=200, random_state=42, n_jobs=-1)\n",
    "rfinal.fit(X_train, y_train)\n",
    "y_pred = rfinal.predict(X_test)\n",
    "rr2 = r2_score(y_test, y_pred)\n",
    "\n",
    "print(\"Random Forest R² Score:\", rr2)"
   ]
  },
  {
   "cell_type": "code",
   "execution_count": 76,
   "id": "60bdf175",
   "metadata": {
    "execution": {
     "iopub.execute_input": "2025-07-27T18:22:03.054663Z",
     "iopub.status.busy": "2025-07-27T18:22:03.054276Z",
     "iopub.status.idle": "2025-07-27T18:22:03.215334Z",
     "shell.execute_reply": "2025-07-27T18:22:03.214351Z"
    },
    "papermill": {
     "duration": 0.195043,
     "end_time": "2025-07-27T18:22:03.217026",
     "exception": false,
     "start_time": "2025-07-27T18:22:03.021983",
     "status": "completed"
    },
    "tags": []
   },
   "outputs": [
    {
     "data": {
      "image/png": "[encoded data removed]",
      "text/plain": [
       "<Figure size 1000x600 with 1 Axes>"
      ]
     },
     "metadata": {},
     "output_type": "display_data"
    }
   ],
   "source": [
    "models=['Ridge','XGBoost','RandomForest']\n",
    "scores=[rid_r2,xr2,rr2]\n",
    "\n",
    "df_scores = pd.DataFrame({\n",
    "    'Regression Models': models,\n",
    "    'scores': scores\n",
    "})\n",
    "\n",
    "plt.figure(figsize=(10,6))\n",
    "sns.barplot(data=df_scores, x='Regression Models',y='scores',color='darkblue')\n",
    "plt.title('Model Performance Comparison')\n",
    "plt.xlabel('Regression Models')\n",
    "plt.ylabel('R² scores')\n",
    "plt.ylim(0,1)\n",
    "plt.show()"
   ]
  },
  {
   "cell_type": "markdown",
   "id": "81617cf4",
   "metadata": {
    "papermill": {
     "duration": 0.033437,
     "end_time": "2025-07-27T18:22:03.285439",
     "exception": false,
     "start_time": "2025-07-27T18:22:03.252002",
     "status": "completed"
    },
    "tags": []
   },
   "source": [
    "# **7. Best Model**"
   ]
  },
  {
   "cell_type": "code",
   "execution_count": 77,
   "id": "a38c644d",
   "metadata": {
    "execution": {
     "iopub.execute_input": "2025-07-27T18:22:03.352357Z",
     "iopub.status.busy": "2025-07-27T18:22:03.351996Z",
     "iopub.status.idle": "2025-07-27T18:22:03.502734Z",
     "shell.execute_reply": "2025-07-27T18:22:03.501669Z"
    },
    "papermill": {
     "duration": 0.185065,
     "end_time": "2025-07-27T18:22:03.504226",
     "exception": false,
     "start_time": "2025-07-27T18:22:03.319161",
     "status": "completed"
    },
    "tags": []
   },
   "outputs": [
    {
     "data": {
      "image/png": "[encoded data removed]",
      "text/plain": [
       "<Figure size 600x400 with 1 Axes>"
      ]
     },
     "metadata": {},
     "output_type": "display_data"
    }
   ],
   "source": [
    "models=['Two-Stage RandomForest','RandomForest']\n",
    "scores=[rf_cl_r2,rr2]\n",
    "\n",
    "df_scores = pd.DataFrame({\n",
    "    'Regression Models': models,\n",
    "    'scores': scores\n",
    "})\n",
    "\n",
    "plt.figure(figsize=(6,4))\n",
    "sns.barplot(data=df_scores, x='Regression Models',y='scores',palette='RdYlGn')\n",
    "plt.title('Best Model Performance Comparison')\n",
    "plt.ylabel('R² scores')\n",
    "plt.ylim(0,1)\n",
    "for i, v in enumerate(scores):\n",
    "    plt.text(i, v + 0.1, str(v), ha='center', va='top', fontsize=11)\n",
    "    \n",
    "plt.show()"
   ]
  },
  {
   "cell_type": "code",
   "execution_count": 78,
   "id": "3b94c776",
   "metadata": {
    "execution": {
     "iopub.execute_input": "2025-07-27T18:22:03.570132Z",
     "iopub.status.busy": "2025-07-27T18:22:03.569817Z",
     "iopub.status.idle": "2025-07-27T18:22:03.638892Z",
     "shell.execute_reply": "2025-07-27T18:22:03.637750Z"
    },
    "papermill": {
     "duration": 0.103964,
     "end_time": "2025-07-27T18:22:03.640461",
     "exception": false,
     "start_time": "2025-07-27T18:22:03.536497",
     "status": "completed"
    },
    "tags": []
   },
   "outputs": [
    {
     "name": "stdout",
     "output_type": "stream",
     "text": [
      "                              Feature  Importance\n",
      "108           remainder__interaction1    0.512688\n",
      "107     remainder__page_views/session    0.116024\n",
      "106         remainder__hits/page_view    0.062051\n",
      "100             scaler__sessionNumber    0.046795\n",
      "99                  scaler__totalHits    0.026468\n",
      "101                 scaler__pageViews    0.018717\n",
      "111             remainder__month_year    0.014094\n",
      "112                remainder__q_month    0.013981\n",
      "104                  remainder__Month    0.012514\n",
      "93   user_channel__userChannel_Direct    0.007448\n",
      "32                    new_day__Day_18    0.006683\n",
      "47            new_quarter__Quarter_Q2    0.006654\n",
      "6                  new_os__os_Windows    0.005645\n",
      "105               remainder__heavy_pv    0.005198\n",
      "33                    new_day__Day_19    0.004668\n"
     ]
    }
   ],
   "source": [
    "importances = rfinal.feature_importances_\n",
    "feature_names = colums.get_feature_names_out()\n",
    "\n",
    "feature_importance_df = pd.DataFrame({\n",
    "    'Feature': feature_names,\n",
    "    'Importance': importances\n",
    "}).sort_values(by='Importance', ascending=False)\n",
    "\n",
    "print(feature_importance_df.head(15))"
   ]
  },
  {
   "cell_type": "markdown",
   "id": "75625a01",
   "metadata": {
    "papermill": {
     "duration": 0.032069,
     "end_time": "2025-07-27T18:22:03.706214",
     "exception": false,
     "start_time": "2025-07-27T18:22:03.674145",
     "status": "completed"
    },
    "tags": []
   },
   "source": [
    "# **8. Hyperparameter Tuning of Best Model** "
   ]
  },
  {
   "cell_type": "code",
   "execution_count": 79,
   "id": "30b0f6f1",
   "metadata": {
    "execution": {
     "iopub.execute_input": "2025-07-27T18:22:03.770955Z",
     "iopub.status.busy": "2025-07-27T18:22:03.770637Z",
     "iopub.status.idle": "2025-07-27T18:22:03.775124Z",
     "shell.execute_reply": "2025-07-27T18:22:03.774153Z"
    },
    "papermill": {
     "duration": 0.038731,
     "end_time": "2025-07-27T18:22:03.776716",
     "exception": false,
     "start_time": "2025-07-27T18:22:03.737985",
     "status": "completed"
    },
    "tags": []
   },
   "outputs": [],
   "source": [
    "# from sklearn.model_selection import RandomizedSearchCV\n",
    "# param_dist = {\n",
    "#     'n_estimators': [100, 150, 200, 300, 400, 500],\n",
    "#     'max_depth': [None, 5, 10, 20, 30, 40, 50],\n",
    "#     'min_samples_split': [2, 5, 10],\n",
    "#     'min_samples_leaf': [1, 2, 4],\n",
    "#     'max_features': [1.0, 'sqrt', 'log2']\n",
    "# }\n",
    "\n",
    "# rfinal = RandomForestRegressor(random_state=42)\n",
    "\n",
    "# rs = RandomizedSearchCV(\n",
    "#     estimator=rfinal,\n",
    "#     param_distributions=param_dist,\n",
    "#     n_iter=50,  # number of combinations to try\n",
    "#     scoring='r2',\n",
    "#     cv=3,\n",
    "#     verbose=2,\n",
    "#     random_state=42,\n",
    "#     n_jobs=-1\n",
    "# )\n",
    "# rs.fit(X_train, y_train)\n",
    "# print(\"Best Params:\", rs.best_params_)\n",
    "# print(\"Best CV R² Score:\", rs.best_score_)\n",
    "\n",
    "# best_model = rs.best_estimator_\n",
    "# y_pred = best_model.predict(X_test)\n",
    "# print(\"Final R² on test set:\", r2_score(y_test, y_pred))\n"
   ]
  },
  {
   "cell_type": "code",
   "execution_count": 80,
   "id": "2c8628da",
   "metadata": {
    "execution": {
     "iopub.execute_input": "2025-07-27T18:22:03.845549Z",
     "iopub.status.busy": "2025-07-27T18:22:03.845207Z",
     "iopub.status.idle": "2025-07-27T18:22:03.849608Z",
     "shell.execute_reply": "2025-07-27T18:22:03.848637Z"
    },
    "papermill": {
     "duration": 0.041852,
     "end_time": "2025-07-27T18:22:03.851352",
     "exception": false,
     "start_time": "2025-07-27T18:22:03.809500",
     "status": "completed"
    },
    "tags": []
   },
   "outputs": [],
   "source": [
    "#Best Params: {'n_estimators': 400, 'min_samples_split': 5, 'min_samples_leaf': 1, 'max_features': 1.0, 'max_depth': 40}"
   ]
  },
  {
   "cell_type": "markdown",
   "id": "e80a25aa",
   "metadata": {
    "papermill": {
     "duration": 0.032191,
     "end_time": "2025-07-27T18:22:03.915774",
     "exception": false,
     "start_time": "2025-07-27T18:22:03.883583",
     "status": "completed"
    },
    "tags": []
   },
   "source": [
    "# **9. Test Dataset Transformations**"
   ]
  },
  {
   "cell_type": "code",
   "execution_count": 81,
   "id": "f5e04726",
   "metadata": {
    "execution": {
     "iopub.execute_input": "2025-07-27T18:22:03.988770Z",
     "iopub.status.busy": "2025-07-27T18:22:03.988445Z",
     "iopub.status.idle": "2025-07-27T18:22:03.993668Z",
     "shell.execute_reply": "2025-07-27T18:22:03.992918Z"
    },
    "papermill": {
     "duration": 0.043885,
     "end_time": "2025-07-27T18:22:03.995081",
     "exception": false,
     "start_time": "2025-07-27T18:22:03.951196",
     "status": "completed"
    },
    "tags": []
   },
   "outputs": [
    {
     "data": {
      "text/plain": [
       "(29006, 48)"
      ]
     },
     "execution_count": 81,
     "metadata": {},
     "output_type": "execute_result"
    }
   ],
   "source": [
    "X1_test.shape"
   ]
  },
  {
   "cell_type": "code",
   "execution_count": 82,
   "id": "b2498855",
   "metadata": {
    "execution": {
     "iopub.execute_input": "2025-07-27T18:22:04.061574Z",
     "iopub.status.busy": "2025-07-27T18:22:04.061234Z",
     "iopub.status.idle": "2025-07-27T18:22:04.091658Z",
     "shell.execute_reply": "2025-07-27T18:22:04.090684Z"
    },
    "papermill": {
     "duration": 0.065502,
     "end_time": "2025-07-27T18:22:04.092999",
     "exception": false,
     "start_time": "2025-07-27T18:22:04.027497",
     "status": "completed"
    },
    "tags": []
   },
   "outputs": [
    {
     "name": "stdout",
     "output_type": "stream",
     "text": [
      "Top 5 Columns of Test Dataset:\n"
     ]
    },
    {
     "name": "stderr",
     "output_type": "stream",
     "text": [
      "/usr/local/lib/python3.11/dist-packages/pandas/io/formats/format.py:1458: RuntimeWarning: invalid value encountered in greater\n",
      "  has_large_values = (abs_vals > 1e6).any()\n",
      "/usr/local/lib/python3.11/dist-packages/pandas/io/formats/format.py:1459: RuntimeWarning: invalid value encountered in less\n",
      "  has_small_values = ((abs_vals < 10 ** (-self.digits)) & (abs_vals > 0)).any()\n",
      "/usr/local/lib/python3.11/dist-packages/pandas/io/formats/format.py:1459: RuntimeWarning: invalid value encountered in greater\n",
      "  has_small_values = ((abs_vals < 10 ** (-self.digits)) & (abs_vals > 0)).any()\n"
     ]
    },
    {
     "data": {
      "text/html": [
       "<div>\n",
       "<style scoped>\n",
       "    .dataframe tbody tr th:only-of-type {\n",
       "        vertical-align: middle;\n",
       "    }\n",
       "\n",
       "    .dataframe tbody tr th {\n",
       "        vertical-align: top;\n",
       "    }\n",
       "\n",
       "    .dataframe thead th {\n",
       "        text-align: right;\n",
       "    }\n",
       "</style>\n",
       "<table border=\"1\" class=\"dataframe\">\n",
       "  <thead>\n",
       "    <tr style=\"text-align: right;\">\n",
       "      <th></th>\n",
       "      <th>userChannel</th>\n",
       "      <th>date</th>\n",
       "      <th>browser</th>\n",
       "      <th>device.browserSize</th>\n",
       "      <th>device.browserVersion</th>\n",
       "      <th>device.flashVersion</th>\n",
       "      <th>device.isMobile</th>\n",
       "      <th>device.language</th>\n",
       "      <th>device.mobileDeviceBranding</th>\n",
       "      <th>device.mobileDeviceMarketingName</th>\n",
       "      <th>device.mobileDeviceModel</th>\n",
       "      <th>device.mobileInputSelector</th>\n",
       "      <th>os</th>\n",
       "      <th>device.operatingSystemVersion</th>\n",
       "      <th>device.screenColors</th>\n",
       "      <th>device.screenResolution</th>\n",
       "      <th>geoNetwork.city</th>\n",
       "      <th>geoNetwork.continent</th>\n",
       "      <th>locationCountry</th>\n",
       "      <th>geoNetwork.metro</th>\n",
       "      <th>geoNetwork.networkDomain</th>\n",
       "      <th>geoNetwork.networkLocation</th>\n",
       "      <th>geoNetwork.region</th>\n",
       "      <th>geoNetwork.subContinent</th>\n",
       "      <th>socialEngagementType</th>\n",
       "      <th>totals.bounces</th>\n",
       "      <th>totalHits</th>\n",
       "      <th>new_visits</th>\n",
       "      <th>pageViews</th>\n",
       "      <th>totals.visits</th>\n",
       "      <th>trafficSource.adContent</th>\n",
       "      <th>trafficSource.adwordsClickInfo.adNetworkType</th>\n",
       "      <th>trafficSource.adwordsClickInfo.isVideoAd</th>\n",
       "      <th>trafficSource.adwordsClickInfo.page</th>\n",
       "      <th>trafficSource.adwordsClickInfo.slot</th>\n",
       "      <th>trafficSource.campaign</th>\n",
       "      <th>trafficSource.isTrueDirect</th>\n",
       "      <th>trafficSource.keyword</th>\n",
       "      <th>trafficSource.referralPath</th>\n",
       "      <th>trafficSource</th>\n",
       "      <th>sessionId</th>\n",
       "      <th>sessionNumber</th>\n",
       "      <th>sessionStart</th>\n",
       "      <th>userId</th>\n",
       "      <th>locationZone</th>\n",
       "      <th>browserMajor</th>\n",
       "      <th>screenSize</th>\n",
       "      <th>gclIdPresent</th>\n",
       "    </tr>\n",
       "  </thead>\n",
       "  <tbody>\n",
       "    <tr>\n",
       "      <th>0</th>\n",
       "      <td>Social</td>\n",
       "      <td>20170508</td>\n",
       "      <td>Chrome</td>\n",
       "      <td>not available in demo dataset</td>\n",
       "      <td>not available in demo dataset</td>\n",
       "      <td>not available in demo dataset</td>\n",
       "      <td>False</td>\n",
       "      <td>not available in demo dataset</td>\n",
       "      <td>not available in demo dataset</td>\n",
       "      <td>not available in demo dataset</td>\n",
       "      <td>not available in demo dataset</td>\n",
       "      <td>not available in demo dataset</td>\n",
       "      <td>Windows</td>\n",
       "      <td>not available in demo dataset</td>\n",
       "      <td>not available in demo dataset</td>\n",
       "      <td>not available in demo dataset</td>\n",
       "      <td>not available in demo dataset</td>\n",
       "      <td>Americas</td>\n",
       "      <td>United States</td>\n",
       "      <td>not available in demo dataset</td>\n",
       "      <td>domain2</td>\n",
       "      <td>not available in demo dataset</td>\n",
       "      <td>not available in demo dataset</td>\n",
       "      <td>Northern America</td>\n",
       "      <td>Not Socially Engaged</td>\n",
       "      <td>NaN</td>\n",
       "      <td>11</td>\n",
       "      <td>NaN</td>\n",
       "      <td>10.0</td>\n",
       "      <td>1</td>\n",
       "      <td>NaN</td>\n",
       "      <td>NaN</td>\n",
       "      <td>NaN</td>\n",
       "      <td>NaN</td>\n",
       "      <td>NaN</td>\n",
       "      <td>(not set)</td>\n",
       "      <td>True</td>\n",
       "      <td>NaN</td>\n",
       "      <td>/a/google.com/forum/</td>\n",
       "      <td>groups.google.com</td>\n",
       "      <td>1494262567</td>\n",
       "      <td>2</td>\n",
       "      <td>1494262567</td>\n",
       "      <td>59555</td>\n",
       "      <td>8</td>\n",
       "      <td>not available in demo dataset</td>\n",
       "      <td>medium</td>\n",
       "      <td>0</td>\n",
       "    </tr>\n",
       "    <tr>\n",
       "      <th>1</th>\n",
       "      <td>Organic Search</td>\n",
       "      <td>20170405</td>\n",
       "      <td>Chrome</td>\n",
       "      <td>not available in demo dataset</td>\n",
       "      <td>not available in demo dataset</td>\n",
       "      <td>not available in demo dataset</td>\n",
       "      <td>False</td>\n",
       "      <td>not available in demo dataset</td>\n",
       "      <td>not available in demo dataset</td>\n",
       "      <td>not available in demo dataset</td>\n",
       "      <td>not available in demo dataset</td>\n",
       "      <td>not available in demo dataset</td>\n",
       "      <td>Windows</td>\n",
       "      <td>not available in demo dataset</td>\n",
       "      <td>not available in demo dataset</td>\n",
       "      <td>not available in demo dataset</td>\n",
       "      <td>Palo Alto</td>\n",
       "      <td>Americas</td>\n",
       "      <td>United States</td>\n",
       "      <td>San Francisco-Oakland-San Jose CA</td>\n",
       "      <td>domain1</td>\n",
       "      <td>not available in demo dataset</td>\n",
       "      <td>California</td>\n",
       "      <td>Northern America</td>\n",
       "      <td>Not Socially Engaged</td>\n",
       "      <td>NaN</td>\n",
       "      <td>9</td>\n",
       "      <td>1.0</td>\n",
       "      <td>9.0</td>\n",
       "      <td>1</td>\n",
       "      <td>NaN</td>\n",
       "      <td>NaN</td>\n",
       "      <td>NaN</td>\n",
       "      <td>NaN</td>\n",
       "      <td>NaN</td>\n",
       "      <td>(not set)</td>\n",
       "      <td>NaN</td>\n",
       "      <td>(not provided)</td>\n",
       "      <td>NaN</td>\n",
       "      <td>google</td>\n",
       "      <td>1491433811</td>\n",
       "      <td>1</td>\n",
       "      <td>1491433811</td>\n",
       "      <td>6394</td>\n",
       "      <td>8</td>\n",
       "      <td>not available in demo dataset</td>\n",
       "      <td>medium</td>\n",
       "      <td>0</td>\n",
       "    </tr>\n",
       "    <tr>\n",
       "      <th>2</th>\n",
       "      <td>Organic Search</td>\n",
       "      <td>20170308</td>\n",
       "      <td>Safari</td>\n",
       "      <td>not available in demo dataset</td>\n",
       "      <td>not available in demo dataset</td>\n",
       "      <td>not available in demo dataset</td>\n",
       "      <td>False</td>\n",
       "      <td>not available in demo dataset</td>\n",
       "      <td>not available in demo dataset</td>\n",
       "      <td>not available in demo dataset</td>\n",
       "      <td>not available in demo dataset</td>\n",
       "      <td>not available in demo dataset</td>\n",
       "      <td>Macintosh</td>\n",
       "      <td>not available in demo dataset</td>\n",
       "      <td>not available in demo dataset</td>\n",
       "      <td>not available in demo dataset</td>\n",
       "      <td>Philadelphia</td>\n",
       "      <td>Americas</td>\n",
       "      <td>United States</td>\n",
       "      <td>Philadelphia PA</td>\n",
       "      <td>domain2</td>\n",
       "      <td>not available in demo dataset</td>\n",
       "      <td>Pennsylvania</td>\n",
       "      <td>Northern America</td>\n",
       "      <td>Not Socially Engaged</td>\n",
       "      <td>NaN</td>\n",
       "      <td>2</td>\n",
       "      <td>1.0</td>\n",
       "      <td>2.0</td>\n",
       "      <td>1</td>\n",
       "      <td>NaN</td>\n",
       "      <td>NaN</td>\n",
       "      <td>NaN</td>\n",
       "      <td>NaN</td>\n",
       "      <td>NaN</td>\n",
       "      <td>(not set)</td>\n",
       "      <td>NaN</td>\n",
       "      <td>(not provided)</td>\n",
       "      <td>NaN</td>\n",
       "      <td>google</td>\n",
       "      <td>1489001815</td>\n",
       "      <td>1</td>\n",
       "      <td>1489001815</td>\n",
       "      <td>38969</td>\n",
       "      <td>8</td>\n",
       "      <td>not available in demo dataset</td>\n",
       "      <td>medium</td>\n",
       "      <td>0</td>\n",
       "    </tr>\n",
       "    <tr>\n",
       "      <th>3</th>\n",
       "      <td>Referral</td>\n",
       "      <td>20171113</td>\n",
       "      <td>Chrome</td>\n",
       "      <td>not available in demo dataset</td>\n",
       "      <td>not available in demo dataset</td>\n",
       "      <td>not available in demo dataset</td>\n",
       "      <td>False</td>\n",
       "      <td>not available in demo dataset</td>\n",
       "      <td>not available in demo dataset</td>\n",
       "      <td>not available in demo dataset</td>\n",
       "      <td>not available in demo dataset</td>\n",
       "      <td>not available in demo dataset</td>\n",
       "      <td>Chrome OS</td>\n",
       "      <td>not available in demo dataset</td>\n",
       "      <td>not available in demo dataset</td>\n",
       "      <td>not available in demo dataset</td>\n",
       "      <td>not available in demo dataset</td>\n",
       "      <td>Americas</td>\n",
       "      <td>United States</td>\n",
       "      <td>not available in demo dataset</td>\n",
       "      <td>domain2</td>\n",
       "      <td>not available in demo dataset</td>\n",
       "      <td>not available in demo dataset</td>\n",
       "      <td>Northern America</td>\n",
       "      <td>Not Socially Engaged</td>\n",
       "      <td>NaN</td>\n",
       "      <td>3</td>\n",
       "      <td>NaN</td>\n",
       "      <td>3.0</td>\n",
       "      <td>1</td>\n",
       "      <td>NaN</td>\n",
       "      <td>NaN</td>\n",
       "      <td>NaN</td>\n",
       "      <td>NaN</td>\n",
       "      <td>NaN</td>\n",
       "      <td>(not set)</td>\n",
       "      <td>True</td>\n",
       "      <td>NaN</td>\n",
       "      <td>/document/d/1GSpeJSCBhxRNya7kiUbBKO3rR20jBBBF3...</td>\n",
       "      <td>docs.google.com</td>\n",
       "      <td>1510593024</td>\n",
       "      <td>30</td>\n",
       "      <td>1510593024</td>\n",
       "      <td>120027</td>\n",
       "      <td>8</td>\n",
       "      <td>not available in demo dataset</td>\n",
       "      <td>medium</td>\n",
       "      <td>0</td>\n",
       "    </tr>\n",
       "    <tr>\n",
       "      <th>4</th>\n",
       "      <td>Organic Search</td>\n",
       "      <td>20161212</td>\n",
       "      <td>Chrome</td>\n",
       "      <td>not available in demo dataset</td>\n",
       "      <td>not available in demo dataset</td>\n",
       "      <td>not available in demo dataset</td>\n",
       "      <td>False</td>\n",
       "      <td>not available in demo dataset</td>\n",
       "      <td>not available in demo dataset</td>\n",
       "      <td>not available in demo dataset</td>\n",
       "      <td>not available in demo dataset</td>\n",
       "      <td>not available in demo dataset</td>\n",
       "      <td>Windows</td>\n",
       "      <td>not available in demo dataset</td>\n",
       "      <td>not available in demo dataset</td>\n",
       "      <td>not available in demo dataset</td>\n",
       "      <td>not available in demo dataset</td>\n",
       "      <td>Americas</td>\n",
       "      <td>United States</td>\n",
       "      <td>not available in demo dataset</td>\n",
       "      <td>domain2</td>\n",
       "      <td>not available in demo dataset</td>\n",
       "      <td>not available in demo dataset</td>\n",
       "      <td>Northern America</td>\n",
       "      <td>Not Socially Engaged</td>\n",
       "      <td>NaN</td>\n",
       "      <td>7</td>\n",
       "      <td>1.0</td>\n",
       "      <td>7.0</td>\n",
       "      <td>1</td>\n",
       "      <td>NaN</td>\n",
       "      <td>NaN</td>\n",
       "      <td>NaN</td>\n",
       "      <td>NaN</td>\n",
       "      <td>NaN</td>\n",
       "      <td>(not set)</td>\n",
       "      <td>NaN</td>\n",
       "      <td>NaN</td>\n",
       "      <td>NaN</td>\n",
       "      <td>(direct)</td>\n",
       "      <td>1481559809</td>\n",
       "      <td>1</td>\n",
       "      <td>1481559809</td>\n",
       "      <td>69453</td>\n",
       "      <td>8</td>\n",
       "      <td>not available in demo dataset</td>\n",
       "      <td>medium</td>\n",
       "      <td>0</td>\n",
       "    </tr>\n",
       "  </tbody>\n",
       "</table>\n",
       "</div>"
      ],
      "text/plain": [
       "      userChannel      date browser             device.browserSize  \\\n",
       "0          Social  20170508  Chrome  not available in demo dataset   \n",
       "1  Organic Search  20170405  Chrome  not available in demo dataset   \n",
       "2  Organic Search  20170308  Safari  not available in demo dataset   \n",
       "3        Referral  20171113  Chrome  not available in demo dataset   \n",
       "4  Organic Search  20161212  Chrome  not available in demo dataset   \n",
       "\n",
       "           device.browserVersion            device.flashVersion  \\\n",
       "0  not available in demo dataset  not available in demo dataset   \n",
       "1  not available in demo dataset  not available in demo dataset   \n",
       "2  not available in demo dataset  not available in demo dataset   \n",
       "3  not available in demo dataset  not available in demo dataset   \n",
       "4  not available in demo dataset  not available in demo dataset   \n",
       "\n",
       "   device.isMobile                device.language  \\\n",
       "0            False  not available in demo dataset   \n",
       "1            False  not available in demo dataset   \n",
       "2            False  not available in demo dataset   \n",
       "3            False  not available in demo dataset   \n",
       "4            False  not available in demo dataset   \n",
       "\n",
       "     device.mobileDeviceBranding device.mobileDeviceMarketingName  \\\n",
       "0  not available in demo dataset    not available in demo dataset   \n",
       "1  not available in demo dataset    not available in demo dataset   \n",
       "2  not available in demo dataset    not available in demo dataset   \n",
       "3  not available in demo dataset    not available in demo dataset   \n",
       "4  not available in demo dataset    not available in demo dataset   \n",
       "\n",
       "        device.mobileDeviceModel     device.mobileInputSelector         os  \\\n",
       "0  not available in demo dataset  not available in demo dataset    Windows   \n",
       "1  not available in demo dataset  not available in demo dataset    Windows   \n",
       "2  not available in demo dataset  not available in demo dataset  Macintosh   \n",
       "3  not available in demo dataset  not available in demo dataset  Chrome OS   \n",
       "4  not available in demo dataset  not available in demo dataset    Windows   \n",
       "\n",
       "   device.operatingSystemVersion            device.screenColors  \\\n",
       "0  not available in demo dataset  not available in demo dataset   \n",
       "1  not available in demo dataset  not available in demo dataset   \n",
       "2  not available in demo dataset  not available in demo dataset   \n",
       "3  not available in demo dataset  not available in demo dataset   \n",
       "4  not available in demo dataset  not available in demo dataset   \n",
       "\n",
       "         device.screenResolution                geoNetwork.city  \\\n",
       "0  not available in demo dataset  not available in demo dataset   \n",
       "1  not available in demo dataset                      Palo Alto   \n",
       "2  not available in demo dataset                   Philadelphia   \n",
       "3  not available in demo dataset  not available in demo dataset   \n",
       "4  not available in demo dataset  not available in demo dataset   \n",
       "\n",
       "  geoNetwork.continent locationCountry                   geoNetwork.metro  \\\n",
       "0             Americas   United States      not available in demo dataset   \n",
       "1             Americas   United States  San Francisco-Oakland-San Jose CA   \n",
       "2             Americas   United States                    Philadelphia PA   \n",
       "3             Americas   United States      not available in demo dataset   \n",
       "4             Americas   United States      not available in demo dataset   \n",
       "\n",
       "  geoNetwork.networkDomain     geoNetwork.networkLocation  \\\n",
       "0                  domain2  not available in demo dataset   \n",
       "1                  domain1  not available in demo dataset   \n",
       "2                  domain2  not available in demo dataset   \n",
       "3                  domain2  not available in demo dataset   \n",
       "4                  domain2  not available in demo dataset   \n",
       "\n",
       "               geoNetwork.region geoNetwork.subContinent  \\\n",
       "0  not available in demo dataset        Northern America   \n",
       "1                     California        Northern America   \n",
       "2                   Pennsylvania        Northern America   \n",
       "3  not available in demo dataset        Northern America   \n",
       "4  not available in demo dataset        Northern America   \n",
       "\n",
       "   socialEngagementType  totals.bounces  totalHits  new_visits  pageViews  \\\n",
       "0  Not Socially Engaged             NaN         11         NaN       10.0   \n",
       "1  Not Socially Engaged             NaN          9         1.0        9.0   \n",
       "2  Not Socially Engaged             NaN          2         1.0        2.0   \n",
       "3  Not Socially Engaged             NaN          3         NaN        3.0   \n",
       "4  Not Socially Engaged             NaN          7         1.0        7.0   \n",
       "\n",
       "   totals.visits trafficSource.adContent  \\\n",
       "0              1                     NaN   \n",
       "1              1                     NaN   \n",
       "2              1                     NaN   \n",
       "3              1                     NaN   \n",
       "4              1                     NaN   \n",
       "\n",
       "  trafficSource.adwordsClickInfo.adNetworkType  \\\n",
       "0                                          NaN   \n",
       "1                                          NaN   \n",
       "2                                          NaN   \n",
       "3                                          NaN   \n",
       "4                                          NaN   \n",
       "\n",
       "  trafficSource.adwordsClickInfo.isVideoAd  \\\n",
       "0                                      NaN   \n",
       "1                                      NaN   \n",
       "2                                      NaN   \n",
       "3                                      NaN   \n",
       "4                                      NaN   \n",
       "\n",
       "   trafficSource.adwordsClickInfo.page trafficSource.adwordsClickInfo.slot  \\\n",
       "0                                  NaN                                 NaN   \n",
       "1                                  NaN                                 NaN   \n",
       "2                                  NaN                                 NaN   \n",
       "3                                  NaN                                 NaN   \n",
       "4                                  NaN                                 NaN   \n",
       "\n",
       "  trafficSource.campaign trafficSource.isTrueDirect trafficSource.keyword  \\\n",
       "0              (not set)                       True                   NaN   \n",
       "1              (not set)                        NaN        (not provided)   \n",
       "2              (not set)                        NaN        (not provided)   \n",
       "3              (not set)                       True                   NaN   \n",
       "4              (not set)                        NaN                   NaN   \n",
       "\n",
       "                          trafficSource.referralPath      trafficSource  \\\n",
       "0                               /a/google.com/forum/  groups.google.com   \n",
       "1                                                NaN             google   \n",
       "2                                                NaN             google   \n",
       "3  /document/d/1GSpeJSCBhxRNya7kiUbBKO3rR20jBBBF3...    docs.google.com   \n",
       "4                                                NaN           (direct)   \n",
       "\n",
       "    sessionId  sessionNumber  sessionStart  userId  locationZone  \\\n",
       "0  1494262567              2    1494262567   59555             8   \n",
       "1  1491433811              1    1491433811    6394             8   \n",
       "2  1489001815              1    1489001815   38969             8   \n",
       "3  1510593024             30    1510593024  120027             8   \n",
       "4  1481559809              1    1481559809   69453             8   \n",
       "\n",
       "                    browserMajor screenSize  gclIdPresent  \n",
       "0  not available in demo dataset     medium             0  \n",
       "1  not available in demo dataset     medium             0  \n",
       "2  not available in demo dataset     medium             0  \n",
       "3  not available in demo dataset     medium             0  \n",
       "4  not available in demo dataset     medium             0  "
      ]
     },
     "execution_count": 82,
     "metadata": {},
     "output_type": "execute_result"
    }
   ],
   "source": [
    "pd.set_option('display.max_columns', 60)\n",
    "print('Top 5 Columns of Test Dataset:')\n",
    "X1_test.head()"
   ]
  },
  {
   "cell_type": "code",
   "execution_count": 83,
   "id": "c9de3d13",
   "metadata": {
    "execution": {
     "iopub.execute_input": "2025-07-27T18:22:04.160768Z",
     "iopub.status.busy": "2025-07-27T18:22:04.160403Z",
     "iopub.status.idle": "2025-07-27T18:22:04.208583Z",
     "shell.execute_reply": "2025-07-27T18:22:04.207630Z"
    },
    "papermill": {
     "duration": 0.083623,
     "end_time": "2025-07-27T18:22:04.210127",
     "exception": false,
     "start_time": "2025-07-27T18:22:04.126504",
     "status": "completed"
    },
    "tags": []
   },
   "outputs": [
    {
     "data": {
      "text/html": [
       "<div>\n",
       "<style scoped>\n",
       "    .dataframe tbody tr th:only-of-type {\n",
       "        vertical-align: middle;\n",
       "    }\n",
       "\n",
       "    .dataframe tbody tr th {\n",
       "        vertical-align: top;\n",
       "    }\n",
       "\n",
       "    .dataframe thead th {\n",
       "        text-align: right;\n",
       "    }\n",
       "</style>\n",
       "<table border=\"1\" class=\"dataframe\">\n",
       "  <thead>\n",
       "    <tr style=\"text-align: right;\">\n",
       "      <th></th>\n",
       "      <th>date</th>\n",
       "      <th>totals.bounces</th>\n",
       "      <th>totalHits</th>\n",
       "      <th>new_visits</th>\n",
       "      <th>pageViews</th>\n",
       "      <th>totals.visits</th>\n",
       "      <th>trafficSource.adwordsClickInfo.page</th>\n",
       "      <th>sessionId</th>\n",
       "      <th>sessionNumber</th>\n",
       "      <th>sessionStart</th>\n",
       "      <th>userId</th>\n",
       "      <th>locationZone</th>\n",
       "      <th>gclIdPresent</th>\n",
       "    </tr>\n",
       "  </thead>\n",
       "  <tbody>\n",
       "    <tr>\n",
       "      <th>count</th>\n",
       "      <td>2.900600e+04</td>\n",
       "      <td>11732.0</td>\n",
       "      <td>29006.000000</td>\n",
       "      <td>20094.0</td>\n",
       "      <td>29003.000000</td>\n",
       "      <td>29006.0</td>\n",
       "      <td>1107.000000</td>\n",
       "      <td>2.900600e+04</td>\n",
       "      <td>29006.000000</td>\n",
       "      <td>2.900600e+04</td>\n",
       "      <td>29006.000000</td>\n",
       "      <td>29006.0</td>\n",
       "      <td>29006.000000</td>\n",
       "    </tr>\n",
       "    <tr>\n",
       "      <th>mean</th>\n",
       "      <td>2.016855e+07</td>\n",
       "      <td>1.0</td>\n",
       "      <td>10.659519</td>\n",
       "      <td>1.0</td>\n",
       "      <td>8.470813</td>\n",
       "      <td>1.0</td>\n",
       "      <td>1.015357</td>\n",
       "      <td>1.493320e+09</td>\n",
       "      <td>2.595980</td>\n",
       "      <td>1.493320e+09</td>\n",
       "      <td>61327.854134</td>\n",
       "      <td>8.0</td>\n",
       "      <td>0.038268</td>\n",
       "    </tr>\n",
       "    <tr>\n",
       "      <th>std</th>\n",
       "      <td>6.200443e+03</td>\n",
       "      <td>0.0</td>\n",
       "      <td>19.771218</td>\n",
       "      <td>0.0</td>\n",
       "      <td>14.561705</td>\n",
       "      <td>0.0</td>\n",
       "      <td>0.177227</td>\n",
       "      <td>1.532493e+07</td>\n",
       "      <td>9.333323</td>\n",
       "      <td>1.532493e+07</td>\n",
       "      <td>35253.344987</td>\n",
       "      <td>0.0</td>\n",
       "      <td>0.191846</td>\n",
       "    </tr>\n",
       "    <tr>\n",
       "      <th>min</th>\n",
       "      <td>2.016080e+07</td>\n",
       "      <td>1.0</td>\n",
       "      <td>1.000000</td>\n",
       "      <td>1.0</td>\n",
       "      <td>1.000000</td>\n",
       "      <td>1.0</td>\n",
       "      <td>1.000000</td>\n",
       "      <td>1.470035e+09</td>\n",
       "      <td>1.000000</td>\n",
       "      <td>1.470035e+09</td>\n",
       "      <td>8.000000</td>\n",
       "      <td>8.0</td>\n",
       "      <td>0.000000</td>\n",
       "    </tr>\n",
       "    <tr>\n",
       "      <th>25%</th>\n",
       "      <td>2.016112e+07</td>\n",
       "      <td>1.0</td>\n",
       "      <td>1.000000</td>\n",
       "      <td>1.0</td>\n",
       "      <td>1.000000</td>\n",
       "      <td>1.0</td>\n",
       "      <td>1.000000</td>\n",
       "      <td>1.479931e+09</td>\n",
       "      <td>1.000000</td>\n",
       "      <td>1.479931e+09</td>\n",
       "      <td>31006.500000</td>\n",
       "      <td>8.0</td>\n",
       "      <td>0.000000</td>\n",
       "    </tr>\n",
       "    <tr>\n",
       "      <th>50%</th>\n",
       "      <td>2.017041e+07</td>\n",
       "      <td>1.0</td>\n",
       "      <td>2.000000</td>\n",
       "      <td>1.0</td>\n",
       "      <td>2.000000</td>\n",
       "      <td>1.0</td>\n",
       "      <td>1.000000</td>\n",
       "      <td>1.491492e+09</td>\n",
       "      <td>1.000000</td>\n",
       "      <td>1.491492e+09</td>\n",
       "      <td>61430.500000</td>\n",
       "      <td>8.0</td>\n",
       "      <td>0.000000</td>\n",
       "    </tr>\n",
       "    <tr>\n",
       "      <th>75%</th>\n",
       "      <td>2.017091e+07</td>\n",
       "      <td>1.0</td>\n",
       "      <td>12.000000</td>\n",
       "      <td>1.0</td>\n",
       "      <td>10.000000</td>\n",
       "      <td>1.0</td>\n",
       "      <td>1.000000</td>\n",
       "      <td>1.505148e+09</td>\n",
       "      <td>2.000000</td>\n",
       "      <td>1.505148e+09</td>\n",
       "      <td>91866.250000</td>\n",
       "      <td>8.0</td>\n",
       "      <td>0.000000</td>\n",
       "    </tr>\n",
       "    <tr>\n",
       "      <th>max</th>\n",
       "      <td>2.018043e+07</td>\n",
       "      <td>1.0</td>\n",
       "      <td>500.000000</td>\n",
       "      <td>1.0</td>\n",
       "      <td>466.000000</td>\n",
       "      <td>1.0</td>\n",
       "      <td>5.000000</td>\n",
       "      <td>1.525152e+09</td>\n",
       "      <td>334.000000</td>\n",
       "      <td>1.525152e+09</td>\n",
       "      <td>122268.000000</td>\n",
       "      <td>8.0</td>\n",
       "      <td>1.000000</td>\n",
       "    </tr>\n",
       "  </tbody>\n",
       "</table>\n",
       "</div>"
      ],
      "text/plain": [
       "               date  totals.bounces     totalHits  new_visits     pageViews  \\\n",
       "count  2.900600e+04         11732.0  29006.000000     20094.0  29003.000000   \n",
       "mean   2.016855e+07             1.0     10.659519         1.0      8.470813   \n",
       "std    6.200443e+03             0.0     19.771218         0.0     14.561705   \n",
       "min    2.016080e+07             1.0      1.000000         1.0      1.000000   \n",
       "25%    2.016112e+07             1.0      1.000000         1.0      1.000000   \n",
       "50%    2.017041e+07             1.0      2.000000         1.0      2.000000   \n",
       "75%    2.017091e+07             1.0     12.000000         1.0     10.000000   \n",
       "max    2.018043e+07             1.0    500.000000         1.0    466.000000   \n",
       "\n",
       "       totals.visits  trafficSource.adwordsClickInfo.page     sessionId  \\\n",
       "count        29006.0                          1107.000000  2.900600e+04   \n",
       "mean             1.0                             1.015357  1.493320e+09   \n",
       "std              0.0                             0.177227  1.532493e+07   \n",
       "min              1.0                             1.000000  1.470035e+09   \n",
       "25%              1.0                             1.000000  1.479931e+09   \n",
       "50%              1.0                             1.000000  1.491492e+09   \n",
       "75%              1.0                             1.000000  1.505148e+09   \n",
       "max              1.0                             5.000000  1.525152e+09   \n",
       "\n",
       "       sessionNumber  sessionStart         userId  locationZone  gclIdPresent  \n",
       "count   29006.000000  2.900600e+04   29006.000000       29006.0  29006.000000  \n",
       "mean        2.595980  1.493320e+09   61327.854134           8.0      0.038268  \n",
       "std         9.333323  1.532493e+07   35253.344987           0.0      0.191846  \n",
       "min         1.000000  1.470035e+09       8.000000           8.0      0.000000  \n",
       "25%         1.000000  1.479931e+09   31006.500000           8.0      0.000000  \n",
       "50%         1.000000  1.491492e+09   61430.500000           8.0      0.000000  \n",
       "75%         2.000000  1.505148e+09   91866.250000           8.0      0.000000  \n",
       "max       334.000000  1.525152e+09  122268.000000           8.0      1.000000  "
      ]
     },
     "execution_count": 83,
     "metadata": {},
     "output_type": "execute_result"
    }
   ],
   "source": [
    "X1_test.describe()"
   ]
  },
  {
   "cell_type": "code",
   "execution_count": 84,
   "id": "bf52596c",
   "metadata": {
    "execution": {
     "iopub.execute_input": "2025-07-27T18:22:04.282255Z",
     "iopub.status.busy": "2025-07-27T18:22:04.281327Z",
     "iopub.status.idle": "2025-07-27T18:22:04.354206Z",
     "shell.execute_reply": "2025-07-27T18:22:04.353264Z"
    },
    "papermill": {
     "duration": 0.11012,
     "end_time": "2025-07-27T18:22:04.355780",
     "exception": false,
     "start_time": "2025-07-27T18:22:04.245660",
     "status": "completed"
    },
    "tags": []
   },
   "outputs": [
    {
     "name": "stdout",
     "output_type": "stream",
     "text": [
      "Unique Values in each column in Test Dataset:\n"
     ]
    },
    {
     "data": {
      "text/plain": [
       "userChannel                                         8\n",
       "date                                              638\n",
       "browser                                            26\n",
       "device.browserSize                                  1\n",
       "device.browserVersion                               1\n",
       "device.flashVersion                                 1\n",
       "device.isMobile                                     2\n",
       "device.language                                     1\n",
       "device.mobileDeviceBranding                         1\n",
       "device.mobileDeviceMarketingName                    1\n",
       "device.mobileDeviceModel                            1\n",
       "device.mobileInputSelector                          1\n",
       "os                                                 14\n",
       "device.operatingSystemVersion                       1\n",
       "device.screenColors                                 1\n",
       "device.screenResolution                             1\n",
       "geoNetwork.city                                   447\n",
       "geoNetwork.continent                                6\n",
       "locationCountry                                   162\n",
       "geoNetwork.metro                                   78\n",
       "geoNetwork.networkDomain                            3\n",
       "geoNetwork.networkLocation                          1\n",
       "geoNetwork.region                                 287\n",
       "geoNetwork.subContinent                            22\n",
       "socialEngagementType                                1\n",
       "totals.bounces                                      1\n",
       "totalHits                                         181\n",
       "new_visits                                          1\n",
       "pageViews                                         142\n",
       "totals.visits                                       1\n",
       "trafficSource.adContent                            37\n",
       "trafficSource.adwordsClickInfo.adNetworkType        2\n",
       "trafficSource.adwordsClickInfo.isVideoAd            1\n",
       "trafficSource.adwordsClickInfo.page                 4\n",
       "trafficSource.adwordsClickInfo.slot                 2\n",
       "trafficSource.campaign                             23\n",
       "trafficSource.isTrueDirect                          1\n",
       "trafficSource.keyword                             177\n",
       "trafficSource.referralPath                        513\n",
       "trafficSource                                      91\n",
       "sessionId                                       28461\n",
       "sessionNumber                                     128\n",
       "sessionStart                                    28462\n",
       "userId                                          27657\n",
       "locationZone                                        1\n",
       "browserMajor                                        1\n",
       "screenSize                                          1\n",
       "gclIdPresent                                        2\n",
       "dtype: int64"
      ]
     },
     "execution_count": 84,
     "metadata": {},
     "output_type": "execute_result"
    }
   ],
   "source": [
    "print('Unique Values in each column in Test Dataset:')\n",
    "X1_test.nunique()"
   ]
  },
  {
   "cell_type": "code",
   "execution_count": 85,
   "id": "8d14780b",
   "metadata": {
    "execution": {
     "iopub.execute_input": "2025-07-27T18:22:04.423568Z",
     "iopub.status.busy": "2025-07-27T18:22:04.423224Z",
     "iopub.status.idle": "2025-07-27T18:22:04.487570Z",
     "shell.execute_reply": "2025-07-27T18:22:04.486428Z"
    },
    "papermill": {
     "duration": 0.099953,
     "end_time": "2025-07-27T18:22:04.489236",
     "exception": false,
     "start_time": "2025-07-27T18:22:04.389283",
     "status": "completed"
    },
    "tags": []
   },
   "outputs": [
    {
     "name": "stdout",
     "output_type": "stream",
     "text": [
      "<class 'pandas.core.frame.DataFrame'>\n",
      "RangeIndex: 29006 entries, 0 to 29005\n",
      "Data columns (total 48 columns):\n",
      " #   Column                                        Non-Null Count  Dtype  \n",
      "---  ------                                        --------------  -----  \n",
      " 0   userChannel                                   29006 non-null  object \n",
      " 1   date                                          29006 non-null  int64  \n",
      " 2   browser                                       29006 non-null  object \n",
      " 3   device.browserSize                            29006 non-null  object \n",
      " 4   device.browserVersion                         29006 non-null  object \n",
      " 5   device.flashVersion                           29006 non-null  object \n",
      " 6   device.isMobile                               29006 non-null  bool   \n",
      " 7   device.language                               29006 non-null  object \n",
      " 8   device.mobileDeviceBranding                   29006 non-null  object \n",
      " 9   device.mobileDeviceMarketingName              29006 non-null  object \n",
      " 10  device.mobileDeviceModel                      29006 non-null  object \n",
      " 11  device.mobileInputSelector                    29006 non-null  object \n",
      " 12  os                                            29006 non-null  object \n",
      " 13  device.operatingSystemVersion                 29006 non-null  object \n",
      " 14  device.screenColors                           29006 non-null  object \n",
      " 15  device.screenResolution                       29006 non-null  object \n",
      " 16  geoNetwork.city                               29006 non-null  object \n",
      " 17  geoNetwork.continent                          29006 non-null  object \n",
      " 18  locationCountry                               29006 non-null  object \n",
      " 19  geoNetwork.metro                              29006 non-null  object \n",
      " 20  geoNetwork.networkDomain                      29006 non-null  object \n",
      " 21  geoNetwork.networkLocation                    29006 non-null  object \n",
      " 22  geoNetwork.region                             29006 non-null  object \n",
      " 23  geoNetwork.subContinent                       29006 non-null  object \n",
      " 24  socialEngagementType                          29006 non-null  object \n",
      " 25  totals.bounces                                11732 non-null  float64\n",
      " 26  totalHits                                     29006 non-null  int64  \n",
      " 27  new_visits                                    20094 non-null  float64\n",
      " 28  pageViews                                     29003 non-null  float64\n",
      " 29  totals.visits                                 29006 non-null  int64  \n",
      " 30  trafficSource.adContent                       759 non-null    object \n",
      " 31  trafficSource.adwordsClickInfo.adNetworkType  1107 non-null   object \n",
      " 32  trafficSource.adwordsClickInfo.isVideoAd      1107 non-null   object \n",
      " 33  trafficSource.adwordsClickInfo.page           1107 non-null   float64\n",
      " 34  trafficSource.adwordsClickInfo.slot           1107 non-null   object \n",
      " 35  trafficSource.campaign                        29006 non-null  object \n",
      " 36  trafficSource.isTrueDirect                    10761 non-null  object \n",
      " 37  trafficSource.keyword                         11044 non-null  object \n",
      " 38  trafficSource.referralPath                    10611 non-null  object \n",
      " 39  trafficSource                                 29006 non-null  object \n",
      " 40  sessionId                                     29006 non-null  int64  \n",
      " 41  sessionNumber                                 29006 non-null  int64  \n",
      " 42  sessionStart                                  29006 non-null  int64  \n",
      " 43  userId                                        29006 non-null  int64  \n",
      " 44  locationZone                                  29006 non-null  int64  \n",
      " 45  browserMajor                                  29006 non-null  object \n",
      " 46  screenSize                                    29006 non-null  object \n",
      " 47  gclIdPresent                                  29006 non-null  int64  \n",
      "dtypes: bool(1), float64(4), int64(9), object(34)\n",
      "memory usage: 10.4+ MB\n"
     ]
    }
   ],
   "source": [
    "X1_test.info()"
   ]
  },
  {
   "cell_type": "code",
   "execution_count": 86,
   "id": "d6e75549",
   "metadata": {
    "execution": {
     "iopub.execute_input": "2025-07-27T18:22:04.558967Z",
     "iopub.status.busy": "2025-07-27T18:22:04.558622Z",
     "iopub.status.idle": "2025-07-27T18:22:04.620644Z",
     "shell.execute_reply": "2025-07-27T18:22:04.619242Z"
    },
    "papermill": {
     "duration": 0.098911,
     "end_time": "2025-07-27T18:22:04.622347",
     "exception": false,
     "start_time": "2025-07-27T18:22:04.523436",
     "status": "completed"
    },
    "tags": []
   },
   "outputs": [
    {
     "name": "stdout",
     "output_type": "stream",
     "text": [
      "Columns containing Null Values in Test Dataset: userChannel                                         0\n",
      "date                                                0\n",
      "browser                                             0\n",
      "device.browserSize                                  0\n",
      "device.browserVersion                               0\n",
      "device.flashVersion                                 0\n",
      "device.isMobile                                     0\n",
      "device.language                                     0\n",
      "device.mobileDeviceBranding                         0\n",
      "device.mobileDeviceMarketingName                    0\n",
      "device.mobileDeviceModel                            0\n",
      "device.mobileInputSelector                          0\n",
      "os                                                  0\n",
      "device.operatingSystemVersion                       0\n",
      "device.screenColors                                 0\n",
      "device.screenResolution                             0\n",
      "geoNetwork.city                                     0\n",
      "geoNetwork.continent                                0\n",
      "locationCountry                                     0\n",
      "geoNetwork.metro                                    0\n",
      "geoNetwork.networkDomain                            0\n",
      "geoNetwork.networkLocation                          0\n",
      "geoNetwork.region                                   0\n",
      "geoNetwork.subContinent                             0\n",
      "socialEngagementType                                0\n",
      "totals.bounces                                  17274\n",
      "totalHits                                           0\n",
      "new_visits                                       8912\n",
      "pageViews                                           3\n",
      "totals.visits                                       0\n",
      "trafficSource.adContent                         28247\n",
      "trafficSource.adwordsClickInfo.adNetworkType    27899\n",
      "trafficSource.adwordsClickInfo.isVideoAd        27899\n",
      "trafficSource.adwordsClickInfo.page             27899\n",
      "trafficSource.adwordsClickInfo.slot             27899\n",
      "trafficSource.campaign                              0\n",
      "trafficSource.isTrueDirect                      18245\n",
      "trafficSource.keyword                           17962\n",
      "trafficSource.referralPath                      18395\n",
      "trafficSource                                       0\n",
      "sessionId                                           0\n",
      "sessionNumber                                       0\n",
      "sessionStart                                        0\n",
      "userId                                              0\n",
      "locationZone                                        0\n",
      "browserMajor                                        0\n",
      "screenSize                                          0\n",
      "gclIdPresent                                        0\n",
      "dtype: int64\n"
     ]
    }
   ],
   "source": [
    "print('Columns containing Null Values in Test Dataset:', X1_test.isnull().sum())"
   ]
  },
  {
   "cell_type": "code",
   "execution_count": 87,
   "id": "70dd335b",
   "metadata": {
    "execution": {
     "iopub.execute_input": "2025-07-27T18:22:04.693981Z",
     "iopub.status.busy": "2025-07-27T18:22:04.693674Z",
     "iopub.status.idle": "2025-07-27T18:22:04.731507Z",
     "shell.execute_reply": "2025-07-27T18:22:04.730665Z"
    },
    "papermill": {
     "duration": 0.074561,
     "end_time": "2025-07-27T18:22:04.732992",
     "exception": false,
     "start_time": "2025-07-27T18:22:04.658431",
     "status": "completed"
    },
    "tags": []
   },
   "outputs": [
    {
     "data": {
      "text/plain": [
       "userChannel                  4\n",
       "date                         0\n",
       "browser                      0\n",
       "os                           0\n",
       "geoNetwork.continent        35\n",
       "geoNetwork.networkDomain     0\n",
       "geoNetwork.subContinent     35\n",
       "totalHits                    0\n",
       "new_visits                   0\n",
       "pageViews                    0\n",
       "trafficSource                0\n",
       "sessionNumber                0\n",
       "dtype: int64"
      ]
     },
     "execution_count": 87,
     "metadata": {},
     "output_type": "execute_result"
    }
   ],
   "source": [
    "X1_test = X1_test.drop(columns=drop_cols)\n",
    "X1_test=clean_data(X1_test)\n",
    "X1_test.isnull().sum()"
   ]
  },
  {
   "cell_type": "code",
   "execution_count": 88,
   "id": "f1e588f9",
   "metadata": {
    "execution": {
     "iopub.execute_input": "2025-07-27T18:22:04.827687Z",
     "iopub.status.busy": "2025-07-27T18:22:04.827184Z",
     "iopub.status.idle": "2025-07-27T18:22:04.929351Z",
     "shell.execute_reply": "2025-07-27T18:22:04.928227Z"
    },
    "papermill": {
     "duration": 0.153641,
     "end_time": "2025-07-27T18:22:04.930928",
     "exception": false,
     "start_time": "2025-07-27T18:22:04.777287",
     "status": "completed"
    },
    "tags": []
   },
   "outputs": [
    {
     "name": "stdout",
     "output_type": "stream",
     "text": [
      "Index(['userChannel', 'browser', 'os', 'geoNetwork.continent',\n",
      "       'geoNetwork.networkDomain', 'geoNetwork.subContinent', 'totalHits',\n",
      "       'new_visits', 'pageViews', 'trafficSource', 'sessionNumber', 'Day',\n",
      "       'Month', 'Year', 'DayOfWeek', 'Quarter'],\n",
      "      dtype='object')\n"
     ]
    }
   ],
   "source": [
    "X1_test['date'] = pd.to_datetime(X1_test['date'].astype(str), format='%Y%m%d')\n",
    "X1_test['Day'] = pd.to_datetime(X1_test['date']).dt.day\n",
    "X1_test['Month'] = pd.to_datetime(X1_test['date']).dt.month\n",
    "X1_test['Year'] = pd.to_datetime(X1_test['date']).dt.year\n",
    "X1_test['DayOfWeek'] = X1_test['date'].dt.dayofweek\n",
    "X1_test=X1_test.drop(columns=['date'])\n",
    "\n",
    "X1_test['trafficSource']=X1_test['trafficSource'].apply(sources)\n",
    "X1_test['browser']=X1_test['browser'].apply(browsers)\n",
    "X1_test['os']=X1_test['os'].apply(os)\n",
    "X1_test['Quarter']=X1_test['Month'].apply(quarters)\n",
    "print(X1_test.columns)"
   ]
  },
  {
   "cell_type": "code",
   "execution_count": 89,
   "id": "e30eee6b",
   "metadata": {
    "execution": {
     "iopub.execute_input": "2025-07-27T18:22:04.999465Z",
     "iopub.status.busy": "2025-07-27T18:22:04.998804Z",
     "iopub.status.idle": "2025-07-27T18:22:05.582542Z",
     "shell.execute_reply": "2025-07-27T18:22:05.581525Z"
    },
    "papermill": {
     "duration": 0.619964,
     "end_time": "2025-07-27T18:22:05.584329",
     "exception": false,
     "start_time": "2025-07-27T18:22:04.964365",
     "status": "completed"
    },
    "tags": []
   },
   "outputs": [],
   "source": [
    "X1_test['hits/page_view'] = X1_test['totalHits'] / X1_test['pageViews']\n",
    "X1_test['page_views/session'] = X1_test['pageViews'] / X1_test['sessionNumber']\n",
    "X1_test['interaction1'] = X1_test['pageViews'] * X1_test['sessionNumber']\n",
    "X1_test['month_year'] = X1_test['Month'].astype(str)+'_'+X1_test['Year'].astype(str)\n",
    "X1_test['q_month'] = X1_test['Quarter'].astype(str)+'_'+X1_test['Month'].astype(str)\n",
    "X1_test['quick_exit'] = (X1_test['hits/page_view'] < 2).astype(int)\n",
    "# X1_test['new_users_pveng'] = X1_test['pageViews'] * X1_test['new_visits']\n",
    "# X1_test['new_users_sneng'] = X1_test['sessionNumber'] * X1_test['new_visits']\n",
    "# X1_test['new_users_theng'] = X1_test['totalHits'] * X1_test['new_visits']\n",
    "X1_test['session_activity']= pd.cut(X1_test['sessionNumber'], bins=sess_bins, labels=sess_labels, include_lowest=True)\n",
    "X1_test['user_activity'] = pd.cut(X1_test['pageViews'], bins=bins, labels=labels, include_lowest=True)\n",
    "X1_test['conversion_probability'] = X1_test.apply(lambda row: prob(row['new_visits'], row['pageViews'], row['sessionNumber']), axis=1)\n",
    "X1_test['low_activity'] = X1_test.apply(lambda row: low_activity(row['pageViews'], row['totalHits'], row['sessionNumber']), axis=1)\n",
    "pv_test = X1_test['pageViews'].quantile(0.99)\n",
    "X1_test['heavy_pv'] = (X1_test['pageViews'] > pv_test).astype(int)"
   ]
  },
  {
   "cell_type": "code",
   "execution_count": 90,
   "id": "b432877f",
   "metadata": {
    "execution": {
     "iopub.execute_input": "2025-07-27T18:22:05.654424Z",
     "iopub.status.busy": "2025-07-27T18:22:05.654117Z",
     "iopub.status.idle": "2025-07-27T18:22:05.890739Z",
     "shell.execute_reply": "2025-07-27T18:22:05.889820Z"
    },
    "papermill": {
     "duration": 0.272993,
     "end_time": "2025-07-27T18:22:05.892302",
     "exception": false,
     "start_time": "2025-07-27T18:22:05.619309",
     "status": "completed"
    },
    "tags": []
   },
   "outputs": [
    {
     "data": {
      "text/plain": [
       "113"
      ]
     },
     "execution_count": 90,
     "metadata": {},
     "output_type": "execute_result"
    }
   ],
   "source": [
    "X1_test = encoder_te.transform(X1_test)\n",
    "X1_test=pipeline.transform(X1_test)\n",
    "X1_test.shape[1]"
   ]
  },
  {
   "cell_type": "code",
   "execution_count": 91,
   "id": "c1efa703",
   "metadata": {
    "execution": {
     "iopub.execute_input": "2025-07-27T18:22:05.961406Z",
     "iopub.status.busy": "2025-07-27T18:22:05.961106Z",
     "iopub.status.idle": "2025-07-27T18:24:41.546349Z",
     "shell.execute_reply": "2025-07-27T18:24:41.545335Z"
    },
    "papermill": {
     "duration": 155.621881,
     "end_time": "2025-07-27T18:24:41.548190",
     "exception": false,
     "start_time": "2025-07-27T18:22:05.926309",
     "status": "completed"
    },
    "tags": []
   },
   "outputs": [],
   "source": [
    "X_trans = pd.concat([pd.DataFrame(X_train), pd.DataFrame(X_test)], axis=0)\n",
    "y_trans = pd.concat([pd.Series(y_train), pd.Series(y_test)], axis=0)\n",
    "rfinal.fit(X_trans,y_trans)\n",
    "\n",
    "y_rf_pred = rfinal.predict(X1_test)"
   ]
  },
  {
   "cell_type": "code",
   "execution_count": 92,
   "id": "7f8f0808",
   "metadata": {
    "execution": {
     "iopub.execute_input": "2025-07-27T18:24:41.620447Z",
     "iopub.status.busy": "2025-07-27T18:24:41.620138Z",
     "iopub.status.idle": "2025-07-27T18:24:41.668259Z",
     "shell.execute_reply": "2025-07-27T18:24:41.667328Z"
    },
    "papermill": {
     "duration": 0.086262,
     "end_time": "2025-07-27T18:24:41.669927",
     "exception": false,
     "start_time": "2025-07-27T18:24:41.583665",
     "status": "completed"
    },
    "tags": []
   },
   "outputs": [],
   "source": [
    "submission=pd.DataFrame({\"id\":range(0,X1_test.shape[0]),\"purchaseValue\":y_rf_pred})\n",
    "submission.to_csv('submission.csv',index=False)"
   ]
  },
  {
   "cell_type": "code",
   "execution_count": 93,
   "id": "ae9bf235",
   "metadata": {
    "execution": {
     "iopub.execute_input": "2025-07-27T18:24:41.740007Z",
     "iopub.status.busy": "2025-07-27T18:24:41.739690Z",
     "iopub.status.idle": "2025-07-27T18:24:41.745203Z",
     "shell.execute_reply": "2025-07-27T18:24:41.744124Z"
    },
    "papermill": {
     "duration": 0.042459,
     "end_time": "2025-07-27T18:24:41.746790",
     "exception": false,
     "start_time": "2025-07-27T18:24:41.704331",
     "status": "completed"
    },
    "tags": []
   },
   "outputs": [
    {
     "name": "stdout",
     "output_type": "stream",
     "text": [
      "29006\n"
     ]
    }
   ],
   "source": [
    "print(submission.shape[0])  "
   ]
  }
 ],
 "metadata": {
  "kaggle": {
   "accelerator": "none",
   "dataSources": [
    {
     "databundleVersionId": 11895149,
     "sourceId": 99546,
     "sourceType": "competition"
    }
   ],
   "dockerImageVersionId": 31040,
   "isGpuEnabled": false,
   "isInternetEnabled": true,
   "language": "python",
   "sourceType": "notebook"
  },
  "kernelspec": {
   "display_name": "Python 3",
   "language": "python",
   "name": "python3"
  },
  "language_info": {
   "codemirror_mode": {
    "name": "ipython",
    "version": 3
   },
   "file_extension": ".py",
   "mimetype": "text/x-python",
   "name": "python",
   "nbconvert_exporter": "python",
   "pygments_lexer": "ipython3",
   "version": "3.11.11"
  },
  "papermill": {
   "default_parameters": {},
   "duration": 341.864649,
   "end_time": "2025-07-27T18:24:42.803669",
   "environment_variables": {},
   "exception": null,
   "input_path": "__notebook__.ipynb",
   "output_path": "__notebook__.ipynb",
   "parameters": {},
   "start_time": "2025-07-27T18:19:00.939020",
   "version": "2.6.0"
  }
 },
 "nbformat": 4,
 "nbformat_minor": 5
}
